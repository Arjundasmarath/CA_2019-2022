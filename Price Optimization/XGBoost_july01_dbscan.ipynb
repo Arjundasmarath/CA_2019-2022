{
 "cells": [
  {
   "cell_type": "code",
   "execution_count": 0,
   "metadata": {
    "application/vnd.databricks.v1+cell": {
     "inputWidgets": {},
     "nuid": "3a4b25e8-0ec3-4c32-987e-b134d358dac8",
     "showTitle": false,
     "title": ""
    }
   },
   "outputs": [
    {
     "data": {
      "text/html": [
       "<style scoped>\n",
       "  .ansiout {\n",
       "    display: block;\n",
       "    unicode-bidi: embed;\n",
       "    white-space: pre-wrap;\n",
       "    word-wrap: break-word;\n",
       "    word-break: break-all;\n",
       "    font-family: \"Source Code Pro\", \"Menlo\", monospace;;\n",
       "    font-size: 13px;\n",
       "    color: #555;\n",
       "    margin-left: 4px;\n",
       "    line-height: 19px;\n",
       "  }\n",
       "</style>\n",
       "<div class=\"ansiout\">Python interpreter will be restarted.\n",
       "Requirement already satisfied: xgboost in /local_disk0/.ephemeral_nfs/envs/pythonEnv-ee5780f8-2cb3-434b-b27a-a6343b230ef6/lib/python3.7/site-packages (1.1.1)\n",
       "Requirement already satisfied: scipy in /local_disk0/.ephemeral_nfs/envs/pythonEnv-ee5780f8-2cb3-434b-b27a-a6343b230ef6/lib/python3.7/site-packages (from xgboost) (1.4.1)\n",
       "Requirement already satisfied: numpy in /local_disk0/.ephemeral_nfs/envs/pythonEnv-ee5780f8-2cb3-434b-b27a-a6343b230ef6/lib/python3.7/site-packages (from xgboost) (1.18.1)\n",
       "Python interpreter will be restarted.\n",
       "</div>"
      ]
     },
     "metadata": {
      "application/vnd.databricks.v1+output": {
       "addedWidgets": {},
       "arguments": {},
       "data": "<div class=\"ansiout\">Python interpreter will be restarted.\nRequirement already satisfied: xgboost in /local_disk0/.ephemeral_nfs/envs/pythonEnv-ee5780f8-2cb3-434b-b27a-a6343b230ef6/lib/python3.7/site-packages (1.1.1)\nRequirement already satisfied: scipy in /local_disk0/.ephemeral_nfs/envs/pythonEnv-ee5780f8-2cb3-434b-b27a-a6343b230ef6/lib/python3.7/site-packages (from xgboost) (1.4.1)\nRequirement already satisfied: numpy in /local_disk0/.ephemeral_nfs/envs/pythonEnv-ee5780f8-2cb3-434b-b27a-a6343b230ef6/lib/python3.7/site-packages (from xgboost) (1.18.1)\nPython interpreter will be restarted.\n</div>",
       "datasetInfos": [],
       "metadata": {},
       "removedWidgets": [],
       "type": "html"
      }
     },
     "output_type": "display_data"
    }
   ],
   "source": [
    "pip install xgboost"
   ]
  },
  {
   "cell_type": "code",
   "execution_count": 0,
   "metadata": {
    "application/vnd.databricks.v1+cell": {
     "inputWidgets": {},
     "nuid": "1aec1f97-565f-4b38-a6e8-f6137235dbd4",
     "showTitle": false,
     "title": ""
    }
   },
   "outputs": [
    {
     "data": {
      "text/html": [
       "<style scoped>\n",
       "  .ansiout {\n",
       "    display: block;\n",
       "    unicode-bidi: embed;\n",
       "    white-space: pre-wrap;\n",
       "    word-wrap: break-word;\n",
       "    word-break: break-all;\n",
       "    font-family: \"Source Code Pro\", \"Menlo\", monospace;;\n",
       "    font-size: 13px;\n",
       "    color: #555;\n",
       "    margin-left: 4px;\n",
       "    line-height: 19px;\n",
       "  }\n",
       "</style>\n",
       "<div class=\"ansiout\"></div>"
      ]
     },
     "metadata": {
      "application/vnd.databricks.v1+output": {
       "addedWidgets": {},
       "arguments": {},
       "data": "<div class=\"ansiout\"></div>",
       "datasetInfos": [],
       "metadata": {},
       "removedWidgets": [],
       "type": "html"
      }
     },
     "output_type": "display_data"
    }
   ],
   "source": [
    "# import required library\n",
    "import warnings\n",
    "import numpy as np\n",
    "import pandas as pd\n",
    "import xgboost as xg\n",
    "import seaborn as sns\n",
    "from math import sqrt\n",
    "from datetime import datetime\n",
    "from pyspark.sql.types import *\n",
    "import matplotlib.pyplot as plt\n",
    "from sklearn import preprocessing\n",
    "from sklearn.ensemble import RandomForestRegressor\n",
    "from sklearn.metrics import mean_squared_error, mean_absolute_error, r2_score"
   ]
  },
  {
   "cell_type": "code",
   "execution_count": 0,
   "metadata": {
    "application/vnd.databricks.v1+cell": {
     "inputWidgets": {},
     "nuid": "415be230-7409-4a17-ac54-bddaf04b1bcb",
     "showTitle": false,
     "title": ""
    }
   },
   "outputs": [
    {
     "data": {
      "text/html": [
       "<style scoped>\n",
       "  .ansiout {\n",
       "    display: block;\n",
       "    unicode-bidi: embed;\n",
       "    white-space: pre-wrap;\n",
       "    word-wrap: break-word;\n",
       "    word-break: break-all;\n",
       "    font-family: \"Source Code Pro\", \"Menlo\", monospace;;\n",
       "    font-size: 13px;\n",
       "    color: #555;\n",
       "    margin-left: 4px;\n",
       "    line-height: 19px;\n",
       "  }\n",
       "</style>\n",
       "<div class=\"ansiout\"></div>"
      ]
     },
     "metadata": {
      "application/vnd.databricks.v1+output": {
       "addedWidgets": {},
       "arguments": {},
       "data": "<div class=\"ansiout\"></div>",
       "datasetInfos": [],
       "metadata": {},
       "removedWidgets": [],
       "type": "html"
      }
     },
     "output_type": "display_data"
    }
   ],
   "source": [
    "# remove the warnings message\n",
    "warnings.filterwarnings('ignore')\n",
    "\n",
    "schema = StructType([StructField(\"ItemID\",StringType(),True),\\\n",
    "StructField(\"Productline\",StringType(),True),\\\n",
    "StructField(\"SeriesName\",StringType(),True),\\\n",
    "StructField(\"SeriesNumber\",StringType(),True),\\\n",
    "StructField(\"Status\",StringType(),True),\\\n",
    "StructField(\"FiscalYear\",IntegerType(),True),\\\n",
    "StructField(\"FiscalWeek\",IntegerType(),True),\\\n",
    "StructField(\"AnniversarySale_MainEvent\",IntegerType(),True),\\\n",
    "StructField(\"PostIndependenceDay_PostTentpole\",IntegerType(),True),\\\n",
    "StructField(\"PreBlackFriday_PreTentpole\",IntegerType(),True),\\\n",
    "StructField(\"PreIndependenceDay_PreTentpole\",IntegerType(),True),\\\n",
    "StructField(\"PreNewYear_PreTentpole\",IntegerType(),True),\\\n",
    "StructField(\"CyberMonday_MainEvent\",IntegerType(),True),\\\n",
    "StructField(\"PostBlackFriday_PostTentpole\",IntegerType(),True),\\\n",
    "StructField(\"PostMemorialDay_PostTentpole\",IntegerType(),True),\\\n",
    "StructField(\"MemorialDay_MainEvent\",IntegerType(),True),\\\n",
    "StructField(\"PreLaborDay_PostTentpole\",IntegerType(),True),\\\n",
    "StructField(\"PreAnniversarySale_PreTentpole\",IntegerType(),True),\\\n",
    "StructField(\"BlackFriday_PostTentpole\",IntegerType(),True),\\\n",
    "StructField(\"PostAnniversarySale_PostTentpole\",IntegerType(),True),\\\n",
    "StructField(\"PostLaborDay_PostTentpole\",IntegerType(),True),\\\n",
    "StructField(\"PostNewYear_PostTentpole\",IntegerType(),True),\\\n",
    "StructField(\"LaborDay_MainEvent\",IntegerType(),True),\\\n",
    "StructField(\"BlackFriday_MainEvent\",IntegerType(),True),\\\n",
    "StructField(\"PostPresidentsDay_PostTentpole\",IntegerType(),True),\\\n",
    "StructField(\"PreLaborDay_PreTentpole\",IntegerType(),True),\\\n",
    "StructField(\"IndependenceDay_MainEvent\",IntegerType(),True),\\\n",
    "StructField(\"PreMemorialDay_PreTentpole\",IntegerType(),True),\\\n",
    "StructField(\"NewYear_MainEvent\",IntegerType(),True),\\\n",
    "StructField(\"PrePresidentsDay_PreTentpole\",IntegerType(),True),\\\n",
    "StructField(\"PresidentsDay_MainEvent\",IntegerType(),True),\\\n",
    "StructField(\"January\",IntegerType(),True),\\\n",
    "StructField(\"Feburary\",IntegerType(),True),\\\n",
    "StructField(\"March\",IntegerType(),True),\\\n",
    "StructField(\"April\",IntegerType(),True),\\\n",
    "StructField(\"May\",IntegerType(),True),\\\n",
    "StructField(\"June\",IntegerType(),True),\\\n",
    "StructField(\"July\",IntegerType(),True),\\\n",
    "StructField(\"August\",IntegerType(),True),\\\n",
    "StructField(\"September\",IntegerType(),True),\\\n",
    "StructField(\"October\",IntegerType(),True),\\\n",
    "StructField(\"November\",IntegerType(),True),\\\n",
    "StructField(\"December\",IntegerType(),True),\\\n",
    "StructField(\"AFHSPGZ1\",IntegerType(),True),\\\n",
    "StructField(\"AFHSPGZ2\",IntegerType(),True),\\\n",
    "StructField(\"AFHSPGZ3\",IntegerType(),True),\\\n",
    "StructField(\"AFHSPGZ5\",IntegerType(),True),\\\n",
    "StructField(\"AFHSPGZ6\",IntegerType(),True),\\\n",
    "StructField(\"AFHSPGZ7\",IntegerType(),True),\\\n",
    "StructField(\"AFHSPGZ8\",IntegerType(),True),\\\n",
    "StructField(\"SALES\",FloatType(),True),\\\n",
    "StructField(\"Quantity\",FloatType(),True),\\\n",
    "StructField(\"Discounts\",FloatType(),True),\\\n",
    "StructField(\"COGS\",FloatType(),True),\\\n",
    "StructField(\"PrevWeekSales\",FloatType(),True),\\\n",
    "StructField(\"PrevWeek2Sales\",FloatType(),True),\\\n",
    "StructField(\"PrevWeek3Sales\",FloatType(),True),\\\n",
    "StructField(\"PrevWeekQuantity\",FloatType(),True),\\\n",
    "StructField(\"QuantityDiff\",FloatType(),True),\\\n",
    "StructField(\"ATPQty\",FloatType(),True)\n",
    "])"
   ]
  },
  {
   "cell_type": "code",
   "execution_count": 0,
   "metadata": {
    "application/vnd.databricks.v1+cell": {
     "inputWidgets": {},
     "nuid": "de979bab-b28d-4783-af0f-2124b73e5939",
     "showTitle": false,
     "title": ""
    }
   },
   "outputs": [
    {
     "data": {
      "text/html": [
       "<style scoped>\n",
       "  .ansiout {\n",
       "    display: block;\n",
       "    unicode-bidi: embed;\n",
       "    white-space: pre-wrap;\n",
       "    word-wrap: break-word;\n",
       "    word-break: break-all;\n",
       "    font-family: \"Source Code Pro\", \"Menlo\", monospace;;\n",
       "    font-size: 13px;\n",
       "    color: #555;\n",
       "    margin-left: 4px;\n",
       "    line-height: 19px;\n",
       "  }\n",
       "</style>\n",
       "<div class=\"ansiout\"></div>"
      ]
     },
     "metadata": {
      "application/vnd.databricks.v1+output": {
       "addedWidgets": {},
       "arguments": {},
       "data": "<div class=\"ansiout\"></div>",
       "datasetInfos": [
        {
         "name": "df",
         "schema": {
          "fields": [
           {
            "metadata": {},
            "name": "ItemID",
            "nullable": true,
            "type": "string"
           },
           {
            "metadata": {},
            "name": "Productline",
            "nullable": true,
            "type": "string"
           },
           {
            "metadata": {},
            "name": "SeriesName",
            "nullable": true,
            "type": "string"
           },
           {
            "metadata": {},
            "name": "SeriesNumber",
            "nullable": true,
            "type": "string"
           },
           {
            "metadata": {},
            "name": "Status",
            "nullable": true,
            "type": "string"
           },
           {
            "metadata": {},
            "name": "FiscalYear",
            "nullable": true,
            "type": "integer"
           },
           {
            "metadata": {},
            "name": "FiscalWeek",
            "nullable": true,
            "type": "integer"
           },
           {
            "metadata": {},
            "name": "AnniversarySale_MainEvent",
            "nullable": true,
            "type": "integer"
           },
           {
            "metadata": {},
            "name": "PostIndependenceDay_PostTentpole",
            "nullable": true,
            "type": "integer"
           },
           {
            "metadata": {},
            "name": "PreBlackFriday_PreTentpole",
            "nullable": true,
            "type": "integer"
           },
           {
            "metadata": {},
            "name": "PreIndependenceDay_PreTentpole",
            "nullable": true,
            "type": "integer"
           },
           {
            "metadata": {},
            "name": "PreNewYear_PreTentpole",
            "nullable": true,
            "type": "integer"
           },
           {
            "metadata": {},
            "name": "CyberMonday_MainEvent",
            "nullable": true,
            "type": "integer"
           },
           {
            "metadata": {},
            "name": "PostBlackFriday_PostTentpole",
            "nullable": true,
            "type": "integer"
           },
           {
            "metadata": {},
            "name": "PostMemorialDay_PostTentpole",
            "nullable": true,
            "type": "integer"
           },
           {
            "metadata": {},
            "name": "MemorialDay_MainEvent",
            "nullable": true,
            "type": "integer"
           },
           {
            "metadata": {},
            "name": "PreLaborDay_PostTentpole",
            "nullable": true,
            "type": "integer"
           },
           {
            "metadata": {},
            "name": "PreAnniversarySale_PreTentpole",
            "nullable": true,
            "type": "integer"
           },
           {
            "metadata": {},
            "name": "BlackFriday_PostTentpole",
            "nullable": true,
            "type": "integer"
           },
           {
            "metadata": {},
            "name": "PostAnniversarySale_PostTentpole",
            "nullable": true,
            "type": "integer"
           },
           {
            "metadata": {},
            "name": "PostLaborDay_PostTentpole",
            "nullable": true,
            "type": "integer"
           },
           {
            "metadata": {},
            "name": "PostNewYear_PostTentpole",
            "nullable": true,
            "type": "integer"
           },
           {
            "metadata": {},
            "name": "LaborDay_MainEvent",
            "nullable": true,
            "type": "integer"
           },
           {
            "metadata": {},
            "name": "BlackFriday_MainEvent",
            "nullable": true,
            "type": "integer"
           },
           {
            "metadata": {},
            "name": "PostPresidentsDay_PostTentpole",
            "nullable": true,
            "type": "integer"
           },
           {
            "metadata": {},
            "name": "PreLaborDay_PreTentpole",
            "nullable": true,
            "type": "integer"
           },
           {
            "metadata": {},
            "name": "IndependenceDay_MainEvent",
            "nullable": true,
            "type": "integer"
           },
           {
            "metadata": {},
            "name": "PreMemorialDay_PreTentpole",
            "nullable": true,
            "type": "integer"
           },
           {
            "metadata": {},
            "name": "NewYear_MainEvent",
            "nullable": true,
            "type": "integer"
           },
           {
            "metadata": {},
            "name": "PrePresidentsDay_PreTentpole",
            "nullable": true,
            "type": "integer"
           },
           {
            "metadata": {},
            "name": "PresidentsDay_MainEvent",
            "nullable": true,
            "type": "integer"
           },
           {
            "metadata": {},
            "name": "January",
            "nullable": true,
            "type": "integer"
           },
           {
            "metadata": {},
            "name": "Feburary",
            "nullable": true,
            "type": "integer"
           },
           {
            "metadata": {},
            "name": "March",
            "nullable": true,
            "type": "integer"
           },
           {
            "metadata": {},
            "name": "April",
            "nullable": true,
            "type": "integer"
           },
           {
            "metadata": {},
            "name": "May",
            "nullable": true,
            "type": "integer"
           },
           {
            "metadata": {},
            "name": "June",
            "nullable": true,
            "type": "integer"
           },
           {
            "metadata": {},
            "name": "July",
            "nullable": true,
            "type": "integer"
           },
           {
            "metadata": {},
            "name": "August",
            "nullable": true,
            "type": "integer"
           },
           {
            "metadata": {},
            "name": "September",
            "nullable": true,
            "type": "integer"
           },
           {
            "metadata": {},
            "name": "October",
            "nullable": true,
            "type": "integer"
           },
           {
            "metadata": {},
            "name": "November",
            "nullable": true,
            "type": "integer"
           },
           {
            "metadata": {},
            "name": "December",
            "nullable": true,
            "type": "integer"
           },
           {
            "metadata": {},
            "name": "AFHSPGZ1",
            "nullable": true,
            "type": "integer"
           },
           {
            "metadata": {},
            "name": "AFHSPGZ2",
            "nullable": true,
            "type": "integer"
           },
           {
            "metadata": {},
            "name": "AFHSPGZ3",
            "nullable": true,
            "type": "integer"
           },
           {
            "metadata": {},
            "name": "AFHSPGZ5",
            "nullable": true,
            "type": "integer"
           },
           {
            "metadata": {},
            "name": "AFHSPGZ6",
            "nullable": true,
            "type": "integer"
           },
           {
            "metadata": {},
            "name": "AFHSPGZ7",
            "nullable": true,
            "type": "integer"
           },
           {
            "metadata": {},
            "name": "AFHSPGZ8",
            "nullable": true,
            "type": "integer"
           },
           {
            "metadata": {},
            "name": "SALES",
            "nullable": true,
            "type": "float"
           },
           {
            "metadata": {},
            "name": "Quantity",
            "nullable": true,
            "type": "float"
           },
           {
            "metadata": {},
            "name": "Discounts",
            "nullable": true,
            "type": "float"
           },
           {
            "metadata": {},
            "name": "COGS",
            "nullable": true,
            "type": "float"
           },
           {
            "metadata": {},
            "name": "PrevWeekSales",
            "nullable": true,
            "type": "float"
           },
           {
            "metadata": {},
            "name": "PrevWeek2Sales",
            "nullable": true,
            "type": "float"
           },
           {
            "metadata": {},
            "name": "PrevWeek3Sales",
            "nullable": true,
            "type": "float"
           },
           {
            "metadata": {},
            "name": "PrevWeekQuantity",
            "nullable": true,
            "type": "float"
           },
           {
            "metadata": {},
            "name": "QuantityDiff",
            "nullable": true,
            "type": "float"
           },
           {
            "metadata": {},
            "name": "ATPQty",
            "nullable": true,
            "type": "float"
           }
          ],
          "type": "struct"
         },
         "tableIdentifier": null,
         "typeStr": "pyspark.sql.dataframe.DataFrame"
        }
       ],
       "metadata": {},
       "removedWidgets": [],
       "type": "html"
      }
     },
     "output_type": "display_data"
    }
   ],
   "source": [
    "# load the data\n",
    "df = spark.read.format(\"csv\").option(\"header\",True).schema(schema).load(\"/mnt/refined-zone/Distribution/new_data_v5/\")\n",
    "data = df.toPandas()"
   ]
  },
  {
   "cell_type": "code",
   "execution_count": 0,
   "metadata": {
    "application/vnd.databricks.v1+cell": {
     "inputWidgets": {},
     "nuid": "f060645c-4504-4e51-9e5f-0e00b80c2ca3",
     "showTitle": false,
     "title": ""
    }
   },
   "outputs": [
    {
     "data": {
      "text/html": [
       "<div>\n",
       "<style scoped>\n",
       "    .dataframe tbody tr th:only-of-type {\n",
       "        vertical-align: middle;\n",
       "    }\n",
       "\n",
       "    .dataframe tbody tr th {\n",
       "        vertical-align: top;\n",
       "    }\n",
       "\n",
       "    .dataframe thead th {\n",
       "        text-align: right;\n",
       "    }\n",
       "</style>\n",
       "<table border=\"1\" class=\"dataframe\">\n",
       "  <thead>\n",
       "    <tr style=\"text-align: right;\">\n",
       "      <th></th>\n",
       "      <th>ItemID</th>\n",
       "      <th>Productline</th>\n",
       "      <th>SeriesName</th>\n",
       "      <th>SeriesNumber</th>\n",
       "      <th>Status</th>\n",
       "      <th>FiscalYear</th>\n",
       "      <th>FiscalWeek</th>\n",
       "      <th>AnniversarySale_MainEvent</th>\n",
       "      <th>PostIndependenceDay_PostTentpole</th>\n",
       "      <th>PreBlackFriday_PreTentpole</th>\n",
       "      <th>PreIndependenceDay_PreTentpole</th>\n",
       "      <th>PreNewYear_PreTentpole</th>\n",
       "      <th>CyberMonday_MainEvent</th>\n",
       "      <th>PostBlackFriday_PostTentpole</th>\n",
       "      <th>PostMemorialDay_PostTentpole</th>\n",
       "      <th>MemorialDay_MainEvent</th>\n",
       "      <th>PreLaborDay_PostTentpole</th>\n",
       "      <th>PreAnniversarySale_PreTentpole</th>\n",
       "      <th>BlackFriday_PostTentpole</th>\n",
       "      <th>PostAnniversarySale_PostTentpole</th>\n",
       "      <th>PostLaborDay_PostTentpole</th>\n",
       "      <th>PostNewYear_PostTentpole</th>\n",
       "      <th>LaborDay_MainEvent</th>\n",
       "      <th>BlackFriday_MainEvent</th>\n",
       "      <th>PostPresidentsDay_PostTentpole</th>\n",
       "      <th>PreLaborDay_PreTentpole</th>\n",
       "      <th>IndependenceDay_MainEvent</th>\n",
       "      <th>PreMemorialDay_PreTentpole</th>\n",
       "      <th>NewYear_MainEvent</th>\n",
       "      <th>PrePresidentsDay_PreTentpole</th>\n",
       "      <th>PresidentsDay_MainEvent</th>\n",
       "      <th>January</th>\n",
       "      <th>Feburary</th>\n",
       "      <th>March</th>\n",
       "      <th>April</th>\n",
       "      <th>May</th>\n",
       "      <th>June</th>\n",
       "      <th>July</th>\n",
       "      <th>August</th>\n",
       "      <th>September</th>\n",
       "      <th>October</th>\n",
       "      <th>November</th>\n",
       "      <th>December</th>\n",
       "      <th>AFHSPGZ1</th>\n",
       "      <th>AFHSPGZ2</th>\n",
       "      <th>AFHSPGZ3</th>\n",
       "      <th>AFHSPGZ5</th>\n",
       "      <th>AFHSPGZ6</th>\n",
       "      <th>AFHSPGZ7</th>\n",
       "      <th>AFHSPGZ8</th>\n",
       "      <th>SALES</th>\n",
       "      <th>Quantity</th>\n",
       "      <th>Discounts</th>\n",
       "      <th>COGS</th>\n",
       "      <th>PrevWeekSales</th>\n",
       "      <th>PrevWeek2Sales</th>\n",
       "      <th>PrevWeek3Sales</th>\n",
       "      <th>PrevWeekQuantity</th>\n",
       "      <th>QuantityDiff</th>\n",
       "      <th>ATPQty</th>\n",
       "    </tr>\n",
       "  </thead>\n",
       "  <tbody>\n",
       "    <tr>\n",
       "      <th>0</th>\n",
       "      <td>D372-630</td>\n",
       "      <td>Dining</td>\n",
       "      <td>Centiar</td>\n",
       "      <td>D372</td>\n",
       "      <td>Current</td>\n",
       "      <td>2020</td>\n",
       "      <td>32</td>\n",
       "      <td>0</td>\n",
       "      <td>0</td>\n",
       "      <td>0</td>\n",
       "      <td>0</td>\n",
       "      <td>0</td>\n",
       "      <td>0</td>\n",
       "      <td>0</td>\n",
       "      <td>0</td>\n",
       "      <td>0</td>\n",
       "      <td>0</td>\n",
       "      <td>0</td>\n",
       "      <td>0</td>\n",
       "      <td>0</td>\n",
       "      <td>0</td>\n",
       "      <td>0</td>\n",
       "      <td>0</td>\n",
       "      <td>0</td>\n",
       "      <td>0</td>\n",
       "      <td>0</td>\n",
       "      <td>0</td>\n",
       "      <td>0</td>\n",
       "      <td>0</td>\n",
       "      <td>0</td>\n",
       "      <td>0</td>\n",
       "      <td>0</td>\n",
       "      <td>0</td>\n",
       "      <td>0</td>\n",
       "      <td>0</td>\n",
       "      <td>0</td>\n",
       "      <td>0</td>\n",
       "      <td>0</td>\n",
       "      <td>1</td>\n",
       "      <td>0</td>\n",
       "      <td>0</td>\n",
       "      <td>0</td>\n",
       "      <td>0</td>\n",
       "      <td>0</td>\n",
       "      <td>1</td>\n",
       "      <td>0</td>\n",
       "      <td>0</td>\n",
       "      <td>0</td>\n",
       "      <td>0</td>\n",
       "      <td>0</td>\n",
       "      <td>459.0</td>\n",
       "      <td>6.0</td>\n",
       "      <td>-15.300000</td>\n",
       "      <td>234.539993</td>\n",
       "      <td>306.0</td>\n",
       "      <td>306.0</td>\n",
       "      <td>612.0</td>\n",
       "      <td>4.0</td>\n",
       "      <td>2.0</td>\n",
       "      <td>NaN</td>\n",
       "    </tr>\n",
       "    <tr>\n",
       "      <th>1</th>\n",
       "      <td>D372-630</td>\n",
       "      <td>Dining</td>\n",
       "      <td>Centiar</td>\n",
       "      <td>D372</td>\n",
       "      <td>Current</td>\n",
       "      <td>2020</td>\n",
       "      <td>33</td>\n",
       "      <td>0</td>\n",
       "      <td>0</td>\n",
       "      <td>0</td>\n",
       "      <td>0</td>\n",
       "      <td>0</td>\n",
       "      <td>0</td>\n",
       "      <td>0</td>\n",
       "      <td>0</td>\n",
       "      <td>0</td>\n",
       "      <td>0</td>\n",
       "      <td>0</td>\n",
       "      <td>0</td>\n",
       "      <td>0</td>\n",
       "      <td>0</td>\n",
       "      <td>0</td>\n",
       "      <td>0</td>\n",
       "      <td>0</td>\n",
       "      <td>0</td>\n",
       "      <td>0</td>\n",
       "      <td>0</td>\n",
       "      <td>0</td>\n",
       "      <td>0</td>\n",
       "      <td>0</td>\n",
       "      <td>0</td>\n",
       "      <td>0</td>\n",
       "      <td>0</td>\n",
       "      <td>0</td>\n",
       "      <td>0</td>\n",
       "      <td>0</td>\n",
       "      <td>0</td>\n",
       "      <td>0</td>\n",
       "      <td>1</td>\n",
       "      <td>0</td>\n",
       "      <td>0</td>\n",
       "      <td>0</td>\n",
       "      <td>0</td>\n",
       "      <td>0</td>\n",
       "      <td>1</td>\n",
       "      <td>0</td>\n",
       "      <td>0</td>\n",
       "      <td>0</td>\n",
       "      <td>0</td>\n",
       "      <td>0</td>\n",
       "      <td>306.0</td>\n",
       "      <td>4.0</td>\n",
       "      <td>-22.959999</td>\n",
       "      <td>156.360001</td>\n",
       "      <td>459.0</td>\n",
       "      <td>306.0</td>\n",
       "      <td>306.0</td>\n",
       "      <td>6.0</td>\n",
       "      <td>-2.0</td>\n",
       "      <td>NaN</td>\n",
       "    </tr>\n",
       "    <tr>\n",
       "      <th>2</th>\n",
       "      <td>D372-630</td>\n",
       "      <td>Dining</td>\n",
       "      <td>Centiar</td>\n",
       "      <td>D372</td>\n",
       "      <td>Current</td>\n",
       "      <td>2020</td>\n",
       "      <td>34</td>\n",
       "      <td>0</td>\n",
       "      <td>0</td>\n",
       "      <td>0</td>\n",
       "      <td>0</td>\n",
       "      <td>0</td>\n",
       "      <td>0</td>\n",
       "      <td>0</td>\n",
       "      <td>0</td>\n",
       "      <td>0</td>\n",
       "      <td>0</td>\n",
       "      <td>0</td>\n",
       "      <td>0</td>\n",
       "      <td>0</td>\n",
       "      <td>0</td>\n",
       "      <td>0</td>\n",
       "      <td>0</td>\n",
       "      <td>0</td>\n",
       "      <td>0</td>\n",
       "      <td>0</td>\n",
       "      <td>0</td>\n",
       "      <td>0</td>\n",
       "      <td>0</td>\n",
       "      <td>0</td>\n",
       "      <td>0</td>\n",
       "      <td>0</td>\n",
       "      <td>0</td>\n",
       "      <td>0</td>\n",
       "      <td>0</td>\n",
       "      <td>0</td>\n",
       "      <td>0</td>\n",
       "      <td>0</td>\n",
       "      <td>1</td>\n",
       "      <td>0</td>\n",
       "      <td>0</td>\n",
       "      <td>0</td>\n",
       "      <td>0</td>\n",
       "      <td>0</td>\n",
       "      <td>1</td>\n",
       "      <td>0</td>\n",
       "      <td>0</td>\n",
       "      <td>0</td>\n",
       "      <td>0</td>\n",
       "      <td>0</td>\n",
       "      <td>459.0</td>\n",
       "      <td>6.0</td>\n",
       "      <td>0.000000</td>\n",
       "      <td>233.320007</td>\n",
       "      <td>306.0</td>\n",
       "      <td>459.0</td>\n",
       "      <td>306.0</td>\n",
       "      <td>4.0</td>\n",
       "      <td>2.0</td>\n",
       "      <td>NaN</td>\n",
       "    </tr>\n",
       "    <tr>\n",
       "      <th>3</th>\n",
       "      <td>D372-630</td>\n",
       "      <td>Dining</td>\n",
       "      <td>Centiar</td>\n",
       "      <td>D372</td>\n",
       "      <td>Current</td>\n",
       "      <td>2020</td>\n",
       "      <td>35</td>\n",
       "      <td>0</td>\n",
       "      <td>0</td>\n",
       "      <td>0</td>\n",
       "      <td>0</td>\n",
       "      <td>0</td>\n",
       "      <td>0</td>\n",
       "      <td>0</td>\n",
       "      <td>0</td>\n",
       "      <td>0</td>\n",
       "      <td>0</td>\n",
       "      <td>0</td>\n",
       "      <td>0</td>\n",
       "      <td>0</td>\n",
       "      <td>0</td>\n",
       "      <td>0</td>\n",
       "      <td>0</td>\n",
       "      <td>0</td>\n",
       "      <td>0</td>\n",
       "      <td>1</td>\n",
       "      <td>0</td>\n",
       "      <td>0</td>\n",
       "      <td>0</td>\n",
       "      <td>0</td>\n",
       "      <td>0</td>\n",
       "      <td>0</td>\n",
       "      <td>0</td>\n",
       "      <td>0</td>\n",
       "      <td>0</td>\n",
       "      <td>0</td>\n",
       "      <td>0</td>\n",
       "      <td>0</td>\n",
       "      <td>0</td>\n",
       "      <td>1</td>\n",
       "      <td>0</td>\n",
       "      <td>0</td>\n",
       "      <td>0</td>\n",
       "      <td>0</td>\n",
       "      <td>1</td>\n",
       "      <td>0</td>\n",
       "      <td>0</td>\n",
       "      <td>0</td>\n",
       "      <td>0</td>\n",
       "      <td>0</td>\n",
       "      <td>459.0</td>\n",
       "      <td>6.0</td>\n",
       "      <td>0.000000</td>\n",
       "      <td>232.710007</td>\n",
       "      <td>459.0</td>\n",
       "      <td>306.0</td>\n",
       "      <td>459.0</td>\n",
       "      <td>6.0</td>\n",
       "      <td>0.0</td>\n",
       "      <td>NaN</td>\n",
       "    </tr>\n",
       "    <tr>\n",
       "      <th>4</th>\n",
       "      <td>D372-630</td>\n",
       "      <td>Dining</td>\n",
       "      <td>Centiar</td>\n",
       "      <td>D372</td>\n",
       "      <td>Current</td>\n",
       "      <td>2020</td>\n",
       "      <td>36</td>\n",
       "      <td>0</td>\n",
       "      <td>0</td>\n",
       "      <td>0</td>\n",
       "      <td>0</td>\n",
       "      <td>0</td>\n",
       "      <td>0</td>\n",
       "      <td>0</td>\n",
       "      <td>0</td>\n",
       "      <td>0</td>\n",
       "      <td>0</td>\n",
       "      <td>0</td>\n",
       "      <td>0</td>\n",
       "      <td>0</td>\n",
       "      <td>0</td>\n",
       "      <td>0</td>\n",
       "      <td>1</td>\n",
       "      <td>0</td>\n",
       "      <td>0</td>\n",
       "      <td>0</td>\n",
       "      <td>0</td>\n",
       "      <td>0</td>\n",
       "      <td>0</td>\n",
       "      <td>0</td>\n",
       "      <td>0</td>\n",
       "      <td>0</td>\n",
       "      <td>0</td>\n",
       "      <td>0</td>\n",
       "      <td>0</td>\n",
       "      <td>0</td>\n",
       "      <td>0</td>\n",
       "      <td>0</td>\n",
       "      <td>0</td>\n",
       "      <td>1</td>\n",
       "      <td>0</td>\n",
       "      <td>0</td>\n",
       "      <td>0</td>\n",
       "      <td>0</td>\n",
       "      <td>1</td>\n",
       "      <td>0</td>\n",
       "      <td>0</td>\n",
       "      <td>0</td>\n",
       "      <td>0</td>\n",
       "      <td>0</td>\n",
       "      <td>306.0</td>\n",
       "      <td>4.0</td>\n",
       "      <td>0.000000</td>\n",
       "      <td>156.360001</td>\n",
       "      <td>459.0</td>\n",
       "      <td>459.0</td>\n",
       "      <td>306.0</td>\n",
       "      <td>6.0</td>\n",
       "      <td>-2.0</td>\n",
       "      <td>NaN</td>\n",
       "    </tr>\n",
       "  </tbody>\n",
       "</table>\n",
       "</div>"
      ]
     },
     "metadata": {
      "application/vnd.databricks.v1+output": {
       "addedWidgets": {},
       "arguments": {},
       "data": "<div>\n<style scoped>\n    .dataframe tbody tr th:only-of-type {\n        vertical-align: middle;\n    }\n\n    .dataframe tbody tr th {\n        vertical-align: top;\n    }\n\n    .dataframe thead th {\n        text-align: right;\n    }\n</style>\n<table border=\"1\" class=\"dataframe\">\n  <thead>\n    <tr style=\"text-align: right;\">\n      <th></th>\n      <th>ItemID</th>\n      <th>Productline</th>\n      <th>SeriesName</th>\n      <th>SeriesNumber</th>\n      <th>Status</th>\n      <th>FiscalYear</th>\n      <th>FiscalWeek</th>\n      <th>AnniversarySale_MainEvent</th>\n      <th>PostIndependenceDay_PostTentpole</th>\n      <th>PreBlackFriday_PreTentpole</th>\n      <th>PreIndependenceDay_PreTentpole</th>\n      <th>PreNewYear_PreTentpole</th>\n      <th>CyberMonday_MainEvent</th>\n      <th>PostBlackFriday_PostTentpole</th>\n      <th>PostMemorialDay_PostTentpole</th>\n      <th>MemorialDay_MainEvent</th>\n      <th>PreLaborDay_PostTentpole</th>\n      <th>PreAnniversarySale_PreTentpole</th>\n      <th>BlackFriday_PostTentpole</th>\n      <th>PostAnniversarySale_PostTentpole</th>\n      <th>PostLaborDay_PostTentpole</th>\n      <th>PostNewYear_PostTentpole</th>\n      <th>LaborDay_MainEvent</th>\n      <th>BlackFriday_MainEvent</th>\n      <th>PostPresidentsDay_PostTentpole</th>\n      <th>PreLaborDay_PreTentpole</th>\n      <th>IndependenceDay_MainEvent</th>\n      <th>PreMemorialDay_PreTentpole</th>\n      <th>NewYear_MainEvent</th>\n      <th>PrePresidentsDay_PreTentpole</th>\n      <th>PresidentsDay_MainEvent</th>\n      <th>January</th>\n      <th>Feburary</th>\n      <th>March</th>\n      <th>April</th>\n      <th>May</th>\n      <th>June</th>\n      <th>July</th>\n      <th>August</th>\n      <th>September</th>\n      <th>October</th>\n      <th>November</th>\n      <th>December</th>\n      <th>AFHSPGZ1</th>\n      <th>AFHSPGZ2</th>\n      <th>AFHSPGZ3</th>\n      <th>AFHSPGZ5</th>\n      <th>AFHSPGZ6</th>\n      <th>AFHSPGZ7</th>\n      <th>AFHSPGZ8</th>\n      <th>SALES</th>\n      <th>Quantity</th>\n      <th>Discounts</th>\n      <th>COGS</th>\n      <th>PrevWeekSales</th>\n      <th>PrevWeek2Sales</th>\n      <th>PrevWeek3Sales</th>\n      <th>PrevWeekQuantity</th>\n      <th>QuantityDiff</th>\n      <th>ATPQty</th>\n    </tr>\n  </thead>\n  <tbody>\n    <tr>\n      <th>0</th>\n      <td>D372-630</td>\n      <td>Dining</td>\n      <td>Centiar</td>\n      <td>D372</td>\n      <td>Current</td>\n      <td>2020</td>\n      <td>32</td>\n      <td>0</td>\n      <td>0</td>\n      <td>0</td>\n      <td>0</td>\n      <td>0</td>\n      <td>0</td>\n      <td>0</td>\n      <td>0</td>\n      <td>0</td>\n      <td>0</td>\n      <td>0</td>\n      <td>0</td>\n      <td>0</td>\n      <td>0</td>\n      <td>0</td>\n      <td>0</td>\n      <td>0</td>\n      <td>0</td>\n      <td>0</td>\n      <td>0</td>\n      <td>0</td>\n      <td>0</td>\n      <td>0</td>\n      <td>0</td>\n      <td>0</td>\n      <td>0</td>\n      <td>0</td>\n      <td>0</td>\n      <td>0</td>\n      <td>0</td>\n      <td>0</td>\n      <td>1</td>\n      <td>0</td>\n      <td>0</td>\n      <td>0</td>\n      <td>0</td>\n      <td>0</td>\n      <td>1</td>\n      <td>0</td>\n      <td>0</td>\n      <td>0</td>\n      <td>0</td>\n      <td>0</td>\n      <td>459.0</td>\n      <td>6.0</td>\n      <td>-15.300000</td>\n      <td>234.539993</td>\n      <td>306.0</td>\n      <td>306.0</td>\n      <td>612.0</td>\n      <td>4.0</td>\n      <td>2.0</td>\n      <td>NaN</td>\n    </tr>\n    <tr>\n      <th>1</th>\n      <td>D372-630</td>\n      <td>Dining</td>\n      <td>Centiar</td>\n      <td>D372</td>\n      <td>Current</td>\n      <td>2020</td>\n      <td>33</td>\n      <td>0</td>\n      <td>0</td>\n      <td>0</td>\n      <td>0</td>\n      <td>0</td>\n      <td>0</td>\n      <td>0</td>\n      <td>0</td>\n      <td>0</td>\n      <td>0</td>\n      <td>0</td>\n      <td>0</td>\n      <td>0</td>\n      <td>0</td>\n      <td>0</td>\n      <td>0</td>\n      <td>0</td>\n      <td>0</td>\n      <td>0</td>\n      <td>0</td>\n      <td>0</td>\n      <td>0</td>\n      <td>0</td>\n      <td>0</td>\n      <td>0</td>\n      <td>0</td>\n      <td>0</td>\n      <td>0</td>\n      <td>0</td>\n      <td>0</td>\n      <td>0</td>\n      <td>1</td>\n      <td>0</td>\n      <td>0</td>\n      <td>0</td>\n      <td>0</td>\n      <td>0</td>\n      <td>1</td>\n      <td>0</td>\n      <td>0</td>\n      <td>0</td>\n      <td>0</td>\n      <td>0</td>\n      <td>306.0</td>\n      <td>4.0</td>\n      <td>-22.959999</td>\n      <td>156.360001</td>\n      <td>459.0</td>\n      <td>306.0</td>\n      <td>306.0</td>\n      <td>6.0</td>\n      <td>-2.0</td>\n      <td>NaN</td>\n    </tr>\n    <tr>\n      <th>2</th>\n      <td>D372-630</td>\n      <td>Dining</td>\n      <td>Centiar</td>\n      <td>D372</td>\n      <td>Current</td>\n      <td>2020</td>\n      <td>34</td>\n      <td>0</td>\n      <td>0</td>\n      <td>0</td>\n      <td>0</td>\n      <td>0</td>\n      <td>0</td>\n      <td>0</td>\n      <td>0</td>\n      <td>0</td>\n      <td>0</td>\n      <td>0</td>\n      <td>0</td>\n      <td>0</td>\n      <td>0</td>\n      <td>0</td>\n      <td>0</td>\n      <td>0</td>\n      <td>0</td>\n      <td>0</td>\n      <td>0</td>\n      <td>0</td>\n      <td>0</td>\n      <td>0</td>\n      <td>0</td>\n      <td>0</td>\n      <td>0</td>\n      <td>0</td>\n      <td>0</td>\n      <td>0</td>\n      <td>0</td>\n      <td>0</td>\n      <td>1</td>\n      <td>0</td>\n      <td>0</td>\n      <td>0</td>\n      <td>0</td>\n      <td>0</td>\n      <td>1</td>\n      <td>0</td>\n      <td>0</td>\n      <td>0</td>\n      <td>0</td>\n      <td>0</td>\n      <td>459.0</td>\n      <td>6.0</td>\n      <td>0.000000</td>\n      <td>233.320007</td>\n      <td>306.0</td>\n      <td>459.0</td>\n      <td>306.0</td>\n      <td>4.0</td>\n      <td>2.0</td>\n      <td>NaN</td>\n    </tr>\n    <tr>\n      <th>3</th>\n      <td>D372-630</td>\n      <td>Dining</td>\n      <td>Centiar</td>\n      <td>D372</td>\n      <td>Current</td>\n      <td>2020</td>\n      <td>35</td>\n      <td>0</td>\n      <td>0</td>\n      <td>0</td>\n      <td>0</td>\n      <td>0</td>\n      <td>0</td>\n      <td>0</td>\n      <td>0</td>\n      <td>0</td>\n      <td>0</td>\n      <td>0</td>\n      <td>0</td>\n      <td>0</td>\n      <td>0</td>\n      <td>0</td>\n      <td>0</td>\n      <td>0</td>\n      <td>0</td>\n      <td>1</td>\n      <td>0</td>\n      <td>0</td>\n      <td>0</td>\n      <td>0</td>\n      <td>0</td>\n      <td>0</td>\n      <td>0</td>\n      <td>0</td>\n      <td>0</td>\n      <td>0</td>\n      <td>0</td>\n      <td>0</td>\n      <td>0</td>\n      <td>1</td>\n      <td>0</td>\n      <td>0</td>\n      <td>0</td>\n      <td>0</td>\n      <td>1</td>\n      <td>0</td>\n      <td>0</td>\n      <td>0</td>\n      <td>0</td>\n      <td>0</td>\n      <td>459.0</td>\n      <td>6.0</td>\n      <td>0.000000</td>\n      <td>232.710007</td>\n      <td>459.0</td>\n      <td>306.0</td>\n      <td>459.0</td>\n      <td>6.0</td>\n      <td>0.0</td>\n      <td>NaN</td>\n    </tr>\n    <tr>\n      <th>4</th>\n      <td>D372-630</td>\n      <td>Dining</td>\n      <td>Centiar</td>\n      <td>D372</td>\n      <td>Current</td>\n      <td>2020</td>\n      <td>36</td>\n      <td>0</td>\n      <td>0</td>\n      <td>0</td>\n      <td>0</td>\n      <td>0</td>\n      <td>0</td>\n      <td>0</td>\n      <td>0</td>\n      <td>0</td>\n      <td>0</td>\n      <td>0</td>\n      <td>0</td>\n      <td>0</td>\n      <td>0</td>\n      <td>0</td>\n      <td>1</td>\n      <td>0</td>\n      <td>0</td>\n      <td>0</td>\n      <td>0</td>\n      <td>0</td>\n      <td>0</td>\n      <td>0</td>\n      <td>0</td>\n      <td>0</td>\n      <td>0</td>\n      <td>0</td>\n      <td>0</td>\n      <td>0</td>\n      <td>0</td>\n      <td>0</td>\n      <td>0</td>\n      <td>1</td>\n      <td>0</td>\n      <td>0</td>\n      <td>0</td>\n      <td>0</td>\n      <td>1</td>\n      <td>0</td>\n      <td>0</td>\n      <td>0</td>\n      <td>0</td>\n      <td>0</td>\n      <td>306.0</td>\n      <td>4.0</td>\n      <td>0.000000</td>\n      <td>156.360001</td>\n      <td>459.0</td>\n      <td>459.0</td>\n      <td>306.0</td>\n      <td>6.0</td>\n      <td>-2.0</td>\n      <td>NaN</td>\n    </tr>\n  </tbody>\n</table>\n</div>",
       "datasetInfos": [],
       "metadata": {},
       "removedWidgets": [],
       "textData": "<div class=\"ansiout\">Out[4]: </div>",
       "type": "htmlSandbox"
      }
     },
     "output_type": "display_data"
    }
   ],
   "source": [
    "#cdf = spark.read.format(\"csv\").option(\"header\",True).schema(schema).load(\"/mnt/refined-zone/Distribution/new_data/\")\n",
    "#df = cdf.toPandas()\n",
    "data.head()"
   ]
  },
  {
   "cell_type": "code",
   "execution_count": 0,
   "metadata": {
    "application/vnd.databricks.v1+cell": {
     "inputWidgets": {},
     "nuid": "98cc44bd-757d-4029-9bae-23259d41d974",
     "showTitle": false,
     "title": ""
    }
   },
   "outputs": [
    {
     "data": {
      "text/html": [
       "<style scoped>\n",
       "  .ansiout {\n",
       "    display: block;\n",
       "    unicode-bidi: embed;\n",
       "    white-space: pre-wrap;\n",
       "    word-wrap: break-word;\n",
       "    word-break: break-all;\n",
       "    font-family: \"Source Code Pro\", \"Menlo\", monospace;;\n",
       "    font-size: 13px;\n",
       "    color: #555;\n",
       "    margin-left: 4px;\n",
       "    line-height: 19px;\n",
       "  }\n",
       "</style>\n",
       "<div class=\"ansiout\"></div>"
      ]
     },
     "metadata": {
      "application/vnd.databricks.v1+output": {
       "addedWidgets": {},
       "arguments": {},
       "data": "<div class=\"ansiout\"></div>",
       "datasetInfos": [],
       "metadata": {},
       "removedWidgets": [],
       "type": "html"
      }
     },
     "output_type": "display_data"
    }
   ],
   "source": [
    "# Filter data with quantity more than 0\n",
    "data = data[(data['FiscalYear']>=2021)]"
   ]
  },
  {
   "cell_type": "code",
   "execution_count": 0,
   "metadata": {
    "application/vnd.databricks.v1+cell": {
     "inputWidgets": {},
     "nuid": "384677c9-9b1a-4a5b-8d7b-41a91b524c1c",
     "showTitle": false,
     "title": ""
    }
   },
   "outputs": [
    {
     "data": {
      "text/html": [
       "<div>\n",
       "<style scoped>\n",
       "    .dataframe tbody tr th:only-of-type {\n",
       "        vertical-align: middle;\n",
       "    }\n",
       "\n",
       "    .dataframe tbody tr th {\n",
       "        vertical-align: top;\n",
       "    }\n",
       "\n",
       "    .dataframe thead th {\n",
       "        text-align: right;\n",
       "    }\n",
       "</style>\n",
       "<table border=\"1\" class=\"dataframe\">\n",
       "  <thead>\n",
       "    <tr style=\"text-align: right;\">\n",
       "      <th></th>\n",
       "      <th>Quantity</th>\n",
       "      <th>ATPQty</th>\n",
       "      <th>COGS</th>\n",
       "    </tr>\n",
       "  </thead>\n",
       "  <tbody>\n",
       "    <tr>\n",
       "      <th>count</th>\n",
       "      <td>2.494639e+06</td>\n",
       "      <td>2.478287e+06</td>\n",
       "      <td>2.494639e+06</td>\n",
       "    </tr>\n",
       "    <tr>\n",
       "      <th>mean</th>\n",
       "      <td>1.077649e+00</td>\n",
       "      <td>3.355867e+01</td>\n",
       "      <td>1.602094e+02</td>\n",
       "    </tr>\n",
       "    <tr>\n",
       "      <th>std</th>\n",
       "      <td>5.669652e+00</td>\n",
       "      <td>1.641740e+02</td>\n",
       "      <td>7.418458e+02</td>\n",
       "    </tr>\n",
       "    <tr>\n",
       "      <th>min</th>\n",
       "      <td>0.000000e+00</td>\n",
       "      <td>-2.023000e+03</td>\n",
       "      <td>0.000000e+00</td>\n",
       "    </tr>\n",
       "    <tr>\n",
       "      <th>25%</th>\n",
       "      <td>0.000000e+00</td>\n",
       "      <td>0.000000e+00</td>\n",
       "      <td>0.000000e+00</td>\n",
       "    </tr>\n",
       "    <tr>\n",
       "      <th>50%</th>\n",
       "      <td>0.000000e+00</td>\n",
       "      <td>0.000000e+00</td>\n",
       "      <td>0.000000e+00</td>\n",
       "    </tr>\n",
       "    <tr>\n",
       "      <th>75%</th>\n",
       "      <td>1.000000e+00</td>\n",
       "      <td>1.950000e+01</td>\n",
       "      <td>4.214505e+01</td>\n",
       "    </tr>\n",
       "    <tr>\n",
       "      <th>max</th>\n",
       "      <td>9.099999e+02</td>\n",
       "      <td>1.265350e+04</td>\n",
       "      <td>1.237573e+05</td>\n",
       "    </tr>\n",
       "  </tbody>\n",
       "</table>\n",
       "</div>"
      ]
     },
     "metadata": {
      "application/vnd.databricks.v1+output": {
       "addedWidgets": {},
       "arguments": {},
       "data": "<div>\n<style scoped>\n    .dataframe tbody tr th:only-of-type {\n        vertical-align: middle;\n    }\n\n    .dataframe tbody tr th {\n        vertical-align: top;\n    }\n\n    .dataframe thead th {\n        text-align: right;\n    }\n</style>\n<table border=\"1\" class=\"dataframe\">\n  <thead>\n    <tr style=\"text-align: right;\">\n      <th></th>\n      <th>Quantity</th>\n      <th>ATPQty</th>\n      <th>COGS</th>\n    </tr>\n  </thead>\n  <tbody>\n    <tr>\n      <th>count</th>\n      <td>2.494639e+06</td>\n      <td>2.478287e+06</td>\n      <td>2.494639e+06</td>\n    </tr>\n    <tr>\n      <th>mean</th>\n      <td>1.077649e+00</td>\n      <td>3.355867e+01</td>\n      <td>1.602094e+02</td>\n    </tr>\n    <tr>\n      <th>std</th>\n      <td>5.669652e+00</td>\n      <td>1.641740e+02</td>\n      <td>7.418458e+02</td>\n    </tr>\n    <tr>\n      <th>min</th>\n      <td>0.000000e+00</td>\n      <td>-2.023000e+03</td>\n      <td>0.000000e+00</td>\n    </tr>\n    <tr>\n      <th>25%</th>\n      <td>0.000000e+00</td>\n      <td>0.000000e+00</td>\n      <td>0.000000e+00</td>\n    </tr>\n    <tr>\n      <th>50%</th>\n      <td>0.000000e+00</td>\n      <td>0.000000e+00</td>\n      <td>0.000000e+00</td>\n    </tr>\n    <tr>\n      <th>75%</th>\n      <td>1.000000e+00</td>\n      <td>1.950000e+01</td>\n      <td>4.214505e+01</td>\n    </tr>\n    <tr>\n      <th>max</th>\n      <td>9.099999e+02</td>\n      <td>1.265350e+04</td>\n      <td>1.237573e+05</td>\n    </tr>\n  </tbody>\n</table>\n</div>",
       "datasetInfos": [],
       "metadata": {},
       "removedWidgets": [],
       "textData": "<div class=\"ansiout\">Out[6]: </div>",
       "type": "htmlSandbox"
      }
     },
     "output_type": "display_data"
    }
   ],
   "source": [
    "data[['Quantity','ATPQty','COGS']].describe()"
   ]
  },
  {
   "cell_type": "code",
   "execution_count": 0,
   "metadata": {
    "application/vnd.databricks.v1+cell": {
     "inputWidgets": {},
     "nuid": "bbc996ce-1168-439a-8e0a-a3da98f5175e",
     "showTitle": false,
     "title": ""
    }
   },
   "outputs": [
    {
     "data": {
      "text/html": [
       "<style scoped>\n",
       "  .ansiout {\n",
       "    display: block;\n",
       "    unicode-bidi: embed;\n",
       "    white-space: pre-wrap;\n",
       "    word-wrap: break-word;\n",
       "    word-break: break-all;\n",
       "    font-family: \"Source Code Pro\", \"Menlo\", monospace;;\n",
       "    font-size: 13px;\n",
       "    color: #555;\n",
       "    margin-left: 4px;\n",
       "    line-height: 19px;\n",
       "  }\n",
       "</style>\n",
       "<div class=\"ansiout\">Out[7]: Index([&#39;ItemID&#39;, &#39;Productline&#39;, &#39;SeriesName&#39;, &#39;SeriesNumber&#39;, &#39;Status&#39;,\n",
       "       &#39;FiscalYear&#39;, &#39;FiscalWeek&#39;, &#39;AnniversarySale_MainEvent&#39;,\n",
       "       &#39;PostIndependenceDay_PostTentpole&#39;, &#39;PreBlackFriday_PreTentpole&#39;,\n",
       "       &#39;PreIndependenceDay_PreTentpole&#39;, &#39;PreNewYear_PreTentpole&#39;,\n",
       "       &#39;CyberMonday_MainEvent&#39;, &#39;PostBlackFriday_PostTentpole&#39;,\n",
       "       &#39;PostMemorialDay_PostTentpole&#39;, &#39;MemorialDay_MainEvent&#39;,\n",
       "       &#39;PreLaborDay_PostTentpole&#39;, &#39;PreAnniversarySale_PreTentpole&#39;,\n",
       "       &#39;BlackFriday_PostTentpole&#39;, &#39;PostAnniversarySale_PostTentpole&#39;,\n",
       "       &#39;PostLaborDay_PostTentpole&#39;, &#39;PostNewYear_PostTentpole&#39;,\n",
       "       &#39;LaborDay_MainEvent&#39;, &#39;BlackFriday_MainEvent&#39;,\n",
       "       &#39;PostPresidentsDay_PostTentpole&#39;, &#39;PreLaborDay_PreTentpole&#39;,\n",
       "       &#39;IndependenceDay_MainEvent&#39;, &#39;PreMemorialDay_PreTentpole&#39;,\n",
       "       &#39;NewYear_MainEvent&#39;, &#39;PrePresidentsDay_PreTentpole&#39;,\n",
       "       &#39;PresidentsDay_MainEvent&#39;, &#39;January&#39;, &#39;Feburary&#39;, &#39;March&#39;, &#39;April&#39;,\n",
       "       &#39;May&#39;, &#39;June&#39;, &#39;July&#39;, &#39;August&#39;, &#39;September&#39;, &#39;October&#39;, &#39;November&#39;,\n",
       "       &#39;December&#39;, &#39;AFHSPGZ1&#39;, &#39;AFHSPGZ2&#39;, &#39;AFHSPGZ3&#39;, &#39;AFHSPGZ5&#39;, &#39;AFHSPGZ6&#39;,\n",
       "       &#39;AFHSPGZ7&#39;, &#39;AFHSPGZ8&#39;, &#39;SALES&#39;, &#39;Quantity&#39;, &#39;Discounts&#39;, &#39;COGS&#39;,\n",
       "       &#39;PrevWeekSales&#39;, &#39;PrevWeek2Sales&#39;, &#39;PrevWeek3Sales&#39;, &#39;PrevWeekQuantity&#39;,\n",
       "       &#39;QuantityDiff&#39;, &#39;ATPQty&#39;],\n",
       "      dtype=&#39;object&#39;)</div>"
      ]
     },
     "metadata": {
      "application/vnd.databricks.v1+output": {
       "addedWidgets": {},
       "arguments": {},
       "data": "<div class=\"ansiout\">Out[7]: Index([&#39;ItemID&#39;, &#39;Productline&#39;, &#39;SeriesName&#39;, &#39;SeriesNumber&#39;, &#39;Status&#39;,\n       &#39;FiscalYear&#39;, &#39;FiscalWeek&#39;, &#39;AnniversarySale_MainEvent&#39;,\n       &#39;PostIndependenceDay_PostTentpole&#39;, &#39;PreBlackFriday_PreTentpole&#39;,\n       &#39;PreIndependenceDay_PreTentpole&#39;, &#39;PreNewYear_PreTentpole&#39;,\n       &#39;CyberMonday_MainEvent&#39;, &#39;PostBlackFriday_PostTentpole&#39;,\n       &#39;PostMemorialDay_PostTentpole&#39;, &#39;MemorialDay_MainEvent&#39;,\n       &#39;PreLaborDay_PostTentpole&#39;, &#39;PreAnniversarySale_PreTentpole&#39;,\n       &#39;BlackFriday_PostTentpole&#39;, &#39;PostAnniversarySale_PostTentpole&#39;,\n       &#39;PostLaborDay_PostTentpole&#39;, &#39;PostNewYear_PostTentpole&#39;,\n       &#39;LaborDay_MainEvent&#39;, &#39;BlackFriday_MainEvent&#39;,\n       &#39;PostPresidentsDay_PostTentpole&#39;, &#39;PreLaborDay_PreTentpole&#39;,\n       &#39;IndependenceDay_MainEvent&#39;, &#39;PreMemorialDay_PreTentpole&#39;,\n       &#39;NewYear_MainEvent&#39;, &#39;PrePresidentsDay_PreTentpole&#39;,\n       &#39;PresidentsDay_MainEvent&#39;, &#39;January&#39;, &#39;Feburary&#39;, &#39;March&#39;, &#39;April&#39;,\n       &#39;May&#39;, &#39;June&#39;, &#39;July&#39;, &#39;August&#39;, &#39;September&#39;, &#39;October&#39;, &#39;November&#39;,\n       &#39;December&#39;, &#39;AFHSPGZ1&#39;, &#39;AFHSPGZ2&#39;, &#39;AFHSPGZ3&#39;, &#39;AFHSPGZ5&#39;, &#39;AFHSPGZ6&#39;,\n       &#39;AFHSPGZ7&#39;, &#39;AFHSPGZ8&#39;, &#39;SALES&#39;, &#39;Quantity&#39;, &#39;Discounts&#39;, &#39;COGS&#39;,\n       &#39;PrevWeekSales&#39;, &#39;PrevWeek2Sales&#39;, &#39;PrevWeek3Sales&#39;, &#39;PrevWeekQuantity&#39;,\n       &#39;QuantityDiff&#39;, &#39;ATPQty&#39;],\n      dtype=&#39;object&#39;)</div>",
       "datasetInfos": [],
       "metadata": {},
       "removedWidgets": [],
       "type": "html"
      }
     },
     "output_type": "display_data"
    }
   ],
   "source": [
    "data.columns"
   ]
  },
  {
   "cell_type": "code",
   "execution_count": 0,
   "metadata": {
    "application/vnd.databricks.v1+cell": {
     "inputWidgets": {},
     "nuid": "39bb99a8-fee7-4fb1-b0f6-a116615cae1e",
     "showTitle": false,
     "title": ""
    }
   },
   "outputs": [
    {
     "data": {
      "text/html": [
       "<div>\n",
       "<style scoped>\n",
       "    .dataframe tbody tr th:only-of-type {\n",
       "        vertical-align: middle;\n",
       "    }\n",
       "\n",
       "    .dataframe tbody tr th {\n",
       "        vertical-align: top;\n",
       "    }\n",
       "\n",
       "    .dataframe thead th {\n",
       "        text-align: right;\n",
       "    }\n",
       "</style>\n",
       "<table border=\"1\" class=\"dataframe\">\n",
       "  <thead>\n",
       "    <tr style=\"text-align: right;\">\n",
       "      <th></th>\n",
       "      <th>ItemID</th>\n",
       "      <th>Productline</th>\n",
       "      <th>SeriesName</th>\n",
       "      <th>SeriesNumber</th>\n",
       "      <th>Status</th>\n",
       "      <th>FiscalYear</th>\n",
       "      <th>FiscalWeek</th>\n",
       "      <th>AnniversarySale_MainEvent</th>\n",
       "      <th>PostIndependenceDay_PostTentpole</th>\n",
       "      <th>PreBlackFriday_PreTentpole</th>\n",
       "      <th>PreIndependenceDay_PreTentpole</th>\n",
       "      <th>PreNewYear_PreTentpole</th>\n",
       "      <th>CyberMonday_MainEvent</th>\n",
       "      <th>PostBlackFriday_PostTentpole</th>\n",
       "      <th>PostMemorialDay_PostTentpole</th>\n",
       "      <th>MemorialDay_MainEvent</th>\n",
       "      <th>PreLaborDay_PostTentpole</th>\n",
       "      <th>PreAnniversarySale_PreTentpole</th>\n",
       "      <th>BlackFriday_PostTentpole</th>\n",
       "      <th>PostAnniversarySale_PostTentpole</th>\n",
       "      <th>PostLaborDay_PostTentpole</th>\n",
       "      <th>PostNewYear_PostTentpole</th>\n",
       "      <th>LaborDay_MainEvent</th>\n",
       "      <th>BlackFriday_MainEvent</th>\n",
       "      <th>PostPresidentsDay_PostTentpole</th>\n",
       "      <th>PreLaborDay_PreTentpole</th>\n",
       "      <th>IndependenceDay_MainEvent</th>\n",
       "      <th>PreMemorialDay_PreTentpole</th>\n",
       "      <th>NewYear_MainEvent</th>\n",
       "      <th>PrePresidentsDay_PreTentpole</th>\n",
       "      <th>PresidentsDay_MainEvent</th>\n",
       "      <th>January</th>\n",
       "      <th>Feburary</th>\n",
       "      <th>March</th>\n",
       "      <th>April</th>\n",
       "      <th>May</th>\n",
       "      <th>June</th>\n",
       "      <th>July</th>\n",
       "      <th>August</th>\n",
       "      <th>September</th>\n",
       "      <th>October</th>\n",
       "      <th>November</th>\n",
       "      <th>December</th>\n",
       "      <th>AFHSPGZ1</th>\n",
       "      <th>AFHSPGZ2</th>\n",
       "      <th>AFHSPGZ3</th>\n",
       "      <th>AFHSPGZ5</th>\n",
       "      <th>AFHSPGZ6</th>\n",
       "      <th>AFHSPGZ7</th>\n",
       "      <th>AFHSPGZ8</th>\n",
       "      <th>SALES</th>\n",
       "      <th>Quantity</th>\n",
       "      <th>Discounts</th>\n",
       "      <th>COGS</th>\n",
       "      <th>PrevWeekSales</th>\n",
       "      <th>PrevWeek2Sales</th>\n",
       "      <th>PrevWeek3Sales</th>\n",
       "      <th>PrevWeekQuantity</th>\n",
       "      <th>QuantityDiff</th>\n",
       "      <th>ATPQty</th>\n",
       "      <th>Quantity_Type</th>\n",
       "    </tr>\n",
       "  </thead>\n",
       "  <tbody>\n",
       "    <tr>\n",
       "      <th>17</th>\n",
       "      <td>D372-630</td>\n",
       "      <td>Dining</td>\n",
       "      <td>Centiar</td>\n",
       "      <td>D372</td>\n",
       "      <td>Current</td>\n",
       "      <td>2021</td>\n",
       "      <td>4</td>\n",
       "      <td>0</td>\n",
       "      <td>0</td>\n",
       "      <td>0</td>\n",
       "      <td>0</td>\n",
       "      <td>0</td>\n",
       "      <td>0</td>\n",
       "      <td>0</td>\n",
       "      <td>0</td>\n",
       "      <td>0</td>\n",
       "      <td>0</td>\n",
       "      <td>0</td>\n",
       "      <td>0</td>\n",
       "      <td>0</td>\n",
       "      <td>0</td>\n",
       "      <td>0</td>\n",
       "      <td>0</td>\n",
       "      <td>0</td>\n",
       "      <td>0</td>\n",
       "      <td>0</td>\n",
       "      <td>0</td>\n",
       "      <td>0</td>\n",
       "      <td>0</td>\n",
       "      <td>0</td>\n",
       "      <td>0</td>\n",
       "      <td>1</td>\n",
       "      <td>0</td>\n",
       "      <td>0</td>\n",
       "      <td>0</td>\n",
       "      <td>0</td>\n",
       "      <td>0</td>\n",
       "      <td>0</td>\n",
       "      <td>0</td>\n",
       "      <td>0</td>\n",
       "      <td>0</td>\n",
       "      <td>0</td>\n",
       "      <td>0</td>\n",
       "      <td>0</td>\n",
       "      <td>1</td>\n",
       "      <td>0</td>\n",
       "      <td>0</td>\n",
       "      <td>0</td>\n",
       "      <td>0</td>\n",
       "      <td>0</td>\n",
       "      <td>594.0</td>\n",
       "      <td>6.0</td>\n",
       "      <td>-59.400002</td>\n",
       "      <td>251.070007</td>\n",
       "      <td>0.0</td>\n",
       "      <td>0.0</td>\n",
       "      <td>0.0</td>\n",
       "      <td>0.0</td>\n",
       "      <td>6.0</td>\n",
       "      <td>0.0</td>\n",
       "      <td>1</td>\n",
       "    </tr>\n",
       "    <tr>\n",
       "      <th>18</th>\n",
       "      <td>D372-630</td>\n",
       "      <td>Dining</td>\n",
       "      <td>Centiar</td>\n",
       "      <td>D372</td>\n",
       "      <td>Current</td>\n",
       "      <td>2021</td>\n",
       "      <td>9</td>\n",
       "      <td>0</td>\n",
       "      <td>0</td>\n",
       "      <td>0</td>\n",
       "      <td>0</td>\n",
       "      <td>0</td>\n",
       "      <td>0</td>\n",
       "      <td>0</td>\n",
       "      <td>0</td>\n",
       "      <td>0</td>\n",
       "      <td>0</td>\n",
       "      <td>0</td>\n",
       "      <td>0</td>\n",
       "      <td>0</td>\n",
       "      <td>0</td>\n",
       "      <td>0</td>\n",
       "      <td>0</td>\n",
       "      <td>0</td>\n",
       "      <td>0</td>\n",
       "      <td>0</td>\n",
       "      <td>0</td>\n",
       "      <td>0</td>\n",
       "      <td>0</td>\n",
       "      <td>0</td>\n",
       "      <td>0</td>\n",
       "      <td>0</td>\n",
       "      <td>0</td>\n",
       "      <td>1</td>\n",
       "      <td>0</td>\n",
       "      <td>0</td>\n",
       "      <td>0</td>\n",
       "      <td>0</td>\n",
       "      <td>0</td>\n",
       "      <td>0</td>\n",
       "      <td>0</td>\n",
       "      <td>0</td>\n",
       "      <td>0</td>\n",
       "      <td>0</td>\n",
       "      <td>1</td>\n",
       "      <td>0</td>\n",
       "      <td>0</td>\n",
       "      <td>0</td>\n",
       "      <td>0</td>\n",
       "      <td>0</td>\n",
       "      <td>374.0</td>\n",
       "      <td>4.0</td>\n",
       "      <td>0.000000</td>\n",
       "      <td>168.750000</td>\n",
       "      <td>0.0</td>\n",
       "      <td>0.0</td>\n",
       "      <td>0.0</td>\n",
       "      <td>0.0</td>\n",
       "      <td>4.0</td>\n",
       "      <td>0.0</td>\n",
       "      <td>1</td>\n",
       "    </tr>\n",
       "    <tr>\n",
       "      <th>19</th>\n",
       "      <td>D372-630</td>\n",
       "      <td>Dining</td>\n",
       "      <td>Centiar</td>\n",
       "      <td>D372</td>\n",
       "      <td>Current</td>\n",
       "      <td>2021</td>\n",
       "      <td>10</td>\n",
       "      <td>0</td>\n",
       "      <td>0</td>\n",
       "      <td>0</td>\n",
       "      <td>0</td>\n",
       "      <td>0</td>\n",
       "      <td>0</td>\n",
       "      <td>0</td>\n",
       "      <td>0</td>\n",
       "      <td>0</td>\n",
       "      <td>0</td>\n",
       "      <td>0</td>\n",
       "      <td>0</td>\n",
       "      <td>0</td>\n",
       "      <td>0</td>\n",
       "      <td>0</td>\n",
       "      <td>0</td>\n",
       "      <td>0</td>\n",
       "      <td>0</td>\n",
       "      <td>0</td>\n",
       "      <td>0</td>\n",
       "      <td>0</td>\n",
       "      <td>0</td>\n",
       "      <td>0</td>\n",
       "      <td>0</td>\n",
       "      <td>0</td>\n",
       "      <td>0</td>\n",
       "      <td>1</td>\n",
       "      <td>0</td>\n",
       "      <td>0</td>\n",
       "      <td>0</td>\n",
       "      <td>0</td>\n",
       "      <td>0</td>\n",
       "      <td>0</td>\n",
       "      <td>0</td>\n",
       "      <td>0</td>\n",
       "      <td>0</td>\n",
       "      <td>0</td>\n",
       "      <td>1</td>\n",
       "      <td>0</td>\n",
       "      <td>0</td>\n",
       "      <td>0</td>\n",
       "      <td>0</td>\n",
       "      <td>0</td>\n",
       "      <td>374.0</td>\n",
       "      <td>4.0</td>\n",
       "      <td>-18.700001</td>\n",
       "      <td>169.639999</td>\n",
       "      <td>374.0</td>\n",
       "      <td>0.0</td>\n",
       "      <td>0.0</td>\n",
       "      <td>4.0</td>\n",
       "      <td>0.0</td>\n",
       "      <td>0.0</td>\n",
       "      <td>1</td>\n",
       "    </tr>\n",
       "    <tr>\n",
       "      <th>20</th>\n",
       "      <td>D372-630</td>\n",
       "      <td>Dining</td>\n",
       "      <td>Centiar</td>\n",
       "      <td>D372</td>\n",
       "      <td>Current</td>\n",
       "      <td>2021</td>\n",
       "      <td>11</td>\n",
       "      <td>0</td>\n",
       "      <td>0</td>\n",
       "      <td>0</td>\n",
       "      <td>0</td>\n",
       "      <td>0</td>\n",
       "      <td>0</td>\n",
       "      <td>0</td>\n",
       "      <td>0</td>\n",
       "      <td>0</td>\n",
       "      <td>0</td>\n",
       "      <td>1</td>\n",
       "      <td>0</td>\n",
       "      <td>0</td>\n",
       "      <td>0</td>\n",
       "      <td>0</td>\n",
       "      <td>0</td>\n",
       "      <td>0</td>\n",
       "      <td>0</td>\n",
       "      <td>0</td>\n",
       "      <td>0</td>\n",
       "      <td>0</td>\n",
       "      <td>0</td>\n",
       "      <td>0</td>\n",
       "      <td>0</td>\n",
       "      <td>0</td>\n",
       "      <td>0</td>\n",
       "      <td>1</td>\n",
       "      <td>0</td>\n",
       "      <td>0</td>\n",
       "      <td>0</td>\n",
       "      <td>0</td>\n",
       "      <td>0</td>\n",
       "      <td>0</td>\n",
       "      <td>0</td>\n",
       "      <td>0</td>\n",
       "      <td>0</td>\n",
       "      <td>0</td>\n",
       "      <td>1</td>\n",
       "      <td>0</td>\n",
       "      <td>0</td>\n",
       "      <td>0</td>\n",
       "      <td>0</td>\n",
       "      <td>0</td>\n",
       "      <td>85.0</td>\n",
       "      <td>1.0</td>\n",
       "      <td>0.000000</td>\n",
       "      <td>2.500000</td>\n",
       "      <td>374.0</td>\n",
       "      <td>374.0</td>\n",
       "      <td>0.0</td>\n",
       "      <td>4.0</td>\n",
       "      <td>-3.0</td>\n",
       "      <td>0.0</td>\n",
       "      <td>1</td>\n",
       "    </tr>\n",
       "    <tr>\n",
       "      <th>21</th>\n",
       "      <td>D372-630</td>\n",
       "      <td>Dining</td>\n",
       "      <td>Centiar</td>\n",
       "      <td>D372</td>\n",
       "      <td>Current</td>\n",
       "      <td>2021</td>\n",
       "      <td>15</td>\n",
       "      <td>0</td>\n",
       "      <td>0</td>\n",
       "      <td>0</td>\n",
       "      <td>0</td>\n",
       "      <td>0</td>\n",
       "      <td>0</td>\n",
       "      <td>0</td>\n",
       "      <td>0</td>\n",
       "      <td>0</td>\n",
       "      <td>0</td>\n",
       "      <td>0</td>\n",
       "      <td>0</td>\n",
       "      <td>0</td>\n",
       "      <td>0</td>\n",
       "      <td>0</td>\n",
       "      <td>0</td>\n",
       "      <td>0</td>\n",
       "      <td>0</td>\n",
       "      <td>0</td>\n",
       "      <td>0</td>\n",
       "      <td>0</td>\n",
       "      <td>0</td>\n",
       "      <td>0</td>\n",
       "      <td>0</td>\n",
       "      <td>0</td>\n",
       "      <td>0</td>\n",
       "      <td>0</td>\n",
       "      <td>1</td>\n",
       "      <td>0</td>\n",
       "      <td>0</td>\n",
       "      <td>0</td>\n",
       "      <td>0</td>\n",
       "      <td>0</td>\n",
       "      <td>0</td>\n",
       "      <td>0</td>\n",
       "      <td>0</td>\n",
       "      <td>0</td>\n",
       "      <td>1</td>\n",
       "      <td>0</td>\n",
       "      <td>0</td>\n",
       "      <td>0</td>\n",
       "      <td>0</td>\n",
       "      <td>0</td>\n",
       "      <td>408.0</td>\n",
       "      <td>4.0</td>\n",
       "      <td>0.000000</td>\n",
       "      <td>176.789993</td>\n",
       "      <td>0.0</td>\n",
       "      <td>0.0</td>\n",
       "      <td>0.0</td>\n",
       "      <td>0.0</td>\n",
       "      <td>4.0</td>\n",
       "      <td>0.0</td>\n",
       "      <td>1</td>\n",
       "    </tr>\n",
       "  </tbody>\n",
       "</table>\n",
       "</div>"
      ]
     },
     "metadata": {
      "application/vnd.databricks.v1+output": {
       "addedWidgets": {},
       "arguments": {},
       "data": "<div>\n<style scoped>\n    .dataframe tbody tr th:only-of-type {\n        vertical-align: middle;\n    }\n\n    .dataframe tbody tr th {\n        vertical-align: top;\n    }\n\n    .dataframe thead th {\n        text-align: right;\n    }\n</style>\n<table border=\"1\" class=\"dataframe\">\n  <thead>\n    <tr style=\"text-align: right;\">\n      <th></th>\n      <th>ItemID</th>\n      <th>Productline</th>\n      <th>SeriesName</th>\n      <th>SeriesNumber</th>\n      <th>Status</th>\n      <th>FiscalYear</th>\n      <th>FiscalWeek</th>\n      <th>AnniversarySale_MainEvent</th>\n      <th>PostIndependenceDay_PostTentpole</th>\n      <th>PreBlackFriday_PreTentpole</th>\n      <th>PreIndependenceDay_PreTentpole</th>\n      <th>PreNewYear_PreTentpole</th>\n      <th>CyberMonday_MainEvent</th>\n      <th>PostBlackFriday_PostTentpole</th>\n      <th>PostMemorialDay_PostTentpole</th>\n      <th>MemorialDay_MainEvent</th>\n      <th>PreLaborDay_PostTentpole</th>\n      <th>PreAnniversarySale_PreTentpole</th>\n      <th>BlackFriday_PostTentpole</th>\n      <th>PostAnniversarySale_PostTentpole</th>\n      <th>PostLaborDay_PostTentpole</th>\n      <th>PostNewYear_PostTentpole</th>\n      <th>LaborDay_MainEvent</th>\n      <th>BlackFriday_MainEvent</th>\n      <th>PostPresidentsDay_PostTentpole</th>\n      <th>PreLaborDay_PreTentpole</th>\n      <th>IndependenceDay_MainEvent</th>\n      <th>PreMemorialDay_PreTentpole</th>\n      <th>NewYear_MainEvent</th>\n      <th>PrePresidentsDay_PreTentpole</th>\n      <th>PresidentsDay_MainEvent</th>\n      <th>January</th>\n      <th>Feburary</th>\n      <th>March</th>\n      <th>April</th>\n      <th>May</th>\n      <th>June</th>\n      <th>July</th>\n      <th>August</th>\n      <th>September</th>\n      <th>October</th>\n      <th>November</th>\n      <th>December</th>\n      <th>AFHSPGZ1</th>\n      <th>AFHSPGZ2</th>\n      <th>AFHSPGZ3</th>\n      <th>AFHSPGZ5</th>\n      <th>AFHSPGZ6</th>\n      <th>AFHSPGZ7</th>\n      <th>AFHSPGZ8</th>\n      <th>SALES</th>\n      <th>Quantity</th>\n      <th>Discounts</th>\n      <th>COGS</th>\n      <th>PrevWeekSales</th>\n      <th>PrevWeek2Sales</th>\n      <th>PrevWeek3Sales</th>\n      <th>PrevWeekQuantity</th>\n      <th>QuantityDiff</th>\n      <th>ATPQty</th>\n      <th>Quantity_Type</th>\n    </tr>\n  </thead>\n  <tbody>\n    <tr>\n      <th>17</th>\n      <td>D372-630</td>\n      <td>Dining</td>\n      <td>Centiar</td>\n      <td>D372</td>\n      <td>Current</td>\n      <td>2021</td>\n      <td>4</td>\n      <td>0</td>\n      <td>0</td>\n      <td>0</td>\n      <td>0</td>\n      <td>0</td>\n      <td>0</td>\n      <td>0</td>\n      <td>0</td>\n      <td>0</td>\n      <td>0</td>\n      <td>0</td>\n      <td>0</td>\n      <td>0</td>\n      <td>0</td>\n      <td>0</td>\n      <td>0</td>\n      <td>0</td>\n      <td>0</td>\n      <td>0</td>\n      <td>0</td>\n      <td>0</td>\n      <td>0</td>\n      <td>0</td>\n      <td>0</td>\n      <td>1</td>\n      <td>0</td>\n      <td>0</td>\n      <td>0</td>\n      <td>0</td>\n      <td>0</td>\n      <td>0</td>\n      <td>0</td>\n      <td>0</td>\n      <td>0</td>\n      <td>0</td>\n      <td>0</td>\n      <td>0</td>\n      <td>1</td>\n      <td>0</td>\n      <td>0</td>\n      <td>0</td>\n      <td>0</td>\n      <td>0</td>\n      <td>594.0</td>\n      <td>6.0</td>\n      <td>-59.400002</td>\n      <td>251.070007</td>\n      <td>0.0</td>\n      <td>0.0</td>\n      <td>0.0</td>\n      <td>0.0</td>\n      <td>6.0</td>\n      <td>0.0</td>\n      <td>1</td>\n    </tr>\n    <tr>\n      <th>18</th>\n      <td>D372-630</td>\n      <td>Dining</td>\n      <td>Centiar</td>\n      <td>D372</td>\n      <td>Current</td>\n      <td>2021</td>\n      <td>9</td>\n      <td>0</td>\n      <td>0</td>\n      <td>0</td>\n      <td>0</td>\n      <td>0</td>\n      <td>0</td>\n      <td>0</td>\n      <td>0</td>\n      <td>0</td>\n      <td>0</td>\n      <td>0</td>\n      <td>0</td>\n      <td>0</td>\n      <td>0</td>\n      <td>0</td>\n      <td>0</td>\n      <td>0</td>\n      <td>0</td>\n      <td>0</td>\n      <td>0</td>\n      <td>0</td>\n      <td>0</td>\n      <td>0</td>\n      <td>0</td>\n      <td>0</td>\n      <td>0</td>\n      <td>1</td>\n      <td>0</td>\n      <td>0</td>\n      <td>0</td>\n      <td>0</td>\n      <td>0</td>\n      <td>0</td>\n      <td>0</td>\n      <td>0</td>\n      <td>0</td>\n      <td>0</td>\n      <td>1</td>\n      <td>0</td>\n      <td>0</td>\n      <td>0</td>\n      <td>0</td>\n      <td>0</td>\n      <td>374.0</td>\n      <td>4.0</td>\n      <td>0.000000</td>\n      <td>168.750000</td>\n      <td>0.0</td>\n      <td>0.0</td>\n      <td>0.0</td>\n      <td>0.0</td>\n      <td>4.0</td>\n      <td>0.0</td>\n      <td>1</td>\n    </tr>\n    <tr>\n      <th>19</th>\n      <td>D372-630</td>\n      <td>Dining</td>\n      <td>Centiar</td>\n      <td>D372</td>\n      <td>Current</td>\n      <td>2021</td>\n      <td>10</td>\n      <td>0</td>\n      <td>0</td>\n      <td>0</td>\n      <td>0</td>\n      <td>0</td>\n      <td>0</td>\n      <td>0</td>\n      <td>0</td>\n      <td>0</td>\n      <td>0</td>\n      <td>0</td>\n      <td>0</td>\n      <td>0</td>\n      <td>0</td>\n      <td>0</td>\n      <td>0</td>\n      <td>0</td>\n      <td>0</td>\n      <td>0</td>\n      <td>0</td>\n      <td>0</td>\n      <td>0</td>\n      <td>0</td>\n      <td>0</td>\n      <td>0</td>\n      <td>0</td>\n      <td>1</td>\n      <td>0</td>\n      <td>0</td>\n      <td>0</td>\n      <td>0</td>\n      <td>0</td>\n      <td>0</td>\n      <td>0</td>\n      <td>0</td>\n      <td>0</td>\n      <td>0</td>\n      <td>1</td>\n      <td>0</td>\n      <td>0</td>\n      <td>0</td>\n      <td>0</td>\n      <td>0</td>\n      <td>374.0</td>\n      <td>4.0</td>\n      <td>-18.700001</td>\n      <td>169.639999</td>\n      <td>374.0</td>\n      <td>0.0</td>\n      <td>0.0</td>\n      <td>4.0</td>\n      <td>0.0</td>\n      <td>0.0</td>\n      <td>1</td>\n    </tr>\n    <tr>\n      <th>20</th>\n      <td>D372-630</td>\n      <td>Dining</td>\n      <td>Centiar</td>\n      <td>D372</td>\n      <td>Current</td>\n      <td>2021</td>\n      <td>11</td>\n      <td>0</td>\n      <td>0</td>\n      <td>0</td>\n      <td>0</td>\n      <td>0</td>\n      <td>0</td>\n      <td>0</td>\n      <td>0</td>\n      <td>0</td>\n      <td>0</td>\n      <td>1</td>\n      <td>0</td>\n      <td>0</td>\n      <td>0</td>\n      <td>0</td>\n      <td>0</td>\n      <td>0</td>\n      <td>0</td>\n      <td>0</td>\n      <td>0</td>\n      <td>0</td>\n      <td>0</td>\n      <td>0</td>\n      <td>0</td>\n      <td>0</td>\n      <td>0</td>\n      <td>1</td>\n      <td>0</td>\n      <td>0</td>\n      <td>0</td>\n      <td>0</td>\n      <td>0</td>\n      <td>0</td>\n      <td>0</td>\n      <td>0</td>\n      <td>0</td>\n      <td>0</td>\n      <td>1</td>\n      <td>0</td>\n      <td>0</td>\n      <td>0</td>\n      <td>0</td>\n      <td>0</td>\n      <td>85.0</td>\n      <td>1.0</td>\n      <td>0.000000</td>\n      <td>2.500000</td>\n      <td>374.0</td>\n      <td>374.0</td>\n      <td>0.0</td>\n      <td>4.0</td>\n      <td>-3.0</td>\n      <td>0.0</td>\n      <td>1</td>\n    </tr>\n    <tr>\n      <th>21</th>\n      <td>D372-630</td>\n      <td>Dining</td>\n      <td>Centiar</td>\n      <td>D372</td>\n      <td>Current</td>\n      <td>2021</td>\n      <td>15</td>\n      <td>0</td>\n      <td>0</td>\n      <td>0</td>\n      <td>0</td>\n      <td>0</td>\n      <td>0</td>\n      <td>0</td>\n      <td>0</td>\n      <td>0</td>\n      <td>0</td>\n      <td>0</td>\n      <td>0</td>\n      <td>0</td>\n      <td>0</td>\n      <td>0</td>\n      <td>0</td>\n      <td>0</td>\n      <td>0</td>\n      <td>0</td>\n      <td>0</td>\n      <td>0</td>\n      <td>0</td>\n      <td>0</td>\n      <td>0</td>\n      <td>0</td>\n      <td>0</td>\n      <td>0</td>\n      <td>1</td>\n      <td>0</td>\n      <td>0</td>\n      <td>0</td>\n      <td>0</td>\n      <td>0</td>\n      <td>0</td>\n      <td>0</td>\n      <td>0</td>\n      <td>0</td>\n      <td>1</td>\n      <td>0</td>\n      <td>0</td>\n      <td>0</td>\n      <td>0</td>\n      <td>0</td>\n      <td>408.0</td>\n      <td>4.0</td>\n      <td>0.000000</td>\n      <td>176.789993</td>\n      <td>0.0</td>\n      <td>0.0</td>\n      <td>0.0</td>\n      <td>0.0</td>\n      <td>4.0</td>\n      <td>0.0</td>\n      <td>1</td>\n    </tr>\n  </tbody>\n</table>\n</div>",
       "datasetInfos": [],
       "metadata": {},
       "removedWidgets": [],
       "textData": "<div class=\"ansiout\">Out[8]: </div>",
       "type": "htmlSandbox"
      }
     },
     "output_type": "display_data"
    }
   ],
   "source": [
    "data['Quantity_Type'] = data['Quantity'].apply(lambda x: 1 if x>0 else 0)\n",
    "data.head()"
   ]
  },
  {
   "cell_type": "code",
   "execution_count": 0,
   "metadata": {
    "application/vnd.databricks.v1+cell": {
     "inputWidgets": {},
     "nuid": "de28c43a-5e75-4070-b274-0d180926f71a",
     "showTitle": false,
     "title": ""
    }
   },
   "outputs": [
    {
     "data": {
      "text/html": [
       "<div>\n",
       "<style scoped>\n",
       "    .dataframe tbody tr th:only-of-type {\n",
       "        vertical-align: middle;\n",
       "    }\n",
       "\n",
       "    .dataframe tbody tr th {\n",
       "        vertical-align: top;\n",
       "    }\n",
       "\n",
       "    .dataframe thead th {\n",
       "        text-align: right;\n",
       "    }\n",
       "</style>\n",
       "<table border=\"1\" class=\"dataframe\">\n",
       "  <thead>\n",
       "    <tr style=\"text-align: right;\">\n",
       "      <th></th>\n",
       "      <th>FiscalYear</th>\n",
       "      <th>FiscalWeek</th>\n",
       "      <th>AnniversarySale_MainEvent</th>\n",
       "      <th>PostIndependenceDay_PostTentpole</th>\n",
       "      <th>PreBlackFriday_PreTentpole</th>\n",
       "      <th>PreIndependenceDay_PreTentpole</th>\n",
       "      <th>PreNewYear_PreTentpole</th>\n",
       "      <th>CyberMonday_MainEvent</th>\n",
       "      <th>PostBlackFriday_PostTentpole</th>\n",
       "      <th>PostMemorialDay_PostTentpole</th>\n",
       "      <th>MemorialDay_MainEvent</th>\n",
       "      <th>PreLaborDay_PostTentpole</th>\n",
       "      <th>PreAnniversarySale_PreTentpole</th>\n",
       "      <th>BlackFriday_PostTentpole</th>\n",
       "      <th>PostAnniversarySale_PostTentpole</th>\n",
       "      <th>PostLaborDay_PostTentpole</th>\n",
       "      <th>PostNewYear_PostTentpole</th>\n",
       "      <th>LaborDay_MainEvent</th>\n",
       "      <th>BlackFriday_MainEvent</th>\n",
       "      <th>PostPresidentsDay_PostTentpole</th>\n",
       "      <th>PreLaborDay_PreTentpole</th>\n",
       "      <th>IndependenceDay_MainEvent</th>\n",
       "      <th>PreMemorialDay_PreTentpole</th>\n",
       "      <th>NewYear_MainEvent</th>\n",
       "      <th>PrePresidentsDay_PreTentpole</th>\n",
       "      <th>PresidentsDay_MainEvent</th>\n",
       "      <th>January</th>\n",
       "      <th>Feburary</th>\n",
       "      <th>March</th>\n",
       "      <th>April</th>\n",
       "      <th>May</th>\n",
       "      <th>June</th>\n",
       "      <th>July</th>\n",
       "      <th>August</th>\n",
       "      <th>September</th>\n",
       "      <th>October</th>\n",
       "      <th>November</th>\n",
       "      <th>December</th>\n",
       "      <th>AFHSPGZ1</th>\n",
       "      <th>AFHSPGZ2</th>\n",
       "      <th>AFHSPGZ3</th>\n",
       "      <th>AFHSPGZ5</th>\n",
       "      <th>AFHSPGZ6</th>\n",
       "      <th>AFHSPGZ7</th>\n",
       "      <th>AFHSPGZ8</th>\n",
       "      <th>SALES</th>\n",
       "      <th>Quantity</th>\n",
       "      <th>Discounts</th>\n",
       "      <th>COGS</th>\n",
       "      <th>PrevWeekQuantity</th>\n",
       "      <th>QuantityDiff</th>\n",
       "      <th>Quantity_Type</th>\n",
       "    </tr>\n",
       "  </thead>\n",
       "  <tbody>\n",
       "    <tr>\n",
       "      <th>17</th>\n",
       "      <td>2021</td>\n",
       "      <td>4</td>\n",
       "      <td>0</td>\n",
       "      <td>0</td>\n",
       "      <td>0</td>\n",
       "      <td>0</td>\n",
       "      <td>0</td>\n",
       "      <td>0</td>\n",
       "      <td>0</td>\n",
       "      <td>0</td>\n",
       "      <td>0</td>\n",
       "      <td>0</td>\n",
       "      <td>0</td>\n",
       "      <td>0</td>\n",
       "      <td>0</td>\n",
       "      <td>0</td>\n",
       "      <td>0</td>\n",
       "      <td>0</td>\n",
       "      <td>0</td>\n",
       "      <td>0</td>\n",
       "      <td>0</td>\n",
       "      <td>0</td>\n",
       "      <td>0</td>\n",
       "      <td>0</td>\n",
       "      <td>0</td>\n",
       "      <td>0</td>\n",
       "      <td>1</td>\n",
       "      <td>0</td>\n",
       "      <td>0</td>\n",
       "      <td>0</td>\n",
       "      <td>0</td>\n",
       "      <td>0</td>\n",
       "      <td>0</td>\n",
       "      <td>0</td>\n",
       "      <td>0</td>\n",
       "      <td>0</td>\n",
       "      <td>0</td>\n",
       "      <td>0</td>\n",
       "      <td>0</td>\n",
       "      <td>1</td>\n",
       "      <td>0</td>\n",
       "      <td>0</td>\n",
       "      <td>0</td>\n",
       "      <td>0</td>\n",
       "      <td>0</td>\n",
       "      <td>594.0</td>\n",
       "      <td>6.0</td>\n",
       "      <td>-59.400002</td>\n",
       "      <td>251.070007</td>\n",
       "      <td>0.0</td>\n",
       "      <td>6.0</td>\n",
       "      <td>1</td>\n",
       "    </tr>\n",
       "    <tr>\n",
       "      <th>18</th>\n",
       "      <td>2021</td>\n",
       "      <td>9</td>\n",
       "      <td>0</td>\n",
       "      <td>0</td>\n",
       "      <td>0</td>\n",
       "      <td>0</td>\n",
       "      <td>0</td>\n",
       "      <td>0</td>\n",
       "      <td>0</td>\n",
       "      <td>0</td>\n",
       "      <td>0</td>\n",
       "      <td>0</td>\n",
       "      <td>0</td>\n",
       "      <td>0</td>\n",
       "      <td>0</td>\n",
       "      <td>0</td>\n",
       "      <td>0</td>\n",
       "      <td>0</td>\n",
       "      <td>0</td>\n",
       "      <td>0</td>\n",
       "      <td>0</td>\n",
       "      <td>0</td>\n",
       "      <td>0</td>\n",
       "      <td>0</td>\n",
       "      <td>0</td>\n",
       "      <td>0</td>\n",
       "      <td>0</td>\n",
       "      <td>0</td>\n",
       "      <td>1</td>\n",
       "      <td>0</td>\n",
       "      <td>0</td>\n",
       "      <td>0</td>\n",
       "      <td>0</td>\n",
       "      <td>0</td>\n",
       "      <td>0</td>\n",
       "      <td>0</td>\n",
       "      <td>0</td>\n",
       "      <td>0</td>\n",
       "      <td>0</td>\n",
       "      <td>1</td>\n",
       "      <td>0</td>\n",
       "      <td>0</td>\n",
       "      <td>0</td>\n",
       "      <td>0</td>\n",
       "      <td>0</td>\n",
       "      <td>374.0</td>\n",
       "      <td>4.0</td>\n",
       "      <td>0.000000</td>\n",
       "      <td>168.750000</td>\n",
       "      <td>0.0</td>\n",
       "      <td>4.0</td>\n",
       "      <td>1</td>\n",
       "    </tr>\n",
       "    <tr>\n",
       "      <th>19</th>\n",
       "      <td>2021</td>\n",
       "      <td>10</td>\n",
       "      <td>0</td>\n",
       "      <td>0</td>\n",
       "      <td>0</td>\n",
       "      <td>0</td>\n",
       "      <td>0</td>\n",
       "      <td>0</td>\n",
       "      <td>0</td>\n",
       "      <td>0</td>\n",
       "      <td>0</td>\n",
       "      <td>0</td>\n",
       "      <td>0</td>\n",
       "      <td>0</td>\n",
       "      <td>0</td>\n",
       "      <td>0</td>\n",
       "      <td>0</td>\n",
       "      <td>0</td>\n",
       "      <td>0</td>\n",
       "      <td>0</td>\n",
       "      <td>0</td>\n",
       "      <td>0</td>\n",
       "      <td>0</td>\n",
       "      <td>0</td>\n",
       "      <td>0</td>\n",
       "      <td>0</td>\n",
       "      <td>0</td>\n",
       "      <td>0</td>\n",
       "      <td>1</td>\n",
       "      <td>0</td>\n",
       "      <td>0</td>\n",
       "      <td>0</td>\n",
       "      <td>0</td>\n",
       "      <td>0</td>\n",
       "      <td>0</td>\n",
       "      <td>0</td>\n",
       "      <td>0</td>\n",
       "      <td>0</td>\n",
       "      <td>0</td>\n",
       "      <td>1</td>\n",
       "      <td>0</td>\n",
       "      <td>0</td>\n",
       "      <td>0</td>\n",
       "      <td>0</td>\n",
       "      <td>0</td>\n",
       "      <td>374.0</td>\n",
       "      <td>4.0</td>\n",
       "      <td>-18.700001</td>\n",
       "      <td>169.639999</td>\n",
       "      <td>4.0</td>\n",
       "      <td>0.0</td>\n",
       "      <td>1</td>\n",
       "    </tr>\n",
       "    <tr>\n",
       "      <th>20</th>\n",
       "      <td>2021</td>\n",
       "      <td>11</td>\n",
       "      <td>0</td>\n",
       "      <td>0</td>\n",
       "      <td>0</td>\n",
       "      <td>0</td>\n",
       "      <td>0</td>\n",
       "      <td>0</td>\n",
       "      <td>0</td>\n",
       "      <td>0</td>\n",
       "      <td>0</td>\n",
       "      <td>0</td>\n",
       "      <td>1</td>\n",
       "      <td>0</td>\n",
       "      <td>0</td>\n",
       "      <td>0</td>\n",
       "      <td>0</td>\n",
       "      <td>0</td>\n",
       "      <td>0</td>\n",
       "      <td>0</td>\n",
       "      <td>0</td>\n",
       "      <td>0</td>\n",
       "      <td>0</td>\n",
       "      <td>0</td>\n",
       "      <td>0</td>\n",
       "      <td>0</td>\n",
       "      <td>0</td>\n",
       "      <td>0</td>\n",
       "      <td>1</td>\n",
       "      <td>0</td>\n",
       "      <td>0</td>\n",
       "      <td>0</td>\n",
       "      <td>0</td>\n",
       "      <td>0</td>\n",
       "      <td>0</td>\n",
       "      <td>0</td>\n",
       "      <td>0</td>\n",
       "      <td>0</td>\n",
       "      <td>0</td>\n",
       "      <td>1</td>\n",
       "      <td>0</td>\n",
       "      <td>0</td>\n",
       "      <td>0</td>\n",
       "      <td>0</td>\n",
       "      <td>0</td>\n",
       "      <td>85.0</td>\n",
       "      <td>1.0</td>\n",
       "      <td>0.000000</td>\n",
       "      <td>2.500000</td>\n",
       "      <td>4.0</td>\n",
       "      <td>-3.0</td>\n",
       "      <td>1</td>\n",
       "    </tr>\n",
       "    <tr>\n",
       "      <th>21</th>\n",
       "      <td>2021</td>\n",
       "      <td>15</td>\n",
       "      <td>0</td>\n",
       "      <td>0</td>\n",
       "      <td>0</td>\n",
       "      <td>0</td>\n",
       "      <td>0</td>\n",
       "      <td>0</td>\n",
       "      <td>0</td>\n",
       "      <td>0</td>\n",
       "      <td>0</td>\n",
       "      <td>0</td>\n",
       "      <td>0</td>\n",
       "      <td>0</td>\n",
       "      <td>0</td>\n",
       "      <td>0</td>\n",
       "      <td>0</td>\n",
       "      <td>0</td>\n",
       "      <td>0</td>\n",
       "      <td>0</td>\n",
       "      <td>0</td>\n",
       "      <td>0</td>\n",
       "      <td>0</td>\n",
       "      <td>0</td>\n",
       "      <td>0</td>\n",
       "      <td>0</td>\n",
       "      <td>0</td>\n",
       "      <td>0</td>\n",
       "      <td>0</td>\n",
       "      <td>1</td>\n",
       "      <td>0</td>\n",
       "      <td>0</td>\n",
       "      <td>0</td>\n",
       "      <td>0</td>\n",
       "      <td>0</td>\n",
       "      <td>0</td>\n",
       "      <td>0</td>\n",
       "      <td>0</td>\n",
       "      <td>0</td>\n",
       "      <td>1</td>\n",
       "      <td>0</td>\n",
       "      <td>0</td>\n",
       "      <td>0</td>\n",
       "      <td>0</td>\n",
       "      <td>0</td>\n",
       "      <td>408.0</td>\n",
       "      <td>4.0</td>\n",
       "      <td>0.000000</td>\n",
       "      <td>176.789993</td>\n",
       "      <td>0.0</td>\n",
       "      <td>4.0</td>\n",
       "      <td>1</td>\n",
       "    </tr>\n",
       "  </tbody>\n",
       "</table>\n",
       "</div>"
      ]
     },
     "metadata": {
      "application/vnd.databricks.v1+output": {
       "addedWidgets": {},
       "arguments": {},
       "data": "<div>\n<style scoped>\n    .dataframe tbody tr th:only-of-type {\n        vertical-align: middle;\n    }\n\n    .dataframe tbody tr th {\n        vertical-align: top;\n    }\n\n    .dataframe thead th {\n        text-align: right;\n    }\n</style>\n<table border=\"1\" class=\"dataframe\">\n  <thead>\n    <tr style=\"text-align: right;\">\n      <th></th>\n      <th>FiscalYear</th>\n      <th>FiscalWeek</th>\n      <th>AnniversarySale_MainEvent</th>\n      <th>PostIndependenceDay_PostTentpole</th>\n      <th>PreBlackFriday_PreTentpole</th>\n      <th>PreIndependenceDay_PreTentpole</th>\n      <th>PreNewYear_PreTentpole</th>\n      <th>CyberMonday_MainEvent</th>\n      <th>PostBlackFriday_PostTentpole</th>\n      <th>PostMemorialDay_PostTentpole</th>\n      <th>MemorialDay_MainEvent</th>\n      <th>PreLaborDay_PostTentpole</th>\n      <th>PreAnniversarySale_PreTentpole</th>\n      <th>BlackFriday_PostTentpole</th>\n      <th>PostAnniversarySale_PostTentpole</th>\n      <th>PostLaborDay_PostTentpole</th>\n      <th>PostNewYear_PostTentpole</th>\n      <th>LaborDay_MainEvent</th>\n      <th>BlackFriday_MainEvent</th>\n      <th>PostPresidentsDay_PostTentpole</th>\n      <th>PreLaborDay_PreTentpole</th>\n      <th>IndependenceDay_MainEvent</th>\n      <th>PreMemorialDay_PreTentpole</th>\n      <th>NewYear_MainEvent</th>\n      <th>PrePresidentsDay_PreTentpole</th>\n      <th>PresidentsDay_MainEvent</th>\n      <th>January</th>\n      <th>Feburary</th>\n      <th>March</th>\n      <th>April</th>\n      <th>May</th>\n      <th>June</th>\n      <th>July</th>\n      <th>August</th>\n      <th>September</th>\n      <th>October</th>\n      <th>November</th>\n      <th>December</th>\n      <th>AFHSPGZ1</th>\n      <th>AFHSPGZ2</th>\n      <th>AFHSPGZ3</th>\n      <th>AFHSPGZ5</th>\n      <th>AFHSPGZ6</th>\n      <th>AFHSPGZ7</th>\n      <th>AFHSPGZ8</th>\n      <th>SALES</th>\n      <th>Quantity</th>\n      <th>Discounts</th>\n      <th>COGS</th>\n      <th>PrevWeekQuantity</th>\n      <th>QuantityDiff</th>\n      <th>Quantity_Type</th>\n    </tr>\n  </thead>\n  <tbody>\n    <tr>\n      <th>17</th>\n      <td>2021</td>\n      <td>4</td>\n      <td>0</td>\n      <td>0</td>\n      <td>0</td>\n      <td>0</td>\n      <td>0</td>\n      <td>0</td>\n      <td>0</td>\n      <td>0</td>\n      <td>0</td>\n      <td>0</td>\n      <td>0</td>\n      <td>0</td>\n      <td>0</td>\n      <td>0</td>\n      <td>0</td>\n      <td>0</td>\n      <td>0</td>\n      <td>0</td>\n      <td>0</td>\n      <td>0</td>\n      <td>0</td>\n      <td>0</td>\n      <td>0</td>\n      <td>0</td>\n      <td>1</td>\n      <td>0</td>\n      <td>0</td>\n      <td>0</td>\n      <td>0</td>\n      <td>0</td>\n      <td>0</td>\n      <td>0</td>\n      <td>0</td>\n      <td>0</td>\n      <td>0</td>\n      <td>0</td>\n      <td>0</td>\n      <td>1</td>\n      <td>0</td>\n      <td>0</td>\n      <td>0</td>\n      <td>0</td>\n      <td>0</td>\n      <td>594.0</td>\n      <td>6.0</td>\n      <td>-59.400002</td>\n      <td>251.070007</td>\n      <td>0.0</td>\n      <td>6.0</td>\n      <td>1</td>\n    </tr>\n    <tr>\n      <th>18</th>\n      <td>2021</td>\n      <td>9</td>\n      <td>0</td>\n      <td>0</td>\n      <td>0</td>\n      <td>0</td>\n      <td>0</td>\n      <td>0</td>\n      <td>0</td>\n      <td>0</td>\n      <td>0</td>\n      <td>0</td>\n      <td>0</td>\n      <td>0</td>\n      <td>0</td>\n      <td>0</td>\n      <td>0</td>\n      <td>0</td>\n      <td>0</td>\n      <td>0</td>\n      <td>0</td>\n      <td>0</td>\n      <td>0</td>\n      <td>0</td>\n      <td>0</td>\n      <td>0</td>\n      <td>0</td>\n      <td>0</td>\n      <td>1</td>\n      <td>0</td>\n      <td>0</td>\n      <td>0</td>\n      <td>0</td>\n      <td>0</td>\n      <td>0</td>\n      <td>0</td>\n      <td>0</td>\n      <td>0</td>\n      <td>0</td>\n      <td>1</td>\n      <td>0</td>\n      <td>0</td>\n      <td>0</td>\n      <td>0</td>\n      <td>0</td>\n      <td>374.0</td>\n      <td>4.0</td>\n      <td>0.000000</td>\n      <td>168.750000</td>\n      <td>0.0</td>\n      <td>4.0</td>\n      <td>1</td>\n    </tr>\n    <tr>\n      <th>19</th>\n      <td>2021</td>\n      <td>10</td>\n      <td>0</td>\n      <td>0</td>\n      <td>0</td>\n      <td>0</td>\n      <td>0</td>\n      <td>0</td>\n      <td>0</td>\n      <td>0</td>\n      <td>0</td>\n      <td>0</td>\n      <td>0</td>\n      <td>0</td>\n      <td>0</td>\n      <td>0</td>\n      <td>0</td>\n      <td>0</td>\n      <td>0</td>\n      <td>0</td>\n      <td>0</td>\n      <td>0</td>\n      <td>0</td>\n      <td>0</td>\n      <td>0</td>\n      <td>0</td>\n      <td>0</td>\n      <td>0</td>\n      <td>1</td>\n      <td>0</td>\n      <td>0</td>\n      <td>0</td>\n      <td>0</td>\n      <td>0</td>\n      <td>0</td>\n      <td>0</td>\n      <td>0</td>\n      <td>0</td>\n      <td>0</td>\n      <td>1</td>\n      <td>0</td>\n      <td>0</td>\n      <td>0</td>\n      <td>0</td>\n      <td>0</td>\n      <td>374.0</td>\n      <td>4.0</td>\n      <td>-18.700001</td>\n      <td>169.639999</td>\n      <td>4.0</td>\n      <td>0.0</td>\n      <td>1</td>\n    </tr>\n    <tr>\n      <th>20</th>\n      <td>2021</td>\n      <td>11</td>\n      <td>0</td>\n      <td>0</td>\n      <td>0</td>\n      <td>0</td>\n      <td>0</td>\n      <td>0</td>\n      <td>0</td>\n      <td>0</td>\n      <td>0</td>\n      <td>0</td>\n      <td>1</td>\n      <td>0</td>\n      <td>0</td>\n      <td>0</td>\n      <td>0</td>\n      <td>0</td>\n      <td>0</td>\n      <td>0</td>\n      <td>0</td>\n      <td>0</td>\n      <td>0</td>\n      <td>0</td>\n      <td>0</td>\n      <td>0</td>\n      <td>0</td>\n      <td>0</td>\n      <td>1</td>\n      <td>0</td>\n      <td>0</td>\n      <td>0</td>\n      <td>0</td>\n      <td>0</td>\n      <td>0</td>\n      <td>0</td>\n      <td>0</td>\n      <td>0</td>\n      <td>0</td>\n      <td>1</td>\n      <td>0</td>\n      <td>0</td>\n      <td>0</td>\n      <td>0</td>\n      <td>0</td>\n      <td>85.0</td>\n      <td>1.0</td>\n      <td>0.000000</td>\n      <td>2.500000</td>\n      <td>4.0</td>\n      <td>-3.0</td>\n      <td>1</td>\n    </tr>\n    <tr>\n      <th>21</th>\n      <td>2021</td>\n      <td>15</td>\n      <td>0</td>\n      <td>0</td>\n      <td>0</td>\n      <td>0</td>\n      <td>0</td>\n      <td>0</td>\n      <td>0</td>\n      <td>0</td>\n      <td>0</td>\n      <td>0</td>\n      <td>0</td>\n      <td>0</td>\n      <td>0</td>\n      <td>0</td>\n      <td>0</td>\n      <td>0</td>\n      <td>0</td>\n      <td>0</td>\n      <td>0</td>\n      <td>0</td>\n      <td>0</td>\n      <td>0</td>\n      <td>0</td>\n      <td>0</td>\n      <td>0</td>\n      <td>0</td>\n      <td>0</td>\n      <td>1</td>\n      <td>0</td>\n      <td>0</td>\n      <td>0</td>\n      <td>0</td>\n      <td>0</td>\n      <td>0</td>\n      <td>0</td>\n      <td>0</td>\n      <td>0</td>\n      <td>1</td>\n      <td>0</td>\n      <td>0</td>\n      <td>0</td>\n      <td>0</td>\n      <td>0</td>\n      <td>408.0</td>\n      <td>4.0</td>\n      <td>0.000000</td>\n      <td>176.789993</td>\n      <td>0.0</td>\n      <td>4.0</td>\n      <td>1</td>\n    </tr>\n  </tbody>\n</table>\n</div>",
       "datasetInfos": [],
       "metadata": {},
       "removedWidgets": [],
       "textData": "<div class=\"ansiout\">Out[9]: </div>",
       "type": "htmlSandbox"
      }
     },
     "output_type": "display_data"
    }
   ],
   "source": [
    "df_new=data.drop(['ItemID','Productline','SeriesName','Status','SeriesNumber','PrevWeekSales','PrevWeek2Sales','PrevWeek3Sales','ATPQty'], axis=1) #Excluding UserId\n",
    "df_new.head()"
   ]
  },
  {
   "cell_type": "code",
   "execution_count": 0,
   "metadata": {
    "application/vnd.databricks.v1+cell": {
     "inputWidgets": {},
     "nuid": "1180c91b-5b2f-41e4-a5a6-6bf78f4243c2",
     "showTitle": false,
     "title": ""
    }
   },
   "outputs": [
    {
     "data": {
      "text/html": [
       "<style scoped>\n",
       "  .ansiout {\n",
       "    display: block;\n",
       "    unicode-bidi: embed;\n",
       "    white-space: pre-wrap;\n",
       "    word-wrap: break-word;\n",
       "    word-break: break-all;\n",
       "    font-family: \"Source Code Pro\", \"Menlo\", monospace;;\n",
       "    font-size: 13px;\n",
       "    color: #555;\n",
       "    margin-left: 4px;\n",
       "    line-height: 19px;\n",
       "  }\n",
       "</style>\n",
       "<div class=\"ansiout\">Out[10]: (2494639, 52)</div>"
      ]
     },
     "metadata": {
      "application/vnd.databricks.v1+output": {
       "addedWidgets": {},
       "arguments": {},
       "data": "<div class=\"ansiout\">Out[10]: (2494639, 52)</div>",
       "datasetInfos": [],
       "metadata": {},
       "removedWidgets": [],
       "type": "html"
      }
     },
     "output_type": "display_data"
    }
   ],
   "source": [
    "df_new.shape"
   ]
  },
  {
   "cell_type": "code",
   "execution_count": 0,
   "metadata": {
    "application/vnd.databricks.v1+cell": {
     "inputWidgets": {},
     "nuid": "b50b37b7-efad-43c9-8295-996ee2eb2ed9",
     "showTitle": false,
     "title": ""
    }
   },
   "outputs": [
    {
     "data": {
      "text/html": [
       "<style scoped>\n",
       "  .ansiout {\n",
       "    display: block;\n",
       "    unicode-bidi: embed;\n",
       "    white-space: pre-wrap;\n",
       "    word-wrap: break-word;\n",
       "    word-break: break-all;\n",
       "    font-family: \"Source Code Pro\", \"Menlo\", monospace;;\n",
       "    font-size: 13px;\n",
       "    color: #555;\n",
       "    margin-left: 4px;\n",
       "    line-height: 19px;\n",
       "  }\n",
       "</style>\n",
       "<div class=\"ansiout\"></div>"
      ]
     },
     "metadata": {
      "application/vnd.databricks.v1+output": {
       "addedWidgets": {},
       "arguments": {},
       "data": "<div class=\"ansiout\"></div>",
       "datasetInfos": [],
       "metadata": {},
       "removedWidgets": [],
       "type": "html"
      }
     },
     "output_type": "display_data"
    }
   ],
   "source": [
    "from sklearn.cluster import KMeans, DBSCAN\n",
    "from sklearn.metrics import silhouette_score, homogeneity_completeness_v_measure,homogeneity_score"
   ]
  },
  {
   "cell_type": "code",
   "execution_count": 0,
   "metadata": {
    "application/vnd.databricks.v1+cell": {
     "inputWidgets": {},
     "nuid": "2181c604-affc-4422-a3cd-247474029e72",
     "showTitle": false,
     "title": ""
    }
   },
   "outputs": [
    {
     "data": {
      "text/html": [
       "<div>\n",
       "<style scoped>\n",
       "    .dataframe tbody tr th:only-of-type {\n",
       "        vertical-align: middle;\n",
       "    }\n",
       "\n",
       "    .dataframe tbody tr th {\n",
       "        vertical-align: top;\n",
       "    }\n",
       "\n",
       "    .dataframe thead th {\n",
       "        text-align: right;\n",
       "    }\n",
       "</style>\n",
       "<table border=\"1\" class=\"dataframe\">\n",
       "  <thead>\n",
       "    <tr style=\"text-align: right;\">\n",
       "      <th></th>\n",
       "      <th>SALES</th>\n",
       "      <th>Quantity</th>\n",
       "      <th>Discounts</th>\n",
       "      <th>COGS</th>\n",
       "    </tr>\n",
       "  </thead>\n",
       "  <tbody>\n",
       "    <tr>\n",
       "      <th>17</th>\n",
       "      <td>594.0</td>\n",
       "      <td>6.0</td>\n",
       "      <td>-59.400002</td>\n",
       "      <td>251.070007</td>\n",
       "    </tr>\n",
       "    <tr>\n",
       "      <th>18</th>\n",
       "      <td>374.0</td>\n",
       "      <td>4.0</td>\n",
       "      <td>0.000000</td>\n",
       "      <td>168.750000</td>\n",
       "    </tr>\n",
       "    <tr>\n",
       "      <th>19</th>\n",
       "      <td>374.0</td>\n",
       "      <td>4.0</td>\n",
       "      <td>-18.700001</td>\n",
       "      <td>169.639999</td>\n",
       "    </tr>\n",
       "    <tr>\n",
       "      <th>20</th>\n",
       "      <td>85.0</td>\n",
       "      <td>1.0</td>\n",
       "      <td>0.000000</td>\n",
       "      <td>2.500000</td>\n",
       "    </tr>\n",
       "    <tr>\n",
       "      <th>21</th>\n",
       "      <td>408.0</td>\n",
       "      <td>4.0</td>\n",
       "      <td>0.000000</td>\n",
       "      <td>176.789993</td>\n",
       "    </tr>\n",
       "    <tr>\n",
       "      <th>...</th>\n",
       "      <td>...</td>\n",
       "      <td>...</td>\n",
       "      <td>...</td>\n",
       "      <td>...</td>\n",
       "    </tr>\n",
       "    <tr>\n",
       "      <th>4661771</th>\n",
       "      <td>0.0</td>\n",
       "      <td>0.0</td>\n",
       "      <td>0.000000</td>\n",
       "      <td>0.000000</td>\n",
       "    </tr>\n",
       "    <tr>\n",
       "      <th>4661772</th>\n",
       "      <td>0.0</td>\n",
       "      <td>0.0</td>\n",
       "      <td>0.000000</td>\n",
       "      <td>0.000000</td>\n",
       "    </tr>\n",
       "    <tr>\n",
       "      <th>4661773</th>\n",
       "      <td>0.0</td>\n",
       "      <td>0.0</td>\n",
       "      <td>0.000000</td>\n",
       "      <td>0.000000</td>\n",
       "    </tr>\n",
       "    <tr>\n",
       "      <th>4661774</th>\n",
       "      <td>0.0</td>\n",
       "      <td>0.0</td>\n",
       "      <td>0.000000</td>\n",
       "      <td>0.000000</td>\n",
       "    </tr>\n",
       "    <tr>\n",
       "      <th>4661775</th>\n",
       "      <td>0.0</td>\n",
       "      <td>0.0</td>\n",
       "      <td>0.000000</td>\n",
       "      <td>0.000000</td>\n",
       "    </tr>\n",
       "  </tbody>\n",
       "</table>\n",
       "<p>2494639 rows × 4 columns</p>\n",
       "</div>"
      ]
     },
     "metadata": {
      "application/vnd.databricks.v1+output": {
       "addedWidgets": {},
       "arguments": {},
       "data": "<div>\n<style scoped>\n    .dataframe tbody tr th:only-of-type {\n        vertical-align: middle;\n    }\n\n    .dataframe tbody tr th {\n        vertical-align: top;\n    }\n\n    .dataframe thead th {\n        text-align: right;\n    }\n</style>\n<table border=\"1\" class=\"dataframe\">\n  <thead>\n    <tr style=\"text-align: right;\">\n      <th></th>\n      <th>SALES</th>\n      <th>Quantity</th>\n      <th>Discounts</th>\n      <th>COGS</th>\n    </tr>\n  </thead>\n  <tbody>\n    <tr>\n      <th>17</th>\n      <td>594.0</td>\n      <td>6.0</td>\n      <td>-59.400002</td>\n      <td>251.070007</td>\n    </tr>\n    <tr>\n      <th>18</th>\n      <td>374.0</td>\n      <td>4.0</td>\n      <td>0.000000</td>\n      <td>168.750000</td>\n    </tr>\n    <tr>\n      <th>19</th>\n      <td>374.0</td>\n      <td>4.0</td>\n      <td>-18.700001</td>\n      <td>169.639999</td>\n    </tr>\n    <tr>\n      <th>20</th>\n      <td>85.0</td>\n      <td>1.0</td>\n      <td>0.000000</td>\n      <td>2.500000</td>\n    </tr>\n    <tr>\n      <th>21</th>\n      <td>408.0</td>\n      <td>4.0</td>\n      <td>0.000000</td>\n      <td>176.789993</td>\n    </tr>\n    <tr>\n      <th>...</th>\n      <td>...</td>\n      <td>...</td>\n      <td>...</td>\n      <td>...</td>\n    </tr>\n    <tr>\n      <th>4661771</th>\n      <td>0.0</td>\n      <td>0.0</td>\n      <td>0.000000</td>\n      <td>0.000000</td>\n    </tr>\n    <tr>\n      <th>4661772</th>\n      <td>0.0</td>\n      <td>0.0</td>\n      <td>0.000000</td>\n      <td>0.000000</td>\n    </tr>\n    <tr>\n      <th>4661773</th>\n      <td>0.0</td>\n      <td>0.0</td>\n      <td>0.000000</td>\n      <td>0.000000</td>\n    </tr>\n    <tr>\n      <th>4661774</th>\n      <td>0.0</td>\n      <td>0.0</td>\n      <td>0.000000</td>\n      <td>0.000000</td>\n    </tr>\n    <tr>\n      <th>4661775</th>\n      <td>0.0</td>\n      <td>0.0</td>\n      <td>0.000000</td>\n      <td>0.000000</td>\n    </tr>\n  </tbody>\n</table>\n<p>2494639 rows × 4 columns</p>\n</div>",
       "datasetInfos": [],
       "metadata": {},
       "removedWidgets": [],
       "textData": "<div class=\"ansiout\">Out[12]: </div>",
       "type": "htmlSandbox"
      }
     },
     "output_type": "display_data"
    }
   ],
   "source": [
    " x = df_new.iloc[:,45:49] # 1t for rows and second for columns\n",
    "x"
   ]
  },
  {
   "cell_type": "code",
   "execution_count": 0,
   "metadata": {
    "application/vnd.databricks.v1+cell": {
     "inputWidgets": {},
     "nuid": "d3ceb3f4-2877-4e71-b29f-9ae1529d82fe",
     "showTitle": false,
     "title": ""
    }
   },
   "outputs": [
    {
     "data": {
      "text/html": [
       "<style scoped>\n",
       "  .ansiout {\n",
       "    display: block;\n",
       "    unicode-bidi: embed;\n",
       "    white-space: pre-wrap;\n",
       "    word-wrap: break-word;\n",
       "    word-break: break-all;\n",
       "    font-family: \"Source Code Pro\", \"Menlo\", monospace;;\n",
       "    font-size: 13px;\n",
       "    color: #555;\n",
       "    margin-left: 4px;\n",
       "    line-height: 19px;\n",
       "  }\n",
       "</style>\n",
       "<div class=\"ansiout\">Out[13]: KMeans(algorithm=&#39;auto&#39;, copy_x=True, init=&#39;k-means++&#39;, max_iter=300,\n",
       "       n_clusters=3, n_init=10, n_jobs=None, precompute_distances=&#39;auto&#39;,\n",
       "       random_state=None, tol=0.0001, verbose=0)</div>"
      ]
     },
     "metadata": {
      "application/vnd.databricks.v1+output": {
       "addedWidgets": {},
       "arguments": {},
       "data": "<div class=\"ansiout\">Out[13]: KMeans(algorithm=&#39;auto&#39;, copy_x=True, init=&#39;k-means++&#39;, max_iter=300,\n       n_clusters=3, n_init=10, n_jobs=None, precompute_distances=&#39;auto&#39;,\n       random_state=None, tol=0.0001, verbose=0)</div>",
       "datasetInfos": [],
       "metadata": {},
       "removedWidgets": [],
       "type": "html"
      }
     },
     "output_type": "display_data"
    }
   ],
   "source": [
    "kmeans = KMeans(3)\n",
    "kmeans.fit(x)"
   ]
  },
  {
   "cell_type": "code",
   "execution_count": 0,
   "metadata": {
    "application/vnd.databricks.v1+cell": {
     "inputWidgets": {},
     "nuid": "9192171f-c2e3-46fc-9a00-e3b749b2f8a6",
     "showTitle": false,
     "title": ""
    }
   },
   "outputs": [
    {
     "data": {
      "text/html": [
       "<style scoped>\n",
       "  .ansiout {\n",
       "    display: block;\n",
       "    unicode-bidi: embed;\n",
       "    white-space: pre-wrap;\n",
       "    word-wrap: break-word;\n",
       "    word-break: break-all;\n",
       "    font-family: \"Source Code Pro\", \"Menlo\", monospace;;\n",
       "    font-size: 13px;\n",
       "    color: #555;\n",
       "    margin-left: 4px;\n",
       "    line-height: 19px;\n",
       "  }\n",
       "</style>\n",
       "<div class=\"ansiout\">Out[14]: array([0, 0, 0, ..., 0, 0, 0], dtype=int32)</div>"
      ]
     },
     "metadata": {
      "application/vnd.databricks.v1+output": {
       "addedWidgets": {},
       "arguments": {},
       "data": "<div class=\"ansiout\">Out[14]: array([0, 0, 0, ..., 0, 0, 0], dtype=int32)</div>",
       "datasetInfos": [],
       "metadata": {},
       "removedWidgets": [],
       "type": "html"
      }
     },
     "output_type": "display_data"
    }
   ],
   "source": [
    "identified_clusters = kmeans.fit_predict(x)\n",
    "identified_clusters"
   ]
  },
  {
   "cell_type": "code",
   "execution_count": 0,
   "metadata": {
    "application/vnd.databricks.v1+cell": {
     "inputWidgets": {},
     "nuid": "6229bb9b-83a2-4e48-9006-ceb551b885ee",
     "showTitle": false,
     "title": ""
    }
   },
   "outputs": [],
   "source": []
  },
  {
   "cell_type": "code",
   "execution_count": 0,
   "metadata": {
    "application/vnd.databricks.v1+cell": {
     "inputWidgets": {},
     "nuid": "5c381a6f-dfbf-425a-9005-bdff2a3825bf",
     "showTitle": false,
     "title": ""
    }
   },
   "outputs": [
    {
     "data": {
      "text/html": [
       "<div>\n",
       "<style scoped>\n",
       "    .dataframe tbody tr th:only-of-type {\n",
       "        vertical-align: middle;\n",
       "    }\n",
       "\n",
       "    .dataframe tbody tr th {\n",
       "        vertical-align: top;\n",
       "    }\n",
       "\n",
       "    .dataframe thead th {\n",
       "        text-align: right;\n",
       "    }\n",
       "</style>\n",
       "<table border=\"1\" class=\"dataframe\">\n",
       "  <thead>\n",
       "    <tr style=\"text-align: right;\">\n",
       "      <th></th>\n",
       "      <th>0</th>\n",
       "      <th>1</th>\n",
       "      <th>2</th>\n",
       "      <th>3</th>\n",
       "    </tr>\n",
       "  </thead>\n",
       "  <tbody>\n",
       "    <tr>\n",
       "      <th>count</th>\n",
       "      <td>2.494639e+06</td>\n",
       "      <td>2.494639e+06</td>\n",
       "      <td>2.494639e+06</td>\n",
       "      <td>2.494639e+06</td>\n",
       "    </tr>\n",
       "    <tr>\n",
       "      <th>mean</th>\n",
       "      <td>-1.629960e-07</td>\n",
       "      <td>-2.251899e-07</td>\n",
       "      <td>3.013542e-07</td>\n",
       "      <td>-4.176681e-07</td>\n",
       "    </tr>\n",
       "    <tr>\n",
       "      <th>std</th>\n",
       "      <td>1.000000e+00</td>\n",
       "      <td>1.000000e+00</td>\n",
       "      <td>1.000000e+00</td>\n",
       "      <td>1.000000e+00</td>\n",
       "    </tr>\n",
       "    <tr>\n",
       "      <th>min</th>\n",
       "      <td>-2.383458e-01</td>\n",
       "      <td>-1.900732e-01</td>\n",
       "      <td>-1.103404e+02</td>\n",
       "      <td>-2.159606e-01</td>\n",
       "    </tr>\n",
       "    <tr>\n",
       "      <th>25%</th>\n",
       "      <td>-2.383458e-01</td>\n",
       "      <td>-1.900732e-01</td>\n",
       "      <td>1.781688e-01</td>\n",
       "      <td>-2.159606e-01</td>\n",
       "    </tr>\n",
       "    <tr>\n",
       "      <th>50%</th>\n",
       "      <td>-2.383458e-01</td>\n",
       "      <td>-1.900732e-01</td>\n",
       "      <td>1.781688e-01</td>\n",
       "      <td>-2.159606e-01</td>\n",
       "    </tr>\n",
       "    <tr>\n",
       "      <th>75%</th>\n",
       "      <td>-1.735050e-01</td>\n",
       "      <td>-1.369550e-02</td>\n",
       "      <td>1.781688e-01</td>\n",
       "      <td>-1.591495e-01</td>\n",
       "    </tr>\n",
       "    <tr>\n",
       "      <th>max</th>\n",
       "      <td>1.382309e+02</td>\n",
       "      <td>1.603136e+02</td>\n",
       "      <td>1.781688e-01</td>\n",
       "      <td>1.666075e+02</td>\n",
       "    </tr>\n",
       "  </tbody>\n",
       "</table>\n",
       "</div>"
      ]
     },
     "metadata": {
      "application/vnd.databricks.v1+output": {
       "addedWidgets": {},
       "arguments": {},
       "data": "<div>\n<style scoped>\n    .dataframe tbody tr th:only-of-type {\n        vertical-align: middle;\n    }\n\n    .dataframe tbody tr th {\n        vertical-align: top;\n    }\n\n    .dataframe thead th {\n        text-align: right;\n    }\n</style>\n<table border=\"1\" class=\"dataframe\">\n  <thead>\n    <tr style=\"text-align: right;\">\n      <th></th>\n      <th>0</th>\n      <th>1</th>\n      <th>2</th>\n      <th>3</th>\n    </tr>\n  </thead>\n  <tbody>\n    <tr>\n      <th>count</th>\n      <td>2.494639e+06</td>\n      <td>2.494639e+06</td>\n      <td>2.494639e+06</td>\n      <td>2.494639e+06</td>\n    </tr>\n    <tr>\n      <th>mean</th>\n      <td>-1.629960e-07</td>\n      <td>-2.251899e-07</td>\n      <td>3.013542e-07</td>\n      <td>-4.176681e-07</td>\n    </tr>\n    <tr>\n      <th>std</th>\n      <td>1.000000e+00</td>\n      <td>1.000000e+00</td>\n      <td>1.000000e+00</td>\n      <td>1.000000e+00</td>\n    </tr>\n    <tr>\n      <th>min</th>\n      <td>-2.383458e-01</td>\n      <td>-1.900732e-01</td>\n      <td>-1.103404e+02</td>\n      <td>-2.159606e-01</td>\n    </tr>\n    <tr>\n      <th>25%</th>\n      <td>-2.383458e-01</td>\n      <td>-1.900732e-01</td>\n      <td>1.781688e-01</td>\n      <td>-2.159606e-01</td>\n    </tr>\n    <tr>\n      <th>50%</th>\n      <td>-2.383458e-01</td>\n      <td>-1.900732e-01</td>\n      <td>1.781688e-01</td>\n      <td>-2.159606e-01</td>\n    </tr>\n    <tr>\n      <th>75%</th>\n      <td>-1.735050e-01</td>\n      <td>-1.369550e-02</td>\n      <td>1.781688e-01</td>\n      <td>-1.591495e-01</td>\n    </tr>\n    <tr>\n      <th>max</th>\n      <td>1.382309e+02</td>\n      <td>1.603136e+02</td>\n      <td>1.781688e-01</td>\n      <td>1.666075e+02</td>\n    </tr>\n  </tbody>\n</table>\n</div>",
       "datasetInfos": [],
       "metadata": {},
       "removedWidgets": [],
       "textData": "<div class=\"ansiout\">Out[15]: </div>",
       "type": "htmlSandbox"
      }
     },
     "output_type": "display_data"
    }
   ],
   "source": [
    "from sklearn.preprocessing import StandardScaler\n",
    "scaler = StandardScaler()\n",
    "data_scaled = scaler.fit_transform(x)\n",
    "\n",
    "# statistics of scaled data\n",
    "pd.DataFrame(data_scaled).describe()"
   ]
  },
  {
   "cell_type": "code",
   "execution_count": 0,
   "metadata": {
    "application/vnd.databricks.v1+cell": {
     "inputWidgets": {},
     "nuid": "389601f0-1cc0-4f94-8ae6-c36980e5cb0a",
     "showTitle": false,
     "title": ""
    }
   },
   "outputs": [
    {
     "data": {
      "text/html": [
       "<style scoped>\n",
       "  .ansiout {\n",
       "    display: block;\n",
       "    unicode-bidi: embed;\n",
       "    white-space: pre-wrap;\n",
       "    word-wrap: break-word;\n",
       "    word-break: break-all;\n",
       "    font-family: \"Source Code Pro\", \"Menlo\", monospace;;\n",
       "    font-size: 13px;\n",
       "    color: #555;\n",
       "    margin-left: 4px;\n",
       "    line-height: 19px;\n",
       "  }\n",
       "</style>\n",
       "<div class=\"ansiout\">Out[16]: KMeans(algorithm=&#39;auto&#39;, copy_x=True, init=&#39;k-means++&#39;, max_iter=300,\n",
       "       n_clusters=2, n_init=10, n_jobs=None, precompute_distances=&#39;auto&#39;,\n",
       "       random_state=None, tol=0.0001, verbose=0)</div>"
      ]
     },
     "metadata": {
      "application/vnd.databricks.v1+output": {
       "addedWidgets": {},
       "arguments": {},
       "data": "<div class=\"ansiout\">Out[16]: KMeans(algorithm=&#39;auto&#39;, copy_x=True, init=&#39;k-means++&#39;, max_iter=300,\n       n_clusters=2, n_init=10, n_jobs=None, precompute_distances=&#39;auto&#39;,\n       random_state=None, tol=0.0001, verbose=0)</div>",
       "datasetInfos": [],
       "metadata": {},
       "removedWidgets": [],
       "type": "html"
      }
     },
     "output_type": "display_data"
    }
   ],
   "source": [
    "kmeans = KMeans(n_clusters=2, init='k-means++')\n",
    "\n",
    "# fitting the k means algorithm on scaled data\n",
    "kmeans.fit(data_scaled)"
   ]
  },
  {
   "cell_type": "code",
   "execution_count": 0,
   "metadata": {
    "application/vnd.databricks.v1+cell": {
     "inputWidgets": {},
     "nuid": "d62c22ce-0168-4b9d-a386-89f3068ed7b8",
     "showTitle": false,
     "title": ""
    }
   },
   "outputs": [
    {
     "data": {
      "image/png": "[encoded data removed]"
     },
     "metadata": {
      "application/vnd.databricks.v1+output": {
       "addedWidgets": {},
       "arguments": {},
       "data": "/plots/6cf5f687-fe5b-4d94-9a13-817543dce3b2.png",
       "datasetInfos": [],
       "metadata": {},
       "removedWidgets": [],
       "type": "image"
      }
     },
     "output_type": "display_data"
    }
   ],
   "source": [
    "SSE = []\n",
    "for cluster in range(1,10):\n",
    "    kmeans = KMeans(n_jobs = -1, n_clusters = cluster, init='k-means++')\n",
    "    kmeans.fit(data_scaled)\n",
    "    SSE.append(kmeans.inertia_)\n",
    "\n",
    "# converting the results into a dataframe and plotting them\n",
    "frame = pd.DataFrame({'Cluster':range(1,10), 'SSE':SSE})\n",
    "plt.figure(figsize=(12,6))\n",
    "plt.plot(frame['Cluster'], frame['SSE'], marker='o')\n",
    "plt.xlabel('Number of clusters')\n",
    "plt.ylabel('Inertia')"
   ]
  },
  {
   "cell_type": "code",
   "execution_count": 0,
   "metadata": {
    "application/vnd.databricks.v1+cell": {
     "inputWidgets": {},
     "nuid": "e89b5691-2c97-4a50-9fe6-05bee4e8abba",
     "showTitle": false,
     "title": ""
    }
   },
   "outputs": [
    {
     "data": {
      "text/html": [
       "<style scoped>\n",
       "  .ansiout {\n",
       "    display: block;\n",
       "    unicode-bidi: embed;\n",
       "    white-space: pre-wrap;\n",
       "    word-wrap: break-word;\n",
       "    word-break: break-all;\n",
       "    font-family: \"Source Code Pro\", \"Menlo\", monospace;;\n",
       "    font-size: 13px;\n",
       "    color: #555;\n",
       "    margin-left: 4px;\n",
       "    line-height: 19px;\n",
       "  }\n",
       "</style>\n",
       "<div class=\"ansiout\"></div>"
      ]
     },
     "metadata": {
      "application/vnd.databricks.v1+output": {
       "addedWidgets": {},
       "arguments": {},
       "data": "<div class=\"ansiout\"></div>",
       "datasetInfos": [],
       "metadata": {},
       "removedWidgets": [],
       "type": "html"
      }
     },
     "output_type": "display_data"
    }
   ],
   "source": [
    "kmeans = KMeans(n_jobs = -1, n_clusters = 4, init='k-means++')\n",
    "kmeans.fit(data_scaled)\n",
    "pred = kmeans.predict(data_scaled)"
   ]
  },
  {
   "cell_type": "code",
   "execution_count": 0,
   "metadata": {
    "application/vnd.databricks.v1+cell": {
     "inputWidgets": {},
     "nuid": "2f79458b-0554-415f-b81c-211a8495392a",
     "showTitle": false,
     "title": ""
    }
   },
   "outputs": [
    {
     "data": {
      "text/html": [
       "<style scoped>\n",
       "  .ansiout {\n",
       "    display: block;\n",
       "    unicode-bidi: embed;\n",
       "    white-space: pre-wrap;\n",
       "    word-wrap: break-word;\n",
       "    word-break: break-all;\n",
       "    font-family: \"Source Code Pro\", \"Menlo\", monospace;;\n",
       "    font-size: 13px;\n",
       "    color: #555;\n",
       "    margin-left: 4px;\n",
       "    line-height: 19px;\n",
       "  }\n",
       "</style>\n",
       "<div class=\"ansiout\">Out[19]: 0    2293969\n",
       "2     169857\n",
       "4      26187\n",
       "1       4175\n",
       "3        451\n",
       "Name: cluster, dtype: int64</div>"
      ]
     },
     "metadata": {
      "application/vnd.databricks.v1+output": {
       "addedWidgets": {},
       "arguments": {},
       "data": "<div class=\"ansiout\">Out[19]: 0    2293969\n2     169857\n4      26187\n1       4175\n3        451\nName: cluster, dtype: int64</div>",
       "datasetInfos": [],
       "metadata": {},
       "removedWidgets": [],
       "type": "html"
      }
     },
     "output_type": "display_data"
    }
   ],
   "source": [
    "frame = pd.DataFrame(data_scaled)\n",
    "frame['cluster'] = pred\n",
    "frame['cluster'].value_counts()"
   ]
  },
  {
   "cell_type": "code",
   "execution_count": 0,
   "metadata": {
    "application/vnd.databricks.v1+cell": {
     "inputWidgets": {},
     "nuid": "33acad8b-ff1f-40d3-98a8-48c2acb6540e",
     "showTitle": false,
     "title": ""
    }
   },
   "outputs": [
    {
     "data": {
      "text/html": [
       "<div>\n",
       "<style scoped>\n",
       "    .dataframe tbody tr th:only-of-type {\n",
       "        vertical-align: middle;\n",
       "    }\n",
       "\n",
       "    .dataframe tbody tr th {\n",
       "        vertical-align: top;\n",
       "    }\n",
       "\n",
       "    .dataframe thead th {\n",
       "        text-align: right;\n",
       "    }\n",
       "</style>\n",
       "<table border=\"1\" class=\"dataframe\">\n",
       "  <thead>\n",
       "    <tr style=\"text-align: right;\">\n",
       "      <th></th>\n",
       "      <th>0</th>\n",
       "      <th>1</th>\n",
       "      <th>2</th>\n",
       "      <th>3</th>\n",
       "      <th>cluster</th>\n",
       "    </tr>\n",
       "  </thead>\n",
       "  <tbody>\n",
       "    <tr>\n",
       "      <th>2494634</th>\n",
       "      <td>-0.238346</td>\n",
       "      <td>-0.190073</td>\n",
       "      <td>0.178169</td>\n",
       "      <td>-0.215961</td>\n",
       "      <td>0</td>\n",
       "    </tr>\n",
       "    <tr>\n",
       "      <th>2494635</th>\n",
       "      <td>-0.238346</td>\n",
       "      <td>-0.190073</td>\n",
       "      <td>0.178169</td>\n",
       "      <td>-0.215961</td>\n",
       "      <td>0</td>\n",
       "    </tr>\n",
       "    <tr>\n",
       "      <th>2494636</th>\n",
       "      <td>-0.238346</td>\n",
       "      <td>-0.190073</td>\n",
       "      <td>0.178169</td>\n",
       "      <td>-0.215961</td>\n",
       "      <td>0</td>\n",
       "    </tr>\n",
       "    <tr>\n",
       "      <th>2494637</th>\n",
       "      <td>-0.238346</td>\n",
       "      <td>-0.190073</td>\n",
       "      <td>0.178169</td>\n",
       "      <td>-0.215961</td>\n",
       "      <td>0</td>\n",
       "    </tr>\n",
       "    <tr>\n",
       "      <th>2494638</th>\n",
       "      <td>-0.238346</td>\n",
       "      <td>-0.190073</td>\n",
       "      <td>0.178169</td>\n",
       "      <td>-0.215961</td>\n",
       "      <td>0</td>\n",
       "    </tr>\n",
       "  </tbody>\n",
       "</table>\n",
       "</div>"
      ]
     },
     "metadata": {
      "application/vnd.databricks.v1+output": {
       "addedWidgets": {},
       "arguments": {},
       "data": "<div>\n<style scoped>\n    .dataframe tbody tr th:only-of-type {\n        vertical-align: middle;\n    }\n\n    .dataframe tbody tr th {\n        vertical-align: top;\n    }\n\n    .dataframe thead th {\n        text-align: right;\n    }\n</style>\n<table border=\"1\" class=\"dataframe\">\n  <thead>\n    <tr style=\"text-align: right;\">\n      <th></th>\n      <th>0</th>\n      <th>1</th>\n      <th>2</th>\n      <th>3</th>\n      <th>cluster</th>\n    </tr>\n  </thead>\n  <tbody>\n    <tr>\n      <th>2494634</th>\n      <td>-0.238346</td>\n      <td>-0.190073</td>\n      <td>0.178169</td>\n      <td>-0.215961</td>\n      <td>0</td>\n    </tr>\n    <tr>\n      <th>2494635</th>\n      <td>-0.238346</td>\n      <td>-0.190073</td>\n      <td>0.178169</td>\n      <td>-0.215961</td>\n      <td>0</td>\n    </tr>\n    <tr>\n      <th>2494636</th>\n      <td>-0.238346</td>\n      <td>-0.190073</td>\n      <td>0.178169</td>\n      <td>-0.215961</td>\n      <td>0</td>\n    </tr>\n    <tr>\n      <th>2494637</th>\n      <td>-0.238346</td>\n      <td>-0.190073</td>\n      <td>0.178169</td>\n      <td>-0.215961</td>\n      <td>0</td>\n    </tr>\n    <tr>\n      <th>2494638</th>\n      <td>-0.238346</td>\n      <td>-0.190073</td>\n      <td>0.178169</td>\n      <td>-0.215961</td>\n      <td>0</td>\n    </tr>\n  </tbody>\n</table>\n</div>",
       "datasetInfos": [],
       "metadata": {},
       "removedWidgets": [],
       "textData": "<div class=\"ansiout\">Out[22]: </div>",
       "type": "htmlSandbox"
      }
     },
     "output_type": "display_data"
    }
   ],
   "source": [
    "frame.tail()"
   ]
  },
  {
   "cell_type": "code",
   "execution_count": 0,
   "metadata": {
    "application/vnd.databricks.v1+cell": {
     "inputWidgets": {},
     "nuid": "10288978-dd8c-4d49-a8ca-692814430db1",
     "showTitle": false,
     "title": ""
    }
   },
   "outputs": [
    {
     "data": {
      "text/html": [
       "<style scoped>\n",
       "  .ansiout {\n",
       "    display: block;\n",
       "    unicode-bidi: embed;\n",
       "    white-space: pre-wrap;\n",
       "    word-wrap: break-word;\n",
       "    word-break: break-all;\n",
       "    font-family: \"Source Code Pro\", \"Menlo\", monospace;;\n",
       "    font-size: 13px;\n",
       "    color: #555;\n",
       "    margin-left: 4px;\n",
       "    line-height: 19px;\n",
       "  }\n",
       "</style>"
      ]
     },
     "metadata": {
      "application/vnd.databricks.v1+output": {
       "arguments": {},
       "data": "",
       "errorSummary": "",
       "errorTraceType": null,
       "metadata": {},
       "type": "ipynbError"
      }
     },
     "output_type": "display_data"
    }
   ],
   "source": [
    "# Generate data with 3 centers.\n",
    "\n",
    "\n",
    "# Standardize features to zero mean and unit variance.\n",
    "X = StandardScaler().fit_transform(x)\n",
    "\n",
    "# Perform DBSCAN on the data\n",
    "y_pred = DBSCAN(eps=0.3, min_samples=30).fit_predict(x)\n",
    "\n",
    "# Plot the predictions\n",
    "plt.scatter(X[:,0], X[:,1], c=y_pred)\n",
    "\n",
    "# Print the evaluations\n",
    "print('Number of clusters: {}'.format(len(set(y_pred[np.where(y_pred != -1)]))))\n",
    "print('Homogeneity: {}'.format(metrics.homogeneity_score(y, y_pred)))\n",
    "print('Completeness: {}'.format(metrics.completeness_score(y, y_pred)))\n",
    "print('Mean Silhouette score: {}'.format(metrics.silhouette_score(X, y_pred)))"
   ]
  },
  {
   "cell_type": "code",
   "execution_count": 0,
   "metadata": {
    "application/vnd.databricks.v1+cell": {
     "inputWidgets": {},
     "nuid": "71c7318d-7783-4f44-928a-4d5704d91e85",
     "showTitle": false,
     "title": ""
    }
   },
   "outputs": [
    {
     "data": {
      "text/html": [
       "<style scoped>\n",
       "  .ansiout {\n",
       "    display: block;\n",
       "    unicode-bidi: embed;\n",
       "    white-space: pre-wrap;\n",
       "    word-wrap: break-word;\n",
       "    word-break: break-all;\n",
       "    font-family: \"Source Code Pro\", \"Menlo\", monospace;;\n",
       "    font-size: 13px;\n",
       "    color: #555;\n",
       "    margin-left: 4px;\n",
       "    line-height: 19px;\n",
       "  }\n",
       "</style>"
      ]
     },
     "metadata": {
      "application/vnd.databricks.v1+output": {
       "arguments": {},
       "data": "",
       "errorSummary": "Command skipped",
       "errorTraceType": "html",
       "metadata": {},
       "type": "ipynbError"
      }
     },
     "output_type": "display_data"
    }
   ],
   "source": [
    "## DBSCAN"
   ]
  },
  {
   "cell_type": "code",
   "execution_count": 0,
   "metadata": {
    "application/vnd.databricks.v1+cell": {
     "inputWidgets": {},
     "nuid": "f8a380d4-1964-4402-97e2-01a4c5a02383",
     "showTitle": false,
     "title": ""
    }
   },
   "outputs": [
    {
     "data": {
      "text/html": [
       "<style scoped>\n",
       "  .ansiout {\n",
       "    display: block;\n",
       "    unicode-bidi: embed;\n",
       "    white-space: pre-wrap;\n",
       "    word-wrap: break-word;\n",
       "    word-break: break-all;\n",
       "    font-family: \"Source Code Pro\", \"Menlo\", monospace;;\n",
       "    font-size: 13px;\n",
       "    color: #555;\n",
       "    margin-left: 4px;\n",
       "    line-height: 19px;\n",
       "  }\n",
       "</style>"
      ]
     },
     "metadata": {
      "application/vnd.databricks.v1+output": {
       "arguments": {},
       "data": "",
       "errorSummary": "Cancelled",
       "errorTraceType": "html",
       "metadata": {},
       "type": "ipynbError"
      }
     },
     "output_type": "display_data"
    }
   ],
   "source": [
    "from sklearn.cluster import DBSCAN\n",
    "eps_list=np.linspace(0.1,3,10)\n",
    "min_samples_list=range(2,12)\n",
    "results=[]\n",
    "results_scaled=[]\n",
    "results_scaled_pca=[]\n",
    "for i in range(10):\n",
    "    clustering = DBSCAN(eps=eps_list[i], min_samples=min_samples_list[i], algorithm ='kd_tree').fit(x)\n",
    "    clustering.labels_\n",
    "    no_clusters=len(np.unique(clustering.labels_))\n",
    "    if no_clusters>1:\n",
    "        results.append([silhouette_score(x,clustering.labels_),no_clusters,eps_list[i],min_samples_list[i]])\n",
    "    \n",
    "    clustering = DBSCAN(eps=eps_list[i], min_samples=min_samples_list[i], algorithm ='kd_tree').fit(df_scaled)\n",
    "    clustering.labels_\n",
    "    no_clusters=len(np.unique(clustering.labels_))\n",
    "    if no_clusters>1:\n",
    "        results_scaled.append([silhouette_score(df_scaled,clustering.labels_),no_clusters,eps_list[i],min_samples_list[i]])\n",
    "    \n",
    "    clustering = DBSCAN(eps=eps_list[i], min_samples=min_samples_list[i], algorithm ='kd_tree').fit(df_scaled_pca)\n",
    "    clustering.labels_\n",
    "    no_clusters=len(np.unique(clustering.labels_))\n",
    "    if no_clusters>1:\n",
    "        results_scaled_pca.append([silhouette_score(df_scaled_pca,clustering.labels_),no_clusters,eps_list[i],min_samples_list[i]])"
   ]
  },
  {
   "cell_type": "code",
   "execution_count": 0,
   "metadata": {
    "application/vnd.databricks.v1+cell": {
     "inputWidgets": {},
     "nuid": "314e5d38-c6ff-4935-957b-a5e3aeb85378",
     "showTitle": false,
     "title": ""
    }
   },
   "outputs": [],
   "source": []
  },
  {
   "cell_type": "code",
   "execution_count": 0,
   "metadata": {
    "application/vnd.databricks.v1+cell": {
     "inputWidgets": {},
     "nuid": "ff44a7bd-c79e-4df1-9cc3-41cd93e1ac9b",
     "showTitle": false,
     "title": ""
    }
   },
   "outputs": [
    {
     "data": {
      "text/html": [
       "<style scoped>\n",
       "  .ansiout {\n",
       "    display: block;\n",
       "    unicode-bidi: embed;\n",
       "    white-space: pre-wrap;\n",
       "    word-wrap: break-word;\n",
       "    word-break: break-all;\n",
       "    font-family: \"Source Code Pro\", \"Menlo\", monospace;;\n",
       "    font-size: 13px;\n",
       "    color: #555;\n",
       "    margin-left: 4px;\n",
       "    line-height: 19px;\n",
       "  }\n",
       "</style>"
      ]
     },
     "metadata": {
      "application/vnd.databricks.v1+output": {
       "arguments": {},
       "data": "",
       "errorSummary": "Command skipped",
       "errorTraceType": "html",
       "metadata": {},
       "type": "ipynbError"
      }
     },
     "output_type": "display_data"
    }
   ],
   "source": [
    "from sklearn.preprocessing import StandardScaler\n",
    "from sklearn.decomposition import PCA\n",
    "\n",
    "scaler = StandardScaler()\n",
    "scaler.fit(df_new)\n",
    "df_scaled=pd.DataFrame(scaler.transform(df_new))\n",
    "\n",
    "df_scaled.head()"
   ]
  },
  {
   "cell_type": "code",
   "execution_count": 0,
   "metadata": {
    "application/vnd.databricks.v1+cell": {
     "inputWidgets": {},
     "nuid": "a67e1f12-b377-4d69-bfab-a9794af05c6d",
     "showTitle": false,
     "title": ""
    }
   },
   "outputs": [
    {
     "data": {
      "text/html": [
       "<style scoped>\n",
       "  .ansiout {\n",
       "    display: block;\n",
       "    unicode-bidi: embed;\n",
       "    white-space: pre-wrap;\n",
       "    word-wrap: break-word;\n",
       "    word-break: break-all;\n",
       "    font-family: \"Source Code Pro\", \"Menlo\", monospace;;\n",
       "    font-size: 13px;\n",
       "    color: #555;\n",
       "    margin-left: 4px;\n",
       "    line-height: 19px;\n",
       "  }\n",
       "</style>"
      ]
     },
     "metadata": {
      "application/vnd.databricks.v1+output": {
       "arguments": {},
       "data": "",
       "errorSummary": "Command skipped",
       "errorTraceType": "html",
       "metadata": {},
       "type": "ipynbError"
      }
     },
     "output_type": "display_data"
    }
   ],
   "source": [
    "#Pca on scaled data\n",
    "df_scaled_pca = PCA(n_components=2).fit_transform(x)\n",
    "df_scaled_pca = pd.DataFrame(df_scaled_pca, columns=[\"PC1\", \"PC2\"])\n",
    "\n",
    "df_scaled_pca.head()"
   ]
  },
  {
   "cell_type": "code",
   "execution_count": 0,
   "metadata": {
    "application/vnd.databricks.v1+cell": {
     "inputWidgets": {},
     "nuid": "bac31d05-b9c0-4eaf-a183-fe3813aa6e61",
     "showTitle": false,
     "title": ""
    }
   },
   "outputs": [
    {
     "data": {
      "text/html": [
       "<style scoped>\n",
       "  .ansiout {\n",
       "    display: block;\n",
       "    unicode-bidi: embed;\n",
       "    white-space: pre-wrap;\n",
       "    word-wrap: break-word;\n",
       "    word-break: break-all;\n",
       "    font-family: \"Source Code Pro\", \"Menlo\", monospace;;\n",
       "    font-size: 13px;\n",
       "    color: #555;\n",
       "    margin-left: 4px;\n",
       "    line-height: 19px;\n",
       "  }\n",
       "</style>"
      ]
     },
     "metadata": {
      "application/vnd.databricks.v1+output": {
       "arguments": {},
       "data": "",
       "errorSummary": "Command skipped",
       "errorTraceType": "html",
       "metadata": {},
       "type": "ipynbError"
      }
     },
     "output_type": "display_data"
    }
   ],
   "source": [
    "kmeans = KMeans(n_clusters=2, init='k-means++')\n",
    "\n",
    "# fitting the k means algorithm on scaled data\n",
    "kmeans.fit(df_scaled)"
   ]
  },
  {
   "cell_type": "code",
   "execution_count": 0,
   "metadata": {
    "application/vnd.databricks.v1+cell": {
     "inputWidgets": {},
     "nuid": "95d6b4f8-4827-476e-8cc7-0fe21ac4808c",
     "showTitle": false,
     "title": ""
    }
   },
   "outputs": [
    {
     "data": {
      "text/html": [
       "<style scoped>\n",
       "  .ansiout {\n",
       "    display: block;\n",
       "    unicode-bidi: embed;\n",
       "    white-space: pre-wrap;\n",
       "    word-wrap: break-word;\n",
       "    word-break: break-all;\n",
       "    font-family: \"Source Code Pro\", \"Menlo\", monospace;;\n",
       "    font-size: 13px;\n",
       "    color: #555;\n",
       "    margin-left: 4px;\n",
       "    line-height: 19px;\n",
       "  }\n",
       "</style>"
      ]
     },
     "metadata": {
      "application/vnd.databricks.v1+output": {
       "arguments": {},
       "data": "",
       "errorSummary": "Command skipped",
       "errorTraceType": "html",
       "metadata": {},
       "type": "ipynbError"
      }
     },
     "output_type": "display_data"
    }
   ],
   "source": [
    "x.info()"
   ]
  },
  {
   "cell_type": "code",
   "execution_count": 0,
   "metadata": {
    "application/vnd.databricks.v1+cell": {
     "inputWidgets": {},
     "nuid": "53fcf109-6125-48f2-be23-27c7085556fc",
     "showTitle": false,
     "title": ""
    }
   },
   "outputs": [
    {
     "data": {
      "text/html": [
       "<style scoped>\n",
       "  .ansiout {\n",
       "    display: block;\n",
       "    unicode-bidi: embed;\n",
       "    white-space: pre-wrap;\n",
       "    word-wrap: break-word;\n",
       "    word-break: break-all;\n",
       "    font-family: \"Source Code Pro\", \"Menlo\", monospace;;\n",
       "    font-size: 13px;\n",
       "    color: #555;\n",
       "    margin-left: 4px;\n",
       "    line-height: 19px;\n",
       "  }\n",
       "</style>"
      ]
     },
     "metadata": {
      "application/vnd.databricks.v1+output": {
       "arguments": {},
       "data": "",
       "errorSummary": "Command skipped",
       "errorTraceType": "html",
       "metadata": {},
       "type": "ipynbError"
      }
     },
     "output_type": "display_data"
    }
   ],
   "source": [
    "from sklearn.cluster import KMeans, DBSCAN\n",
    "from sklearn.metrics import silhouette_score, homogeneity_completeness_v_measure,homogeneity_score"
   ]
  },
  {
   "cell_type": "code",
   "execution_count": 0,
   "metadata": {
    "application/vnd.databricks.v1+cell": {
     "inputWidgets": {},
     "nuid": "29d16bde-09ff-4be2-969d-f8ccdda27157",
     "showTitle": false,
     "title": ""
    }
   },
   "outputs": [
    {
     "data": {
      "text/html": [
       "<style scoped>\n",
       "  .ansiout {\n",
       "    display: block;\n",
       "    unicode-bidi: embed;\n",
       "    white-space: pre-wrap;\n",
       "    word-wrap: break-word;\n",
       "    word-break: break-all;\n",
       "    font-family: \"Source Code Pro\", \"Menlo\", monospace;;\n",
       "    font-size: 13px;\n",
       "    color: #555;\n",
       "    margin-left: 4px;\n",
       "    line-height: 19px;\n",
       "  }\n",
       "</style>"
      ]
     },
     "metadata": {
      "application/vnd.databricks.v1+output": {
       "arguments": {},
       "data": "",
       "errorSummary": "Command skipped",
       "errorTraceType": "html",
       "metadata": {},
       "type": "ipynbError"
      }
     },
     "output_type": "display_data"
    }
   ],
   "source": [
    "results=[]\n",
    "results_scaled=[]\n",
    "results_scaled_pca=[]\n",
    "range_=range(2,10)\n",
    "for no_clus in range_:\n",
    "    clus_kmeans = KMeans(n_clusters=no_clus)\n",
    "    results.append(silhouette_score(x,clus_kmeans.fit(x).labels_))\n",
    "\n",
    "    clus_kmeans_scaled = KMeans(n_clusters=no_clus)\n",
    "    results_scaled.append(silhouette_score(df_scaled,clus_kmeans_scaled.fit(df_scaled).labels_))\n",
    "\n",
    "    clus_kmeans_scaled_pca = KMeans(n_clusters=no_clus)\n",
    "    results_scaled_pca.append(silhouette_score(df_scaled_pca,clus_kmeans_scaled_pca.fit(df_scaled_pca).labels_))\n",
    "\n",
    "line_chart1 = plt.plot(range_, results)\n",
    "line_chart1 = plt.plot(range_, results_scaled)\n",
    "line_chart1 = plt.plot(range_, results_scaled_pca)\n",
    "plt.title('Silhouette Coefficient by Kmeans')\n",
    "plt.xlabel('Numbers of clusters')\n",
    "plt.ylabel('Silhouette_Score')\n",
    "plt.legend(['Data','Scaled','Scaled_PCA'], loc=4)\n",
    "plt.show()\n"
   ]
  },
  {
   "cell_type": "code",
   "execution_count": 0,
   "metadata": {
    "application/vnd.databricks.v1+cell": {
     "inputWidgets": {},
     "nuid": "be9c48dd-b3a1-497a-89c6-58df15320904",
     "showTitle": false,
     "title": ""
    }
   },
   "outputs": [
    {
     "data": {
      "text/html": [
       "<style scoped>\n",
       "  .ansiout {\n",
       "    display: block;\n",
       "    unicode-bidi: embed;\n",
       "    white-space: pre-wrap;\n",
       "    word-wrap: break-word;\n",
       "    word-break: break-all;\n",
       "    font-family: \"Source Code Pro\", \"Menlo\", monospace;;\n",
       "    font-size: 13px;\n",
       "    color: #555;\n",
       "    margin-left: 4px;\n",
       "    line-height: 19px;\n",
       "  }\n",
       "</style>"
      ]
     },
     "metadata": {
      "application/vnd.databricks.v1+output": {
       "arguments": {},
       "data": "",
       "errorSummary": "Command skipped",
       "errorTraceType": "html",
       "metadata": {},
       "type": "ipynbError"
      }
     },
     "output_type": "display_data"
    }
   ],
   "source": [
    "clus_kmeans_scaled_pca_best = KMeans(n_clusters=3)\n",
    "labels_best=clus_kmeans_scaled_pca_best.fit(df_scaled_pca).labels_\n",
    "\n",
    "plt.scatter(df_scaled_pca['PC1'],df_scaled_pca['PC2'], c=labels_best,s=20, marker = 'o', cmap=cm.Set3)\n",
    "plt.title(\"Clusters labeled by Kmeans, visualization on 2D by PCA\\n The best results were using 3 clusters\");"
   ]
  },
  {
   "cell_type": "code",
   "execution_count": 0,
   "metadata": {
    "application/vnd.databricks.v1+cell": {
     "inputWidgets": {},
     "nuid": "40621bf2-b5a6-4c3f-9625-13517c6dbbce",
     "showTitle": false,
     "title": ""
    }
   },
   "outputs": [],
   "source": []
  },
  {
   "cell_type": "code",
   "execution_count": 0,
   "metadata": {
    "application/vnd.databricks.v1+cell": {
     "inputWidgets": {},
     "nuid": "2746436c-d004-4243-b7a9-cae61e6fc061",
     "showTitle": false,
     "title": ""
    }
   },
   "outputs": [
    {
     "data": {
      "text/html": [
       "<style scoped>\n",
       "  .ansiout {\n",
       "    display: block;\n",
       "    unicode-bidi: embed;\n",
       "    white-space: pre-wrap;\n",
       "    word-wrap: break-word;\n",
       "    word-break: break-all;\n",
       "    font-family: \"Source Code Pro\", \"Menlo\", monospace;;\n",
       "    font-size: 13px;\n",
       "    color: #555;\n",
       "    margin-left: 4px;\n",
       "    line-height: 19px;\n",
       "  }\n",
       "</style>"
      ]
     },
     "metadata": {
      "application/vnd.databricks.v1+output": {
       "arguments": {},
       "data": "",
       "errorSummary": "Command skipped",
       "errorTraceType": "html",
       "metadata": {},
       "type": "ipynbError"
      }
     },
     "output_type": "display_data"
    }
   ],
   "source": [
    "a = data.groupby(['ItemID','Quantity_Type']).agg({'ItemID':'count'})\n",
    "a['Count'] = a['ItemID']\n",
    "a.drop(['ItemID'],inplace=True, axis=1)\n",
    "b = a.reset_index()\n",
    "c = b[b['Quantity_Type']==0]\n",
    "b = b[b['Quantity_Type']==1]\n",
    "d = pd.merge(c[['ItemID','Count']],b[['ItemID','Count']],on='ItemID',how='left')\n",
    "d['Count_ratio'] = (d['Count_y']/(d['Count_y']+d['Count_x']))*100\n",
    "e = d.sort_values(by='Count_ratio')"
   ]
  },
  {
   "cell_type": "code",
   "execution_count": 0,
   "metadata": {
    "application/vnd.databricks.v1+cell": {
     "inputWidgets": {},
     "nuid": "8e4359cd-6d6d-4c8d-a431-0c05d3acd3fe",
     "showTitle": false,
     "title": ""
    }
   },
   "outputs": [
    {
     "data": {
      "text/html": [
       "<style scoped>\n",
       "  .ansiout {\n",
       "    display: block;\n",
       "    unicode-bidi: embed;\n",
       "    white-space: pre-wrap;\n",
       "    word-wrap: break-word;\n",
       "    word-break: break-all;\n",
       "    font-family: \"Source Code Pro\", \"Menlo\", monospace;;\n",
       "    font-size: 13px;\n",
       "    color: #555;\n",
       "    margin-left: 4px;\n",
       "    line-height: 19px;\n",
       "  }\n",
       "</style>"
      ]
     },
     "metadata": {
      "application/vnd.databricks.v1+output": {
       "arguments": {},
       "data": "",
       "errorSummary": "Command skipped",
       "errorTraceType": "html",
       "metadata": {},
       "type": "ipynbError"
      }
     },
     "output_type": "display_data"
    }
   ],
   "source": [
    "f=e[e['Count_ratio']>15]\n",
    "value_list = f.ItemID.unique().tolist()\n",
    "data = data.query('ItemID in @value_list')\n",
    "data.head()"
   ]
  },
  {
   "cell_type": "code",
   "execution_count": 0,
   "metadata": {
    "application/vnd.databricks.v1+cell": {
     "inputWidgets": {},
     "nuid": "42857064-15d0-4a52-bef9-4637366420d6",
     "showTitle": false,
     "title": ""
    }
   },
   "outputs": [
    {
     "data": {
      "text/html": [
       "<style scoped>\n",
       "  .ansiout {\n",
       "    display: block;\n",
       "    unicode-bidi: embed;\n",
       "    white-space: pre-wrap;\n",
       "    word-wrap: break-word;\n",
       "    word-break: break-all;\n",
       "    font-family: \"Source Code Pro\", \"Menlo\", monospace;;\n",
       "    font-size: 13px;\n",
       "    color: #555;\n",
       "    margin-left: 4px;\n",
       "    line-height: 19px;\n",
       "  }\n",
       "</style>"
      ]
     },
     "metadata": {
      "application/vnd.databricks.v1+output": {
       "arguments": {},
       "data": "",
       "errorSummary": "Command skipped",
       "errorTraceType": "html",
       "metadata": {},
       "type": "ipynbError"
      }
     },
     "output_type": "display_data"
    }
   ],
   "source": [
    "data.shape #(1969450, 61)\n",
    "#data.shape #(3887800, 61)"
   ]
  },
  {
   "cell_type": "code",
   "execution_count": 0,
   "metadata": {
    "application/vnd.databricks.v1+cell": {
     "inputWidgets": {},
     "nuid": "c5589e37-807d-4e42-be08-f17081628070",
     "showTitle": false,
     "title": ""
    }
   },
   "outputs": [
    {
     "data": {
      "text/html": [
       "<style scoped>\n",
       "  .ansiout {\n",
       "    display: block;\n",
       "    unicode-bidi: embed;\n",
       "    white-space: pre-wrap;\n",
       "    word-wrap: break-word;\n",
       "    word-break: break-all;\n",
       "    font-family: \"Source Code Pro\", \"Menlo\", monospace;;\n",
       "    font-size: 13px;\n",
       "    color: #555;\n",
       "    margin-left: 4px;\n",
       "    line-height: 19px;\n",
       "  }\n",
       "</style>"
      ]
     },
     "metadata": {
      "application/vnd.databricks.v1+output": {
       "arguments": {},
       "data": "",
       "errorSummary": "Command skipped",
       "errorTraceType": "html",
       "metadata": {},
       "type": "ipynbError"
      }
     },
     "output_type": "display_data"
    }
   ],
   "source": [
    "data.head()"
   ]
  },
  {
   "cell_type": "code",
   "execution_count": 0,
   "metadata": {
    "application/vnd.databricks.v1+cell": {
     "inputWidgets": {},
     "nuid": "f0a7e593-24d1-46d7-ad6a-01134853d556",
     "showTitle": false,
     "title": ""
    }
   },
   "outputs": [
    {
     "data": {
      "text/html": [
       "<style scoped>\n",
       "  .ansiout {\n",
       "    display: block;\n",
       "    unicode-bidi: embed;\n",
       "    white-space: pre-wrap;\n",
       "    word-wrap: break-word;\n",
       "    word-break: break-all;\n",
       "    font-family: \"Source Code Pro\", \"Menlo\", monospace;;\n",
       "    font-size: 13px;\n",
       "    color: #555;\n",
       "    margin-left: 4px;\n",
       "    line-height: 19px;\n",
       "  }\n",
       "</style>"
      ]
     },
     "metadata": {
      "application/vnd.databricks.v1+output": {
       "arguments": {},
       "data": "",
       "errorSummary": "Command skipped",
       "errorTraceType": "html",
       "metadata": {},
       "type": "ipynbError"
      }
     },
     "output_type": "display_data"
    }
   ],
   "source": [
    "exc_cols = ['CyberMonday_MainEvent', 'PostBlackFriday_PostTentpole', 'PostLaborDay_PostTentpole', 'PostPresidentsDay_PostTentpole', 'PreLaborDay_PostTentpole']\n",
    "#tentpole_cols = [i for i in list(df.loc[:,7:31].columns) if i not in exc_cols]\n",
    "tentpole_cols = [i for i in list(data.iloc[:,7:31].columns) if i not in exc_cols]\n",
    "data.rename(columns={'SALES':'Sales'}, inplace=True)\n",
    "\n",
    "# Creating new features\n",
    "data[\"Holiday\"] = data[tentpole_cols].apply(lambda x: 1 if sum(x)>0 else 0, axis=1)\n",
    "# data['DiscountPercent'] = round(abs(data['Discounts']/data['Sales'])*100,1)\n",
    "data['AverageWeeklyPricePreCoupon'] = data['Sales'] / data['Quantity']\n",
    "data['AverageWeeklyPrice'] = (data['Sales'] + data['Discounts']) / data['Quantity']\n",
    "data['AverageWeeklyCOGS'] = data['COGS'] / data['Quantity']\n",
    "data['AverageWeeklyCOGS'] = data['AverageWeeklyCOGS'].replace(0, np.nan)\n",
    "data['AverageWeeklyPrice'] = data['AverageWeeklyPrice'].replace(0, np.nan)\n",
    "data.dropna(subset=['AverageWeeklyPrice', 'AverageWeeklyCOGS'], inplace=True)"
   ]
  },
  {
   "cell_type": "code",
   "execution_count": 0,
   "metadata": {
    "application/vnd.databricks.v1+cell": {
     "inputWidgets": {},
     "nuid": "43671765-4fa5-4676-aff2-ffbdb0a32a01",
     "showTitle": false,
     "title": ""
    }
   },
   "outputs": [
    {
     "data": {
      "text/html": [
       "<style scoped>\n",
       "  .ansiout {\n",
       "    display: block;\n",
       "    unicode-bidi: embed;\n",
       "    white-space: pre-wrap;\n",
       "    word-wrap: break-word;\n",
       "    word-break: break-all;\n",
       "    font-family: \"Source Code Pro\", \"Menlo\", monospace;;\n",
       "    font-size: 13px;\n",
       "    color: #555;\n",
       "    margin-left: 4px;\n",
       "    line-height: 19px;\n",
       "  }\n",
       "</style>"
      ]
     },
     "metadata": {
      "application/vnd.databricks.v1+output": {
       "arguments": {},
       "data": "",
       "errorSummary": "Command skipped",
       "errorTraceType": "html",
       "metadata": {},
       "type": "ipynbError"
      }
     },
     "output_type": "display_data"
    }
   ],
   "source": [
    "data.columns"
   ]
  },
  {
   "cell_type": "code",
   "execution_count": 0,
   "metadata": {
    "application/vnd.databricks.v1+cell": {
     "inputWidgets": {},
     "nuid": "61bc3d64-102a-4ce4-b047-b962f207af77",
     "showTitle": false,
     "title": ""
    }
   },
   "outputs": [
    {
     "data": {
      "text/html": [
       "<style scoped>\n",
       "  .ansiout {\n",
       "    display: block;\n",
       "    unicode-bidi: embed;\n",
       "    white-space: pre-wrap;\n",
       "    word-wrap: break-word;\n",
       "    word-break: break-all;\n",
       "    font-family: \"Source Code Pro\", \"Menlo\", monospace;;\n",
       "    font-size: 13px;\n",
       "    color: #555;\n",
       "    margin-left: 4px;\n",
       "    line-height: 19px;\n",
       "  }\n",
       "</style>"
      ]
     },
     "metadata": {
      "application/vnd.databricks.v1+output": {
       "arguments": {},
       "data": "",
       "errorSummary": "Command skipped",
       "errorTraceType": "html",
       "metadata": {},
       "type": "ipynbError"
      }
     },
     "output_type": "display_data"
    }
   ],
   "source": [
    "data['price_categories'] = data['AverageWeeklyPrice'].map (lambda price: 1 if price < 200 else 2 if price < 400 else 3)\n",
    "data['Deviation_price'] = data['AverageWeeklyPrice'] - data['AverageWeeklyPricePreCoupon']"
   ]
  },
  {
   "cell_type": "code",
   "execution_count": 0,
   "metadata": {
    "application/vnd.databricks.v1+cell": {
     "inputWidgets": {},
     "nuid": "1db0920c-7481-43bd-bc37-97039cc3f07f",
     "showTitle": false,
     "title": ""
    }
   },
   "outputs": [
    {
     "data": {
      "text/html": [
       "<style scoped>\n",
       "  .ansiout {\n",
       "    display: block;\n",
       "    unicode-bidi: embed;\n",
       "    white-space: pre-wrap;\n",
       "    word-wrap: break-word;\n",
       "    word-break: break-all;\n",
       "    font-family: \"Source Code Pro\", \"Menlo\", monospace;;\n",
       "    font-size: 13px;\n",
       "    color: #555;\n",
       "    margin-left: 4px;\n",
       "    line-height: 19px;\n",
       "  }\n",
       "</style>"
      ]
     },
     "metadata": {
      "application/vnd.databricks.v1+output": {
       "arguments": {},
       "data": "",
       "errorSummary": "Command skipped",
       "errorTraceType": "html",
       "metadata": {},
       "type": "ipynbError"
      }
     },
     "output_type": "display_data"
    }
   ],
   "source": [
    "#data['Quantity'].describe()\n",
    "data['Quantity_deciles']=pd.qcut(data['Quantity'],q=3,labels=False,duplicates='drop')\n",
    "data['PriceZone'] = data[['AFHSPGZ1', 'AFHSPGZ2', 'AFHSPGZ3', 'AFHSPGZ5','AFHSPGZ6', 'AFHSPGZ7', 'AFHSPGZ8']].idxmax(axis=1)\n",
    "\n",
    "data['Quantity_deciles'].value_counts()"
   ]
  },
  {
   "cell_type": "code",
   "execution_count": 0,
   "metadata": {
    "application/vnd.databricks.v1+cell": {
     "inputWidgets": {},
     "nuid": "bc8ffdac-aa40-42d1-9272-27b65259a58f",
     "showTitle": false,
     "title": ""
    }
   },
   "outputs": [
    {
     "data": {
      "text/html": [
       "<style scoped>\n",
       "  .ansiout {\n",
       "    display: block;\n",
       "    unicode-bidi: embed;\n",
       "    white-space: pre-wrap;\n",
       "    word-wrap: break-word;\n",
       "    word-break: break-all;\n",
       "    font-family: \"Source Code Pro\", \"Menlo\", monospace;;\n",
       "    font-size: 13px;\n",
       "    color: #555;\n",
       "    margin-left: 4px;\n",
       "    line-height: 19px;\n",
       "  }\n",
       "</style>"
      ]
     },
     "metadata": {
      "application/vnd.databricks.v1+output": {
       "arguments": {},
       "data": "",
       "errorSummary": "Command skipped",
       "errorTraceType": "html",
       "metadata": {},
       "type": "ipynbError"
      }
     },
     "output_type": "display_data"
    }
   ],
   "source": [
    "display(data)"
   ]
  },
  {
   "cell_type": "code",
   "execution_count": 0,
   "metadata": {
    "application/vnd.databricks.v1+cell": {
     "inputWidgets": {},
     "nuid": "d8aa3365-3f4d-4215-998e-1f545a387b32",
     "showTitle": false,
     "title": ""
    }
   },
   "outputs": [
    {
     "data": {
      "text/html": [
       "<style scoped>\n",
       "  .ansiout {\n",
       "    display: block;\n",
       "    unicode-bidi: embed;\n",
       "    white-space: pre-wrap;\n",
       "    word-wrap: break-word;\n",
       "    word-break: break-all;\n",
       "    font-family: \"Source Code Pro\", \"Menlo\", monospace;;\n",
       "    font-size: 13px;\n",
       "    color: #555;\n",
       "    margin-left: 4px;\n",
       "    line-height: 19px;\n",
       "  }\n",
       "</style>"
      ]
     },
     "metadata": {
      "application/vnd.databricks.v1+output": {
       "arguments": {},
       "data": "",
       "errorSummary": "Command skipped",
       "errorTraceType": "html",
       "metadata": {},
       "type": "ipynbError"
      }
     },
     "output_type": "display_data"
    }
   ],
   "source": [
    "# drop null values based on all the rows\n",
    "data.dropna(inplace=True)\n",
    "data = data.reset_index(drop=True)\n",
    "\n",
    "# Data For Training\n",
    "train_data = data.drop(data[(data['FiscalYear'] == 2022)&(data['FiscalWeek'] > 22)].index)"
   ]
  },
  {
   "cell_type": "code",
   "execution_count": 0,
   "metadata": {
    "application/vnd.databricks.v1+cell": {
     "inputWidgets": {},
     "nuid": "704e0172-aaf3-4c69-befd-efe8e78068bd",
     "showTitle": false,
     "title": ""
    }
   },
   "outputs": [
    {
     "data": {
      "text/html": [
       "<style scoped>\n",
       "  .ansiout {\n",
       "    display: block;\n",
       "    unicode-bidi: embed;\n",
       "    white-space: pre-wrap;\n",
       "    word-wrap: break-word;\n",
       "    word-break: break-all;\n",
       "    font-family: \"Source Code Pro\", \"Menlo\", monospace;;\n",
       "    font-size: 13px;\n",
       "    color: #555;\n",
       "    margin-left: 4px;\n",
       "    line-height: 19px;\n",
       "  }\n",
       "</style>"
      ]
     },
     "metadata": {
      "application/vnd.databricks.v1+output": {
       "arguments": {},
       "data": "",
       "errorSummary": "Command skipped",
       "errorTraceType": "html",
       "metadata": {},
       "type": "ipynbError"
      }
     },
     "output_type": "display_data"
    }
   ],
   "source": [
    "test_df = data[(data['FiscalYear'] == 2022)&(data['FiscalWeek'].isin([23,24,25]))]"
   ]
  },
  {
   "cell_type": "code",
   "execution_count": 0,
   "metadata": {
    "application/vnd.databricks.v1+cell": {
     "inputWidgets": {},
     "nuid": "db092a67-6cae-4b29-98c5-39a4c0662c5a",
     "showTitle": false,
     "title": ""
    }
   },
   "outputs": [
    {
     "data": {
      "text/html": [
       "<style scoped>\n",
       "  .ansiout {\n",
       "    display: block;\n",
       "    unicode-bidi: embed;\n",
       "    white-space: pre-wrap;\n",
       "    word-wrap: break-word;\n",
       "    word-break: break-all;\n",
       "    font-family: \"Source Code Pro\", \"Menlo\", monospace;;\n",
       "    font-size: 13px;\n",
       "    color: #555;\n",
       "    margin-left: 4px;\n",
       "    line-height: 19px;\n",
       "  }\n",
       "</style>"
      ]
     },
     "metadata": {
      "application/vnd.databricks.v1+output": {
       "arguments": {},
       "data": "",
       "errorSummary": "Command skipped",
       "errorTraceType": "html",
       "metadata": {},
       "type": "ipynbError"
      }
     },
     "output_type": "display_data"
    }
   ],
   "source": [
    "display(train_data)"
   ]
  },
  {
   "cell_type": "code",
   "execution_count": 0,
   "metadata": {
    "application/vnd.databricks.v1+cell": {
     "inputWidgets": {},
     "nuid": "8bac4fbd-5542-48bb-a967-9b5c12de515e",
     "showTitle": false,
     "title": ""
    }
   },
   "outputs": [
    {
     "data": {
      "text/html": [
       "<style scoped>\n",
       "  .ansiout {\n",
       "    display: block;\n",
       "    unicode-bidi: embed;\n",
       "    white-space: pre-wrap;\n",
       "    word-wrap: break-word;\n",
       "    word-break: break-all;\n",
       "    font-family: \"Source Code Pro\", \"Menlo\", monospace;;\n",
       "    font-size: 13px;\n",
       "    color: #555;\n",
       "    margin-left: 4px;\n",
       "    line-height: 19px;\n",
       "  }\n",
       "</style>"
      ]
     },
     "metadata": {
      "application/vnd.databricks.v1+output": {
       "arguments": {},
       "data": "",
       "errorSummary": "Command skipped",
       "errorTraceType": "html",
       "metadata": {},
       "type": "ipynbError"
      }
     },
     "output_type": "display_data"
    }
   ],
   "source": [
    "display(test_df)"
   ]
  },
  {
   "cell_type": "code",
   "execution_count": 0,
   "metadata": {
    "application/vnd.databricks.v1+cell": {
     "inputWidgets": {},
     "nuid": "4fef7fb4-a5be-46e4-9e7c-5b24f8f42a52",
     "showTitle": false,
     "title": ""
    }
   },
   "outputs": [
    {
     "data": {
      "text/html": [
       "<style scoped>\n",
       "  .ansiout {\n",
       "    display: block;\n",
       "    unicode-bidi: embed;\n",
       "    white-space: pre-wrap;\n",
       "    word-wrap: break-word;\n",
       "    word-break: break-all;\n",
       "    font-family: \"Source Code Pro\", \"Menlo\", monospace;;\n",
       "    font-size: 13px;\n",
       "    color: #555;\n",
       "    margin-left: 4px;\n",
       "    line-height: 19px;\n",
       "  }\n",
       "</style>"
      ]
     },
     "metadata": {
      "application/vnd.databricks.v1+output": {
       "arguments": {},
       "data": "",
       "errorSummary": "Command skipped",
       "errorTraceType": "html",
       "metadata": {},
       "type": "ipynbError"
      }
     },
     "output_type": "display_data"
    }
   ],
   "source": [
    "# Model Building\n",
    "\n",
    "\n",
    "train_df = pd.DataFrame()\n",
    "evaluation_dict = {\"Product line\":[], \"R-Square\":[], \"RMSE\":[], \"MAE\":[]}\n",
    "models = dict()\n",
    "\n",
    "price_zone_list = list(data['PriceZone'].unique())\n",
    "prod_line_list = list(data['Productline'].unique())\n",
    "\n",
    "remove_cols = ['ItemID', 'Productline','FiscalYear','Quantity', 'Discounts', 'Sales', 'COGS', 'SeriesName', 'SeriesNumber',\n",
    "               'Status', 'PrevWeekQuantity', 'QuantityDiff','PriceZone'] + exc_cols\n",
    "  \n",
    "for prod in prod_line_list:\n",
    "  for pric_lst in price_zone_list:\n",
    "    temp = train_data[(train_data.Productline == prod)& (train_data.PriceZone == pric_lst)]\n",
    "    p = np.percentile(temp['Quantity'], 99.99)\n",
    "    temp = temp[temp['Quantity']<=p]\n",
    "\n",
    "    X = temp.drop(remove_cols,axis=1)\n",
    "    y = temp['QuantityDiff']\n",
    "\n",
    "    XGBR = xg.XGBRegressor(n_estimators=70, objectvie='reg:squarederror', booster='gbtree', random_state=42, learning_rate=0.4)\n",
    "    mod = XGBR.fit(X,y)\n",
    "    models[prod] = mod\n",
    "    temp['Predicted_Quantity'] = np.round(mod.predict(X),1) + temp['PrevWeekQuantity']\n",
    "    train_df = pd.concat([train_df,temp], axis=0, ignore_index=True)\n",
    "\n",
    "# Evaluation\n",
    "    evaluation_dict[\"Product line\"].append(prod)\n",
    "    evaluation_dict[\"R-Square\"].append(round(sqrt(r2_score(temp['Quantity'], temp['Predicted_Quantity'])),2))\n",
    "    evaluation_dict[\"RMSE\"].append(round(sqrt(mean_squared_error(temp['Quantity'], temp['Predicted_Quantity'])),2))\n",
    "    evaluation_dict[\"MAE\"].append(round(mean_absolute_error(temp['Quantity'], temp['Predicted_Quantity']),2))\n",
    "\n",
    "metric_df = pd.DataFrame(evaluation_dict)"
   ]
  },
  {
   "cell_type": "code",
   "execution_count": 0,
   "metadata": {
    "application/vnd.databricks.v1+cell": {
     "inputWidgets": {},
     "nuid": "642c444f-58af-4a2d-b4d6-c4380c372234",
     "showTitle": false,
     "title": ""
    }
   },
   "outputs": [
    {
     "data": {
      "text/html": [
       "<style scoped>\n",
       "  .ansiout {\n",
       "    display: block;\n",
       "    unicode-bidi: embed;\n",
       "    white-space: pre-wrap;\n",
       "    word-wrap: break-word;\n",
       "    word-break: break-all;\n",
       "    font-family: \"Source Code Pro\", \"Menlo\", monospace;;\n",
       "    font-size: 13px;\n",
       "    color: #555;\n",
       "    margin-left: 4px;\n",
       "    line-height: 19px;\n",
       "  }\n",
       "</style>"
      ]
     },
     "metadata": {
      "application/vnd.databricks.v1+output": {
       "arguments": {},
       "data": "",
       "errorSummary": "Command skipped",
       "errorTraceType": "html",
       "metadata": {},
       "type": "ipynbError"
      }
     },
     "output_type": "display_data"
    }
   ],
   "source": [
    "# train_df.tail(10)"
   ]
  },
  {
   "cell_type": "code",
   "execution_count": 0,
   "metadata": {
    "application/vnd.databricks.v1+cell": {
     "inputWidgets": {},
     "nuid": "f75bde98-6450-461d-889d-3223b6492db1",
     "showTitle": false,
     "title": ""
    }
   },
   "outputs": [
    {
     "data": {
      "text/html": [
       "<style scoped>\n",
       "  .ansiout {\n",
       "    display: block;\n",
       "    unicode-bidi: embed;\n",
       "    white-space: pre-wrap;\n",
       "    word-wrap: break-word;\n",
       "    word-break: break-all;\n",
       "    font-family: \"Source Code Pro\", \"Menlo\", monospace;;\n",
       "    font-size: 13px;\n",
       "    color: #555;\n",
       "    margin-left: 4px;\n",
       "    line-height: 19px;\n",
       "  }\n",
       "</style>"
      ]
     },
     "metadata": {
      "application/vnd.databricks.v1+output": {
       "arguments": {},
       "data": "",
       "errorSummary": "Command skipped",
       "errorTraceType": "html",
       "metadata": {},
       "type": "ipynbError"
      }
     },
     "output_type": "display_data"
    }
   ],
   "source": [
    "met_df = spark.createDataFrame(metric_df)\n",
    "display(met_df)"
   ]
  },
  {
   "cell_type": "code",
   "execution_count": 0,
   "metadata": {
    "application/vnd.databricks.v1+cell": {
     "inputWidgets": {},
     "nuid": "f5caf528-ce61-4665-ab6a-00d6a8c3da95",
     "showTitle": false,
     "title": ""
    }
   },
   "outputs": [
    {
     "data": {
      "text/html": [
       "<style scoped>\n",
       "  .ansiout {\n",
       "    display: block;\n",
       "    unicode-bidi: embed;\n",
       "    white-space: pre-wrap;\n",
       "    word-wrap: break-word;\n",
       "    word-break: break-all;\n",
       "    font-family: \"Source Code Pro\", \"Menlo\", monospace;;\n",
       "    font-size: 13px;\n",
       "    color: #555;\n",
       "    margin-left: 4px;\n",
       "    line-height: 19px;\n",
       "  }\n",
       "</style>"
      ]
     },
     "metadata": {
      "application/vnd.databricks.v1+output": {
       "arguments": {},
       "data": "",
       "errorSummary": "Command skipped",
       "errorTraceType": "html",
       "metadata": {},
       "type": "ipynbError"
      }
     },
     "output_type": "display_data"
    }
   ],
   "source": [
    "plt.rcParams[\"figure.figsize\"] = (15,10)\n",
    "train_df.plot.scatter(x = 'Quantity', y = 'Predicted_Quantity', s = 50)"
   ]
  },
  {
   "cell_type": "code",
   "execution_count": 0,
   "metadata": {
    "application/vnd.databricks.v1+cell": {
     "inputWidgets": {},
     "nuid": "dd7fdec2-8bf2-4fd4-9fd1-ca3ae0095123",
     "showTitle": false,
     "title": ""
    }
   },
   "outputs": [
    {
     "data": {
      "text/html": [
       "<style scoped>\n",
       "  .ansiout {\n",
       "    display: block;\n",
       "    unicode-bidi: embed;\n",
       "    white-space: pre-wrap;\n",
       "    word-wrap: break-word;\n",
       "    word-break: break-all;\n",
       "    font-family: \"Source Code Pro\", \"Menlo\", monospace;;\n",
       "    font-size: 13px;\n",
       "    color: #555;\n",
       "    margin-left: 4px;\n",
       "    line-height: 19px;\n",
       "  }\n",
       "</style>"
      ]
     },
     "metadata": {
      "application/vnd.databricks.v1+output": {
       "arguments": {},
       "data": "",
       "errorSummary": "Command skipped",
       "errorTraceType": "html",
       "metadata": {},
       "type": "ipynbError"
      }
     },
     "output_type": "display_data"
    }
   ],
   "source": [
    "final_df = pd.DataFrame()\n",
    "ivs = list(X.columns)\n",
    "for mod in models.keys():\n",
    "  tmp = test_df[test_df['Productline'] == mod]\n",
    "  p = np.percentile(tmp['Quantity'], 99.99)\n",
    "  tmp = tmp[tmp['Quantity']<=p]\n",
    "  tmp['Predicted_Quantity'] = models[mod].predict(tmp[ivs])\n",
    "  tmp['Predicted_Quantity'] = tmp['Predicted_Quantity'] + tmp['PrevWeekQuantity']\n",
    "  tmp['Predicted_Sales'] = tmp['Predicted_Quantity'] * data['AverageWeeklyPricePreCoupon']\n",
    "  final_df = pd.concat([final_df,tmp], axis=0, ignore_index=True)\n",
    "  "
   ]
  },
  {
   "cell_type": "code",
   "execution_count": 0,
   "metadata": {
    "application/vnd.databricks.v1+cell": {
     "inputWidgets": {},
     "nuid": "8a1b9e0d-b40c-4c4e-a092-ce5596e9a2d6",
     "showTitle": false,
     "title": ""
    }
   },
   "outputs": [
    {
     "data": {
      "text/html": [
       "<style scoped>\n",
       "  .ansiout {\n",
       "    display: block;\n",
       "    unicode-bidi: embed;\n",
       "    white-space: pre-wrap;\n",
       "    word-wrap: break-word;\n",
       "    word-break: break-all;\n",
       "    font-family: \"Source Code Pro\", \"Menlo\", monospace;;\n",
       "    font-size: 13px;\n",
       "    color: #555;\n",
       "    margin-left: 4px;\n",
       "    line-height: 19px;\n",
       "  }\n",
       "</style>"
      ]
     },
     "metadata": {
      "application/vnd.databricks.v1+output": {
       "arguments": {},
       "data": "",
       "errorSummary": "Command skipped",
       "errorTraceType": "html",
       "metadata": {},
       "type": "ipynbError"
      }
     },
     "output_type": "display_data"
    }
   ],
   "source": [
    "x = models['Bedroom'].predict(tmp[ivs])"
   ]
  },
  {
   "cell_type": "code",
   "execution_count": 0,
   "metadata": {
    "application/vnd.databricks.v1+cell": {
     "inputWidgets": {},
     "nuid": "42b0cfce-9c81-4704-8bf6-f85030569985",
     "showTitle": false,
     "title": ""
    }
   },
   "outputs": [
    {
     "data": {
      "text/html": [
       "<style scoped>\n",
       "  .ansiout {\n",
       "    display: block;\n",
       "    unicode-bidi: embed;\n",
       "    white-space: pre-wrap;\n",
       "    word-wrap: break-word;\n",
       "    word-break: break-all;\n",
       "    font-family: \"Source Code Pro\", \"Menlo\", monospace;;\n",
       "    font-size: 13px;\n",
       "    color: #555;\n",
       "    margin-left: 4px;\n",
       "    line-height: 19px;\n",
       "  }\n",
       "</style>"
      ]
     },
     "metadata": {
      "application/vnd.databricks.v1+output": {
       "arguments": {},
       "data": "",
       "errorSummary": "Command skipped",
       "errorTraceType": "html",
       "metadata": {},
       "type": "ipynbError"
      }
     },
     "output_type": "display_data"
    }
   ],
   "source": [
    "final_df2 = final_df[final_df['Predicted_Quantity']>0]\n",
    "final_df.plot.scatter(x = 'Quantity', y = 'Predicted_Quantity', s = 50)"
   ]
  },
  {
   "cell_type": "code",
   "execution_count": 0,
   "metadata": {
    "application/vnd.databricks.v1+cell": {
     "inputWidgets": {},
     "nuid": "5947e215-79ef-4df1-a42e-d5da034c82ca",
     "showTitle": false,
     "title": ""
    }
   },
   "outputs": [
    {
     "data": {
      "text/html": [
       "<style scoped>\n",
       "  .ansiout {\n",
       "    display: block;\n",
       "    unicode-bidi: embed;\n",
       "    white-space: pre-wrap;\n",
       "    word-wrap: break-word;\n",
       "    word-break: break-all;\n",
       "    font-family: \"Source Code Pro\", \"Menlo\", monospace;;\n",
       "    font-size: 13px;\n",
       "    color: #555;\n",
       "    margin-left: 4px;\n",
       "    line-height: 19px;\n",
       "  }\n",
       "</style>"
      ]
     },
     "metadata": {
      "application/vnd.databricks.v1+output": {
       "arguments": {},
       "data": "",
       "errorSummary": "Command skipped",
       "errorTraceType": "html",
       "metadata": {},
       "type": "ipynbError"
      }
     },
     "output_type": "display_data"
    }
   ],
   "source": [
    "final_df.groupby(by='FiscalWeek').agg({'Quantity':'sum','Predicted_Quantity':'sum','Sales':'sum','Predicted_Sales':'sum'}).reset_index()"
   ]
  },
  {
   "cell_type": "code",
   "execution_count": 0,
   "metadata": {
    "application/vnd.databricks.v1+cell": {
     "inputWidgets": {},
     "nuid": "4bbf1c1e-c327-40cc-b95c-d0bed7deb4ff",
     "showTitle": false,
     "title": ""
    }
   },
   "outputs": [
    {
     "data": {
      "text/html": [
       "<style scoped>\n",
       "  .ansiout {\n",
       "    display: block;\n",
       "    unicode-bidi: embed;\n",
       "    white-space: pre-wrap;\n",
       "    word-wrap: break-word;\n",
       "    word-break: break-all;\n",
       "    font-family: \"Source Code Pro\", \"Menlo\", monospace;;\n",
       "    font-size: 13px;\n",
       "    color: #555;\n",
       "    margin-left: 4px;\n",
       "    line-height: 19px;\n",
       "  }\n",
       "</style>"
      ]
     },
     "metadata": {
      "application/vnd.databricks.v1+output": {
       "arguments": {},
       "data": "",
       "errorSummary": "Command skipped",
       "errorTraceType": "html",
       "metadata": {},
       "type": "ipynbError"
      }
     },
     "output_type": "display_data"
    }
   ],
   "source": [
    "# final_df = spark.createDataFrame(final_df)\n",
    "display(final_df)"
   ]
  },
  {
   "cell_type": "code",
   "execution_count": 0,
   "metadata": {
    "application/vnd.databricks.v1+cell": {
     "inputWidgets": {},
     "nuid": "6a3e517a-f5e6-4a24-a481-fc96ba98404b",
     "showTitle": false,
     "title": ""
    }
   },
   "outputs": [
    {
     "data": {
      "text/html": [
       "<style scoped>\n",
       "  .ansiout {\n",
       "    display: block;\n",
       "    unicode-bidi: embed;\n",
       "    white-space: pre-wrap;\n",
       "    word-wrap: break-word;\n",
       "    word-break: break-all;\n",
       "    font-family: \"Source Code Pro\", \"Menlo\", monospace;;\n",
       "    font-size: 13px;\n",
       "    color: #555;\n",
       "    margin-left: 4px;\n",
       "    line-height: 19px;\n",
       "  }\n",
       "</style>"
      ]
     },
     "metadata": {
      "application/vnd.databricks.v1+output": {
       "arguments": {},
       "data": "",
       "errorSummary": "Command skipped",
       "errorTraceType": "html",
       "metadata": {},
       "type": "ipynbError"
      }
     },
     "output_type": "display_data"
    }
   ],
   "source": [
    "X.columns"
   ]
  },
  {
   "cell_type": "code",
   "execution_count": 0,
   "metadata": {
    "application/vnd.databricks.v1+cell": {
     "inputWidgets": {},
     "nuid": "aa6f553f-a66f-40a9-b0e1-564f61151780",
     "showTitle": false,
     "title": ""
    }
   },
   "outputs": [
    {
     "data": {
      "text/html": [
       "<style scoped>\n",
       "  .ansiout {\n",
       "    display: block;\n",
       "    unicode-bidi: embed;\n",
       "    white-space: pre-wrap;\n",
       "    word-wrap: break-word;\n",
       "    word-break: break-all;\n",
       "    font-family: \"Source Code Pro\", \"Menlo\", monospace;;\n",
       "    font-size: 13px;\n",
       "    color: #555;\n",
       "    margin-left: 4px;\n",
       "    line-height: 19px;\n",
       "  }\n",
       "</style>"
      ]
     },
     "metadata": {
      "application/vnd.databricks.v1+output": {
       "arguments": {},
       "data": "",
       "errorSummary": "Command skipped",
       "errorTraceType": "html",
       "metadata": {},
       "type": "ipynbError"
      }
     },
     "output_type": "display_data"
    }
   ],
   "source": [
    "# Loading tentpole calender table\n",
    "csvdf2 = spark.read.format(\"csv\").option(\"header\",True).load(\"/mnt/refined-zone/Distribution/PromoCalendar/\")\n",
    "tenpole = csvdf2.toPandas()\n",
    "\n",
    "# Convert the data type\n",
    "tenpole = tenpole.astype({'FiscalYear':'int','FiscalWeek':'int'})\n",
    "\n",
    "# Concatenating tentploe events\n",
    "tenpole['new_tentpole'] = tenpole[['Fiscal-Tentpole','Fiscal-TentpolePeriod']].apply(lambda x: str(x[0])+'_'+str(x[1]),axis=1)\n",
    "\n",
    "# Remove the spaces before and after the values\n",
    "tenpole['FiscalMonthName'] = tenpole['FiscalMonthName'].apply(lambda x: str(x).strip())"
   ]
  },
  {
   "cell_type": "code",
   "execution_count": 0,
   "metadata": {
    "application/vnd.databricks.v1+cell": {
     "inputWidgets": {},
     "nuid": "2c889dd7-ba0c-4e44-a1fe-03fee957d5e4",
     "showTitle": false,
     "title": ""
    }
   },
   "outputs": [
    {
     "data": {
      "text/html": [
       "<style scoped>\n",
       "  .ansiout {\n",
       "    display: block;\n",
       "    unicode-bidi: embed;\n",
       "    white-space: pre-wrap;\n",
       "    word-wrap: break-word;\n",
       "    word-break: break-all;\n",
       "    font-family: \"Source Code Pro\", \"Menlo\", monospace;;\n",
       "    font-size: 13px;\n",
       "    color: #555;\n",
       "    margin-left: 4px;\n",
       "    line-height: 19px;\n",
       "  }\n",
       "</style>"
      ]
     },
     "metadata": {
      "application/vnd.databricks.v1+output": {
       "arguments": {},
       "data": "",
       "errorSummary": "Command skipped",
       "errorTraceType": "html",
       "metadata": {},
       "type": "ipynbError"
      }
     },
     "output_type": "display_data"
    }
   ],
   "source": [
    "# Preparing test data\n",
    "df_forecast = train_data.sort_values(by=['FiscalYear','FiscalWeek'], ascending=False)\n",
    "\n",
    "# drop the duplicates based on pricezone and itemid\n",
    "df_forecast = df_forecast.drop_duplicates(subset=['ItemID','AFHSPGZ1','AFHSPGZ2','AFHSPGZ3','AFHSPGZ5','AFHSPGZ6','AFHSPGZ7','AFHSPGZ8'])\n",
    "df_forecast = df_forecast.reset_index(drop=True)\n",
    "\n",
    "# Take the current week and current year for looping\n",
    "current_yr, current_wk = df_forecast.iloc[0,5], df_forecast.iloc[0,6]\n",
    "\n",
    "iv_cols = list(X.columns)"
   ]
  },
  {
   "cell_type": "code",
   "execution_count": 0,
   "metadata": {
    "application/vnd.databricks.v1+cell": {
     "inputWidgets": {},
     "nuid": "4dbd630b-41e0-4f3f-aa94-cd650012a25a",
     "showTitle": false,
     "title": ""
    }
   },
   "outputs": [
    {
     "data": {
      "text/html": [
       "<style scoped>\n",
       "  .ansiout {\n",
       "    display: block;\n",
       "    unicode-bidi: embed;\n",
       "    white-space: pre-wrap;\n",
       "    word-wrap: break-word;\n",
       "    word-break: break-all;\n",
       "    font-family: \"Source Code Pro\", \"Menlo\", monospace;;\n",
       "    font-size: 13px;\n",
       "    color: #555;\n",
       "    margin-left: 4px;\n",
       "    line-height: 19px;\n",
       "  }\n",
       "</style>"
      ]
     },
     "metadata": {
      "application/vnd.databricks.v1+output": {
       "arguments": {},
       "data": "",
       "errorSummary": "Command skipped",
       "errorTraceType": "html",
       "metadata": {},
       "type": "ipynbError"
      }
     },
     "output_type": "display_data"
    }
   ],
   "source": [
    "# Load new pricing data\n",
    "new_price = spark.read.format(\"csv\").option(\"header\",True).load(\"/mnt/refined-zone/Distribution/Test_Analytics1/\")\n",
    "nw_prc = new_price.toPandas()\n",
    "\n",
    "nw_prc['Sku'] = [str(i).strip() for i in nw_prc['Sku']]\n",
    "id_lst = list(df_forecast.ItemID.unique())\n",
    "\n",
    "# Filter out the itemid's which are there in predition data\n",
    "new_price_df = nw_prc[nw_prc['Sku'].isin(id_lst)][['Sku', 'Status','Z1Best', 'Z2Best','Z3Best', 'Z5Best', 'Z6Best', 'Z7Best','Z8Best']]\n",
    "\n",
    "# Changing column names\n",
    "new_price_df.rename(columns={'Z1Best':'AFHSPGZ1', 'Z2Best':'AFHSPGZ2', 'Z3Best':'AFHSPGZ3', 'Z5Best':'AFHSPGZ5', 'Z6Best':'AFHSPGZ6',\n",
    "       'Z7Best':'AFHSPGZ7', 'Z8Best':'AFHSPGZ8'}, inplace=True)\n",
    "\n",
    "# Create a pricezone as new column in forecast data\n",
    "df_forecast['PriceZone'] = df_forecast[['AFHSPGZ1', 'AFHSPGZ2', 'AFHSPGZ3', 'AFHSPGZ5','AFHSPGZ6', 'AFHSPGZ7', 'AFHSPGZ8']].idxmax(axis=1)\n",
    "\n",
    "# make the list of unique sku's from the new price table\n",
    "sku_list = list(new_price_df.Sku.unique())\n",
    "\n",
    "# loop to assign the new prices based on item id and pricezone on the forecasting data \n",
    "for i in range(len(df_forecast)):\n",
    "  x,y = df_forecast.loc[i,'ItemID'], df_forecast.loc[i,'PriceZone']\n",
    "  if x in sku_list:\n",
    "    z = new_price_df[new_price_df['Sku']==x][y].iloc[0]\n",
    "    if z is not None:\n",
    "      df_forecast.loc[i,'AverageWeeklyPrice'] = float(z)\n",
    "    \n",
    "# drop newly created pricezone column and calculate new log price - not this one\n",
    "#df_forecast.drop(['PriceZone'],axis=1,inplace=True)"
   ]
  },
  {
   "cell_type": "code",
   "execution_count": 0,
   "metadata": {
    "application/vnd.databricks.v1+cell": {
     "inputWidgets": {},
     "nuid": "9395f9e6-20fc-4ce2-a56c-a8680308b5d9",
     "showTitle": false,
     "title": ""
    }
   },
   "outputs": [
    {
     "data": {
      "text/html": [
       "<style scoped>\n",
       "  .ansiout {\n",
       "    display: block;\n",
       "    unicode-bidi: embed;\n",
       "    white-space: pre-wrap;\n",
       "    word-wrap: break-word;\n",
       "    word-break: break-all;\n",
       "    font-family: \"Source Code Pro\", \"Menlo\", monospace;;\n",
       "    font-size: 13px;\n",
       "    color: #555;\n",
       "    margin-left: 4px;\n",
       "    line-height: 19px;\n",
       "  }\n",
       "</style>"
      ]
     },
     "metadata": {
      "application/vnd.databricks.v1+output": {
       "arguments": {},
       "data": "",
       "errorSummary": "Command skipped",
       "errorTraceType": "html",
       "metadata": {},
       "type": "ipynbError"
      }
     },
     "output_type": "display_data"
    }
   ],
   "source": [
    "atp_data = df[(df['FiscalYear']==2022)&(df['FiscalWeek']>25)]\n",
    "atp_data = atp_data[['ItemID','FiscalWeek','AFHSPGZ1','AFHSPGZ2','AFHSPGZ3','AFHSPGZ5','AFHSPGZ6','AFHSPGZ7','AFHSPGZ8','ATPQty']]"
   ]
  },
  {
   "cell_type": "code",
   "execution_count": 0,
   "metadata": {
    "application/vnd.databricks.v1+cell": {
     "inputWidgets": {},
     "nuid": "ec0be3b9-4448-415c-aa8b-41b6994a4087",
     "showTitle": false,
     "title": ""
    }
   },
   "outputs": [
    {
     "data": {
      "text/html": [
       "<style scoped>\n",
       "  .ansiout {\n",
       "    display: block;\n",
       "    unicode-bidi: embed;\n",
       "    white-space: pre-wrap;\n",
       "    word-wrap: break-word;\n",
       "    word-break: break-all;\n",
       "    font-family: \"Source Code Pro\", \"Menlo\", monospace;;\n",
       "    font-size: 13px;\n",
       "    color: #555;\n",
       "    margin-left: 4px;\n",
       "    line-height: 19px;\n",
       "  }\n",
       "</style>"
      ]
     },
     "metadata": {
      "application/vnd.databricks.v1+output": {
       "arguments": {},
       "data": "",
       "errorSummary": "Command skipped",
       "errorTraceType": "html",
       "metadata": {},
       "type": "ipynbError"
      }
     },
     "output_type": "display_data"
    }
   ],
   "source": [
    "atp_data = atp_data.dropna()"
   ]
  },
  {
   "cell_type": "code",
   "execution_count": 0,
   "metadata": {
    "application/vnd.databricks.v1+cell": {
     "inputWidgets": {},
     "nuid": "5acfd5ea-1bdb-469e-bf7a-c6b9c9ee26aa",
     "showTitle": false,
     "title": ""
    }
   },
   "outputs": [
    {
     "data": {
      "text/html": [
       "<style scoped>\n",
       "  .ansiout {\n",
       "    display: block;\n",
       "    unicode-bidi: embed;\n",
       "    white-space: pre-wrap;\n",
       "    word-wrap: break-word;\n",
       "    word-break: break-all;\n",
       "    font-family: \"Source Code Pro\", \"Menlo\", monospace;;\n",
       "    font-size: 13px;\n",
       "    color: #555;\n",
       "    margin-left: 4px;\n",
       "    line-height: 19px;\n",
       "  }\n",
       "</style>"
      ]
     },
     "metadata": {
      "application/vnd.databricks.v1+output": {
       "arguments": {},
       "data": "",
       "errorSummary": "Command skipped",
       "errorTraceType": "html",
       "metadata": {},
       "type": "ipynbError"
      }
     },
     "output_type": "display_data"
    }
   ],
   "source": [
    "wk_26 = atp_data[atp_data['FiscalWeek']==26]"
   ]
  },
  {
   "cell_type": "code",
   "execution_count": 0,
   "metadata": {
    "application/vnd.databricks.v1+cell": {
     "inputWidgets": {},
     "nuid": "40f04e73-066c-43fa-bdbb-e015b61bca43",
     "showTitle": false,
     "title": ""
    }
   },
   "outputs": [
    {
     "data": {
      "text/html": [
       "<style scoped>\n",
       "  .ansiout {\n",
       "    display: block;\n",
       "    unicode-bidi: embed;\n",
       "    white-space: pre-wrap;\n",
       "    word-wrap: break-word;\n",
       "    word-break: break-all;\n",
       "    font-family: \"Source Code Pro\", \"Menlo\", monospace;;\n",
       "    font-size: 13px;\n",
       "    color: #555;\n",
       "    margin-left: 4px;\n",
       "    line-height: 19px;\n",
       "  }\n",
       "</style>"
      ]
     },
     "metadata": {
      "application/vnd.databricks.v1+output": {
       "arguments": {},
       "data": "",
       "errorSummary": "Command skipped",
       "errorTraceType": "html",
       "metadata": {},
       "type": "ipynbError"
      }
     },
     "output_type": "display_data"
    }
   ],
   "source": [
    "df_forecast.columns"
   ]
  },
  {
   "cell_type": "code",
   "execution_count": 0,
   "metadata": {
    "application/vnd.databricks.v1+cell": {
     "inputWidgets": {},
     "nuid": "bad3fca4-6957-41d2-b178-ed635f551fcd",
     "showTitle": false,
     "title": ""
    }
   },
   "outputs": [
    {
     "data": {
      "text/html": [
       "<style scoped>\n",
       "  .ansiout {\n",
       "    display: block;\n",
       "    unicode-bidi: embed;\n",
       "    white-space: pre-wrap;\n",
       "    word-wrap: break-word;\n",
       "    word-break: break-all;\n",
       "    font-family: \"Source Code Pro\", \"Menlo\", monospace;;\n",
       "    font-size: 13px;\n",
       "    color: #555;\n",
       "    margin-left: 4px;\n",
       "    line-height: 19px;\n",
       "  }\n",
       "</style>"
      ]
     },
     "metadata": {
      "application/vnd.databricks.v1+output": {
       "arguments": {},
       "data": "",
       "errorSummary": "Command skipped",
       "errorTraceType": "html",
       "metadata": {},
       "type": "ipynbError"
      }
     },
     "output_type": "display_data"
    }
   ],
   "source": [
    "n = 0\n",
    "final_df = pd.DataFrame()\n",
    "months = ['January', 'Feburary', 'March', 'April', 'May', 'June', 'July', 'August', 'September', 'October', 'November', 'December']\n",
    "val_2 = 54-current_wk\n",
    "for week in range(current_wk,current_wk+val_2):\n",
    "  if n == 0:\n",
    "    df_forecast['FiscalWeek'] = week\n",
    "    \n",
    "    new_tent_cols = tentpole_cols.copy()\n",
    "    months_lst = months.copy()\n",
    "    \n",
    "    df_forecast['DiscountPercent'] = 10\n",
    "    tp_col = tenpole[(tenpole['FiscalYear'] == current_yr)&(tenpole['FiscalWeek'] == week)]['new_tentpole'].iloc[0]\n",
    "    mth_col = tenpole[(tenpole['FiscalYear'] == current_yr)&(tenpole['FiscalWeek'] == week)]['FiscalMonthName'].iloc[0]\n",
    "    \n",
    "    if tp_col != 'None_None':\n",
    "      new_tent_cols.remove(tp_col)\n",
    "      df_forecast[tp_col] = 1\n",
    "      \n",
    "    months_lst.remove(mth_col)\n",
    "    \n",
    "    df_forecast[months_lst] = df_forecast[months_lst].applymap(lambda x: 0)\n",
    "    df_forecast[mth_col] = 1\n",
    "    \n",
    "    df_forecast[new_tent_cols] = df_forecast[new_tent_cols].applymap(lambda x: 0)\n",
    "    df_forecast[\"Holiday\"] = df_forecast[tentpole_cols].apply(lambda x: 1 if sum(x)>0 else 0, axis=1)\n",
    "    df_forecast.dropna(inplace=True)\n",
    "    \n",
    "    # prediction Test Data\n",
    "    forecast = pd.DataFrame()\n",
    "    \n",
    "    for prod in prod_line_list:\n",
    "      for pric_lst in price_zone_list:\n",
    "        forecasted_df = df_forecast[(df_forecast.Productline == prod)& (df_forecast.PriceZone == pric_lst)].reset_index(drop = True)\n",
    "        #forecasted_df = df_forecast[df_forecast['Productline'] == prod].reset_index(drop = True)\n",
    "        test_x = forecasted_df[iv_cols]\n",
    "        forecasted_df['Predicted_Quantity'] = np.round(models[prod].predict(test_x),1)\n",
    "        forecasted_df['Pred_Sales'] = forecasted_df['Predicted_Quantity'] * forecasted_df['AverageWeeklyPrice']\n",
    "        forecast = pd.concat([forecast,forecasted_df], axis=0, ignore_index=True)\n",
    "    \n",
    "    final_df = pd.concat([final_df,forecast], axis=0, ignore_index=True)\n",
    "    \n",
    "  else:\n",
    "    nw_wk = week-1\n",
    "    df_forecast = final_df[final_df['FiscalWeek'] == nw_wk]\n",
    "    df_forecast['FiscalWeek'] = week\n",
    "    \n",
    "    new_tent_cols = tentpole_cols.copy()\n",
    "    months_lst = months.copy()\n",
    "    \n",
    "    tp_col = tenpole[(tenpole['FiscalYear'] == current_yr)&(tenpole['FiscalWeek'] == week)]['new_tentpole'].iloc[0]\n",
    "    mth_col = tenpole[(tenpole['FiscalYear'] == current_yr)&(tenpole['FiscalWeek'] == week)]['FiscalMonthName'].iloc[0]\n",
    "    \n",
    "    if tp_col != 'None_None':\n",
    "      new_tent_cols.remove(tp_col)\n",
    "      df_forecast[tp_col] = 1\n",
    "      \n",
    "    df_forecast[new_tent_cols] = df_forecast[new_tent_cols].applymap(lambda x: 0)\n",
    "    \n",
    "    \n",
    "    months_lst.remove(mth_col)\n",
    "    \n",
    "    df_forecast[months_lst] = df_forecast[months_lst].applymap(lambda x: 0)\n",
    "    df_forecast[mth_col] = 1\n",
    "    df_forecast['DiscountPercent'] = 10\n",
    "         \n",
    "    df_forecast[\"Holiday\"] = df_forecast[tentpole_cols].apply(lambda x: 1 if sum(x)>0 else 0, axis=1)\n",
    "    \n",
    "    df_forecast.dropna(inplace=True)\n",
    "    \n",
    "    forecast = pd.DataFrame()\n",
    "    for prod in prod_line_list:\n",
    "      for pric_lst in price_zone_list:\n",
    "        forecasted_df = df_forecast[(df_forecast.Productline == prod)& (df_forecast.PriceZone == pric_lst)].reset_index(drop = True)\n",
    "        #forecasted_df = df_forecast[df_forecast['Productline'] == prod].reset_index(drop = True)\n",
    "        test_x = forecasted_df[iv_cols]\n",
    "        forecasted_df['Predicted_Quantity'] = np.round(models[prod].predict(test_x),1)\n",
    "        forecasted_df['Pred_Sales'] = forecasted_df['Predicted_Quantity'] * forecasted_df['AverageWeeklyPrice']\n",
    "        forecast = pd.concat([forecast,forecasted_df], axis=0, ignore_index=True)\n",
    "\n",
    "    final_df = pd.concat([final_df,forecast], axis=0, ignore_index=True)\n",
    "    \n",
    "  n = n+1"
   ]
  },
  {
   "cell_type": "code",
   "execution_count": 0,
   "metadata": {
    "application/vnd.databricks.v1+cell": {
     "inputWidgets": {},
     "nuid": "d4eb1388-b4ea-4175-a24f-8c7670e38568",
     "showTitle": false,
     "title": ""
    }
   },
   "outputs": [
    {
     "data": {
      "text/html": [
       "<style scoped>\n",
       "  .ansiout {\n",
       "    display: block;\n",
       "    unicode-bidi: embed;\n",
       "    white-space: pre-wrap;\n",
       "    word-wrap: break-word;\n",
       "    word-break: break-all;\n",
       "    font-family: \"Source Code Pro\", \"Menlo\", monospace;;\n",
       "    font-size: 13px;\n",
       "    color: #555;\n",
       "    margin-left: 4px;\n",
       "    line-height: 19px;\n",
       "  }\n",
       "</style>"
      ]
     },
     "metadata": {
      "application/vnd.databricks.v1+output": {
       "arguments": {},
       "data": "",
       "errorSummary": "Command skipped",
       "errorTraceType": "html",
       "metadata": {},
       "type": "ipynbError"
      }
     },
     "output_type": "display_data"
    }
   ],
   "source": [
    "final_df.shape"
   ]
  },
  {
   "cell_type": "code",
   "execution_count": 0,
   "metadata": {
    "application/vnd.databricks.v1+cell": {
     "inputWidgets": {},
     "nuid": "a764ba0e-1799-493f-abd6-98c1a0a028c9",
     "showTitle": false,
     "title": ""
    }
   },
   "outputs": [
    {
     "data": {
      "text/html": [
       "<style scoped>\n",
       "  .ansiout {\n",
       "    display: block;\n",
       "    unicode-bidi: embed;\n",
       "    white-space: pre-wrap;\n",
       "    word-wrap: break-word;\n",
       "    word-break: break-all;\n",
       "    font-family: \"Source Code Pro\", \"Menlo\", monospace;;\n",
       "    font-size: 13px;\n",
       "    color: #555;\n",
       "    margin-left: 4px;\n",
       "    line-height: 19px;\n",
       "  }\n",
       "</style>"
      ]
     },
     "metadata": {
      "application/vnd.databricks.v1+output": {
       "arguments": {},
       "data": "",
       "errorSummary": "Command skipped",
       "errorTraceType": "html",
       "metadata": {},
       "type": "ipynbError"
      }
     },
     "output_type": "display_data"
    }
   ],
   "source": [
    "grp_cols = ['ItemID','Productline','FiscalWeek','AFHSPGZ1', 'AFHSPGZ2', 'AFHSPGZ3', 'AFHSPGZ5', 'AFHSPGZ6', 'AFHSPGZ7', 'AFHSPGZ8']\n",
    "df_final = final_df.groupby(by=grp_cols).agg({'Predicted_Quantity':'sum','Pred_Sales':'sum'}).reset_index()\n",
    "\n",
    "#tz_NY = pytz.timezone('Asia/Kolkata')  \n",
    "#now = datetime.now(tz_NY)\n",
    "df_final['UniqueID'] = 'XGBReg_'+str(now.strftime('%B'))+str(now.day)+str(now.time())[:2]+str(now.time())[3:5]\n",
    "df_final['ModelName'] = 'XG Boost Regression'\n",
    "df_final['Description'] = 'Xgboost model with previews week sales, quantity difference and discount rate(10%)'\n",
    "df_final['RunDateTime'] = pd.to_datetime(now, format='%Y/%m/%d %H:%M:%S')\n",
    "\n",
    "df_final = df_final[[ 'UniqueID', 'ItemID', 'Productline', 'FiscalWeek', 'AFHSPGZ1', 'AFHSPGZ2', 'AFHSPGZ3', 'AFHSPGZ5', 'AFHSPGZ6', 'AFHSPGZ7', 'AFHSPGZ8','Predicted_Quantity', 'Predicted_Sales', 'ModelName', 'Description', 'RunDateTime']]"
   ]
  },
  {
   "cell_type": "code",
   "execution_count": 0,
   "metadata": {
    "application/vnd.databricks.v1+cell": {
     "inputWidgets": {},
     "nuid": "13242843-9788-4126-9ffe-aa7b28001d4a",
     "showTitle": false,
     "title": ""
    }
   },
   "outputs": [
    {
     "data": {
      "text/html": [
       "<style scoped>\n",
       "  .ansiout {\n",
       "    display: block;\n",
       "    unicode-bidi: embed;\n",
       "    white-space: pre-wrap;\n",
       "    word-wrap: break-word;\n",
       "    word-break: break-all;\n",
       "    font-family: \"Source Code Pro\", \"Menlo\", monospace;;\n",
       "    font-size: 13px;\n",
       "    color: #555;\n",
       "    margin-left: 4px;\n",
       "    line-height: 19px;\n",
       "  }\n",
       "</style>"
      ]
     },
     "metadata": {
      "application/vnd.databricks.v1+output": {
       "arguments": {},
       "data": "",
       "errorSummary": "Command skipped",
       "errorTraceType": "html",
       "metadata": {},
       "type": "ipynbError"
      }
     },
     "output_type": "display_data"
    }
   ],
   "source": [
    "df_final = spark.createDataFrame(df_final)\n",
    "display(df_final)"
   ]
  },
  {
   "cell_type": "code",
   "execution_count": 0,
   "metadata": {
    "application/vnd.databricks.v1+cell": {
     "inputWidgets": {},
     "nuid": "c184b9c3-b0a1-49b8-9f9b-8594573e5a1e",
     "showTitle": false,
     "title": ""
    }
   },
   "outputs": [
    {
     "data": {
      "text/html": [
       "<style scoped>\n",
       "  .ansiout {\n",
       "    display: block;\n",
       "    unicode-bidi: embed;\n",
       "    white-space: pre-wrap;\n",
       "    word-wrap: break-word;\n",
       "    word-break: break-all;\n",
       "    font-family: \"Source Code Pro\", \"Menlo\", monospace;;\n",
       "    font-size: 13px;\n",
       "    color: #555;\n",
       "    margin-left: 4px;\n",
       "    line-height: 19px;\n",
       "  }\n",
       "</style>"
      ]
     },
     "metadata": {
      "application/vnd.databricks.v1+output": {
       "arguments": {},
       "data": "",
       "errorSummary": "Command skipped",
       "errorTraceType": "html",
       "metadata": {},
       "type": "ipynbError"
      }
     },
     "output_type": "display_data"
    }
   ],
   "source": [
    "final_df.groupby(by='FiscalWeek').agg({'Predicted_Quantity':'sum','Pred_Sales':'sum'}).reset_index()"
   ]
  },
  {
   "cell_type": "code",
   "execution_count": 0,
   "metadata": {
    "application/vnd.databricks.v1+cell": {
     "inputWidgets": {},
     "nuid": "086a819a-b06e-4fb0-8cc5-bc76a7842213",
     "showTitle": false,
     "title": ""
    }
   },
   "outputs": [
    {
     "data": {
      "text/html": [
       "<style scoped>\n",
       "  .ansiout {\n",
       "    display: block;\n",
       "    unicode-bidi: embed;\n",
       "    white-space: pre-wrap;\n",
       "    word-wrap: break-word;\n",
       "    word-break: break-all;\n",
       "    font-family: \"Source Code Pro\", \"Menlo\", monospace;;\n",
       "    font-size: 13px;\n",
       "    color: #555;\n",
       "    margin-left: 4px;\n",
       "    line-height: 19px;\n",
       "  }\n",
       "</style>"
      ]
     },
     "metadata": {
      "application/vnd.databricks.v1+output": {
       "arguments": {},
       "data": "",
       "errorSummary": "Command skipped",
       "errorTraceType": "html",
       "metadata": {},
       "type": "ipynbError"
      }
     },
     "output_type": "display_data"
    }
   ],
   "source": [
    "len(final_df['ItemID'].unique())"
   ]
  },
  {
   "cell_type": "code",
   "execution_count": 0,
   "metadata": {
    "application/vnd.databricks.v1+cell": {
     "inputWidgets": {},
     "nuid": "dd8a27a4-cfd4-44e8-b414-d21a0c05054f",
     "showTitle": false,
     "title": ""
    }
   },
   "outputs": [
    {
     "data": {
      "text/html": [
       "<style scoped>\n",
       "  .ansiout {\n",
       "    display: block;\n",
       "    unicode-bidi: embed;\n",
       "    white-space: pre-wrap;\n",
       "    word-wrap: break-word;\n",
       "    word-break: break-all;\n",
       "    font-family: \"Source Code Pro\", \"Menlo\", monospace;;\n",
       "    font-size: 13px;\n",
       "    color: #555;\n",
       "    margin-left: 4px;\n",
       "    line-height: 19px;\n",
       "  }\n",
       "</style>"
      ]
     },
     "metadata": {
      "application/vnd.databricks.v1+output": {
       "arguments": {},
       "data": "",
       "errorSummary": "Command skipped",
       "errorTraceType": "html",
       "metadata": {},
       "type": "ipynbError"
      }
     },
     "output_type": "display_data"
    }
   ],
   "source": [
    "df_final = final_df.groupby(by='FiscalWeek').agg({'Predicted_Quantity':'sum','Pred_Sales':'sum'}).reset_index()\n",
    "df_final['Model_Name'] = 'XG Boost Regression'\n",
    "df_final['Model_Description'] = 'Model was built on product line level with previews week sales and difference in qty is used for prediction'\n",
    "now = datetime.now()\n",
    "df_final['RunDateTime'] = pd.to_datetime(now, format='%Y/%m/%d %H:%M:%S')"
   ]
  },
  {
   "cell_type": "code",
   "execution_count": 0,
   "metadata": {
    "application/vnd.databricks.v1+cell": {
     "inputWidgets": {},
     "nuid": "aed4639f-ad14-4e6e-93c4-3fb989e4d8ab",
     "showTitle": false,
     "title": ""
    }
   },
   "outputs": [
    {
     "data": {
      "text/html": [
       "<style scoped>\n",
       "  .ansiout {\n",
       "    display: block;\n",
       "    unicode-bidi: embed;\n",
       "    white-space: pre-wrap;\n",
       "    word-wrap: break-word;\n",
       "    word-break: break-all;\n",
       "    font-family: \"Source Code Pro\", \"Menlo\", monospace;;\n",
       "    font-size: 13px;\n",
       "    color: #555;\n",
       "    margin-left: 4px;\n",
       "    line-height: 19px;\n",
       "  }\n",
       "</style>"
      ]
     },
     "metadata": {
      "application/vnd.databricks.v1+output": {
       "arguments": {},
       "data": "",
       "errorSummary": "Command skipped",
       "errorTraceType": "html",
       "metadata": {},
       "type": "ipynbError"
      }
     },
     "output_type": "display_data"
    }
   ],
   "source": [
    "display(final_df)"
   ]
  },
  {
   "cell_type": "code",
   "execution_count": 0,
   "metadata": {
    "application/vnd.databricks.v1+cell": {
     "inputWidgets": {},
     "nuid": "d5b39891-57e4-4fd4-9745-1328fb374699",
     "showTitle": false,
     "title": ""
    }
   },
   "outputs": [
    {
     "data": {
      "text/html": [
       "<style scoped>\n",
       "  .ansiout {\n",
       "    display: block;\n",
       "    unicode-bidi: embed;\n",
       "    white-space: pre-wrap;\n",
       "    word-wrap: break-word;\n",
       "    word-break: break-all;\n",
       "    font-family: \"Source Code Pro\", \"Menlo\", monospace;;\n",
       "    font-size: 13px;\n",
       "    color: #555;\n",
       "    margin-left: 4px;\n",
       "    line-height: 19px;\n",
       "  }\n",
       "</style>"
      ]
     },
     "metadata": {
      "application/vnd.databricks.v1+output": {
       "arguments": {},
       "data": "",
       "errorSummary": "Command skipped",
       "errorTraceType": "html",
       "metadata": {},
       "type": "ipynbError"
      }
     },
     "output_type": "display_data"
    }
   ],
   "source": [
    "from pyspark.sql import SparkSession\n",
    "from pyspark.sql.types import *\n",
    "spark = SparkSession.builder.appName(\"pandas to spark\").getOrCreate()\n",
    "df_spark = spark.createDataFrame(df_final)\n",
    "dffinal = df_spark.selectExpr('Model_Name as ModelName','Model_Description as ModelDescription','cast(FiscalWeek as int) FiscalWeek','cast(Predicted_Quantity as decimal(10,2)) PredictedQuantity','cast(Pred_Sales as decimal(15,2)) PredSales','RunDateTime') \n",
    "display(dffinal)"
   ]
  },
  {
   "cell_type": "code",
   "execution_count": 0,
   "metadata": {
    "application/vnd.databricks.v1+cell": {
     "inputWidgets": {},
     "nuid": "34979bd8-b658-464a-af2c-90035325509e",
     "showTitle": false,
     "title": ""
    }
   },
   "outputs": [
    {
     "data": {
      "text/html": [
       "<style scoped>\n",
       "  .ansiout {\n",
       "    display: block;\n",
       "    unicode-bidi: embed;\n",
       "    white-space: pre-wrap;\n",
       "    word-wrap: break-word;\n",
       "    word-break: break-all;\n",
       "    font-family: \"Source Code Pro\", \"Menlo\", monospace;;\n",
       "    font-size: 13px;\n",
       "    color: #555;\n",
       "    margin-left: 4px;\n",
       "    line-height: 19px;\n",
       "  }\n",
       "</style>"
      ]
     },
     "metadata": {
      "application/vnd.databricks.v1+output": {
       "arguments": {},
       "data": "",
       "errorSummary": "Command skipped",
       "errorTraceType": "html",
       "metadata": {},
       "type": "ipynbError"
      }
     },
     "output_type": "display_data"
    }
   ],
   "source": [
    "met_df = spark.createDataFrame(metric_df)\n",
    "display(met_df)"
   ]
  },
  {
   "cell_type": "code",
   "execution_count": 0,
   "metadata": {
    "application/vnd.databricks.v1+cell": {
     "inputWidgets": {},
     "nuid": "656cac0e-033a-4132-a069-ca664b0d884e",
     "showTitle": false,
     "title": ""
    }
   },
   "outputs": [
    {
     "data": {
      "text/html": [
       "<style scoped>\n",
       "  .ansiout {\n",
       "    display: block;\n",
       "    unicode-bidi: embed;\n",
       "    white-space: pre-wrap;\n",
       "    word-wrap: break-word;\n",
       "    word-break: break-all;\n",
       "    font-family: \"Source Code Pro\", \"Menlo\", monospace;;\n",
       "    font-size: 13px;\n",
       "    color: #555;\n",
       "    margin-left: 4px;\n",
       "    line-height: 19px;\n",
       "  }\n",
       "</style>"
      ]
     },
     "metadata": {
      "application/vnd.databricks.v1+output": {
       "arguments": {},
       "data": "",
       "errorSummary": "Command skipped",
       "errorTraceType": "html",
       "metadata": {},
       "type": "ipynbError"
      }
     },
     "output_type": "display_data"
    }
   ],
   "source": [
    "plt.rcParams[\"figure.figsize\"] = (15,10)\n",
    "train_df.plot.scatter(x = 'Quantity', y = 'Predicted_Quantity', s = 50)"
   ]
  },
  {
   "cell_type": "code",
   "execution_count": 0,
   "metadata": {
    "application/vnd.databricks.v1+cell": {
     "inputWidgets": {},
     "nuid": "26bb7d82-6feb-4b7c-9ed1-ec353d856459",
     "showTitle": false,
     "title": ""
    }
   },
   "outputs": [
    {
     "data": {
      "text/html": [
       "<style scoped>\n",
       "  .ansiout {\n",
       "    display: block;\n",
       "    unicode-bidi: embed;\n",
       "    white-space: pre-wrap;\n",
       "    word-wrap: break-word;\n",
       "    word-break: break-all;\n",
       "    font-family: \"Source Code Pro\", \"Menlo\", monospace;;\n",
       "    font-size: 13px;\n",
       "    color: #555;\n",
       "    margin-left: 4px;\n",
       "    line-height: 19px;\n",
       "  }\n",
       "</style>"
      ]
     },
     "metadata": {
      "application/vnd.databricks.v1+output": {
       "arguments": {},
       "data": "",
       "errorSummary": "Command skipped",
       "errorTraceType": "html",
       "metadata": {},
       "type": "ipynbError"
      }
     },
     "output_type": "display_data"
    }
   ],
   "source": [
    "#final_df = spark.createDataFrame(final_df)\n",
    "display(final_df)"
   ]
  },
  {
   "cell_type": "code",
   "execution_count": 0,
   "metadata": {
    "application/vnd.databricks.v1+cell": {
     "inputWidgets": {},
     "nuid": "4b377945-e38f-4aef-a370-41cc31c33291",
     "showTitle": false,
     "title": ""
    }
   },
   "outputs": [],
   "source": []
  },
  {
   "cell_type": "code",
   "execution_count": 0,
   "metadata": {
    "application/vnd.databricks.v1+cell": {
     "inputWidgets": {},
     "nuid": "43b171aa-7927-4d6d-91fc-194366491430",
     "showTitle": false,
     "title": ""
    }
   },
   "outputs": [],
   "source": []
  },
  {
   "cell_type": "code",
   "execution_count": 0,
   "metadata": {
    "application/vnd.databricks.v1+cell": {
     "inputWidgets": {},
     "nuid": "02839a5a-9e83-4b62-a3fe-398293d1bc51",
     "showTitle": false,
     "title": ""
    }
   },
   "outputs": [
    {
     "data": {
      "text/html": [
       "<style scoped>\n",
       "  .ansiout {\n",
       "    display: block;\n",
       "    unicode-bidi: embed;\n",
       "    white-space: pre-wrap;\n",
       "    word-wrap: break-word;\n",
       "    word-break: break-all;\n",
       "    font-family: \"Source Code Pro\", \"Menlo\", monospace;;\n",
       "    font-size: 13px;\n",
       "    color: #555;\n",
       "    margin-left: 4px;\n",
       "    line-height: 19px;\n",
       "  }\n",
       "</style>"
      ]
     },
     "metadata": {
      "application/vnd.databricks.v1+output": {
       "arguments": {},
       "data": "",
       "errorSummary": "Command skipped",
       "errorTraceType": "html",
       "metadata": {},
       "type": "ipynbError"
      }
     },
     "output_type": "display_data"
    }
   ],
   "source": [
    "Bedding = final_df[final_df['Productline'] == 'Bedding']\n",
    "Bedding.shape"
   ]
  },
  {
   "cell_type": "code",
   "execution_count": 0,
   "metadata": {
    "application/vnd.databricks.v1+cell": {
     "inputWidgets": {},
     "nuid": "d44a8f24-b779-41d2-9432-5bdb4e10befd",
     "showTitle": false,
     "title": ""
    }
   },
   "outputs": [
    {
     "data": {
      "text/html": [
       "<style scoped>\n",
       "  .ansiout {\n",
       "    display: block;\n",
       "    unicode-bidi: embed;\n",
       "    white-space: pre-wrap;\n",
       "    word-wrap: break-word;\n",
       "    word-break: break-all;\n",
       "    font-family: \"Source Code Pro\", \"Menlo\", monospace;;\n",
       "    font-size: 13px;\n",
       "    color: #555;\n",
       "    margin-left: 4px;\n",
       "    line-height: 19px;\n",
       "  }\n",
       "</style>"
      ]
     },
     "metadata": {
      "application/vnd.databricks.v1+output": {
       "arguments": {},
       "data": "",
       "errorSummary": "Command skipped",
       "errorTraceType": "html",
       "metadata": {},
       "type": "ipynbError"
      }
     },
     "output_type": "display_data"
    }
   ],
   "source": [
    "Bedding_top_20=Bedding.groupby(['ItemID'])['Sales'].sum().sort_values(ascending=False).head(20).index.to_list()\n",
    "Bedding_top=final_df[final_df.ItemID.isin(Bedding_top_20)]\n",
    "Bedding_top.shape\n",
    "\n",
    "Bedding_bottom_20=Bedding.groupby(['ItemID'])['Sales'].sum().sort_values(ascending=True).head(20).index.to_list()\n",
    "Bedding_bottom=final_df[final_df.ItemID.isin(Bedding_bottom_20)]\n",
    "Bedding_bottom.shape\n",
    "\n",
    "Bedding_top_20=Bedding.groupby(['ItemID'])['Sales'].sum().sort_values(ascending=False).head(20).index.to_list()\n",
    "Bedding_rest=final_df[~final_df.ItemID.isin(Bedding_top_20)]\n",
    "Bedding_rest.shape"
   ]
  },
  {
   "cell_type": "code",
   "execution_count": 0,
   "metadata": {
    "application/vnd.databricks.v1+cell": {
     "inputWidgets": {},
     "nuid": "72538e2e-482e-4657-9e4d-59007c5f01ef",
     "showTitle": false,
     "title": ""
    }
   },
   "outputs": [
    {
     "data": {
      "text/html": [
       "<style scoped>\n",
       "  .ansiout {\n",
       "    display: block;\n",
       "    unicode-bidi: embed;\n",
       "    white-space: pre-wrap;\n",
       "    word-wrap: break-word;\n",
       "    word-break: break-all;\n",
       "    font-family: \"Source Code Pro\", \"Menlo\", monospace;;\n",
       "    font-size: 13px;\n",
       "    color: #555;\n",
       "    margin-left: 4px;\n",
       "    line-height: 19px;\n",
       "  }\n",
       "</style>"
      ]
     },
     "metadata": {
      "application/vnd.databricks.v1+output": {
       "arguments": {},
       "data": "",
       "errorSummary": "Command skipped",
       "errorTraceType": "html",
       "metadata": {},
       "type": "ipynbError"
      }
     },
     "output_type": "display_data"
    }
   ],
   "source": [
    "Bedding_top['Error_Qty'] = Bedding_top['Predicted_Quantity'] - Bedding_top['Quantity'] \n",
    "Bedding_bottom['Error_Qty'] = Bedding_bottom['Predicted_Quantity'] - Bedding_bottom['Quantity'] \n",
    "Bedding_rest['Error_Qty'] = Bedding_rest['Predicted_Quantity'] - Bedding_rest['Quantity'] "
   ]
  },
  {
   "cell_type": "code",
   "execution_count": 0,
   "metadata": {
    "application/vnd.databricks.v1+cell": {
     "inputWidgets": {},
     "nuid": "3a0676fa-8480-41c6-9338-8df965585d44",
     "showTitle": false,
     "title": ""
    }
   },
   "outputs": [
    {
     "data": {
      "text/html": [
       "<style scoped>\n",
       "  .ansiout {\n",
       "    display: block;\n",
       "    unicode-bidi: embed;\n",
       "    white-space: pre-wrap;\n",
       "    word-wrap: break-word;\n",
       "    word-break: break-all;\n",
       "    font-family: \"Source Code Pro\", \"Menlo\", monospace;;\n",
       "    font-size: 13px;\n",
       "    color: #555;\n",
       "    margin-left: 4px;\n",
       "    line-height: 19px;\n",
       "  }\n",
       "</style>"
      ]
     },
     "metadata": {
      "application/vnd.databricks.v1+output": {
       "arguments": {},
       "data": "",
       "errorSummary": "Command skipped",
       "errorTraceType": "html",
       "metadata": {},
       "type": "ipynbError"
      }
     },
     "output_type": "display_data"
    }
   ],
   "source": [
    "Bedding_top.groupby(['ItemID'])['Error_Qty'].sum().sort_values(ascending=False).plot(kind=\"bar\")"
   ]
  },
  {
   "cell_type": "code",
   "execution_count": 0,
   "metadata": {
    "application/vnd.databricks.v1+cell": {
     "inputWidgets": {},
     "nuid": "dadf8470-60a2-4e80-8386-4a091467f5c0",
     "showTitle": false,
     "title": ""
    }
   },
   "outputs": [
    {
     "data": {
      "text/html": [
       "<style scoped>\n",
       "  .ansiout {\n",
       "    display: block;\n",
       "    unicode-bidi: embed;\n",
       "    white-space: pre-wrap;\n",
       "    word-wrap: break-word;\n",
       "    word-break: break-all;\n",
       "    font-family: \"Source Code Pro\", \"Menlo\", monospace;;\n",
       "    font-size: 13px;\n",
       "    color: #555;\n",
       "    margin-left: 4px;\n",
       "    line-height: 19px;\n",
       "  }\n",
       "</style>"
      ]
     },
     "metadata": {
      "application/vnd.databricks.v1+output": {
       "arguments": {},
       "data": "",
       "errorSummary": "Command skipped",
       "errorTraceType": "html",
       "metadata": {},
       "type": "ipynbError"
      }
     },
     "output_type": "display_data"
    }
   ],
   "source": [
    "Bedding_top[Bedding_top['ItemID'] == 'M69631']\n"
   ]
  },
  {
   "cell_type": "code",
   "execution_count": 0,
   "metadata": {
    "application/vnd.databricks.v1+cell": {
     "inputWidgets": {},
     "nuid": "784648c3-d7de-466d-a12b-c0e03a011ce8",
     "showTitle": false,
     "title": ""
    }
   },
   "outputs": [
    {
     "data": {
      "text/html": [
       "<style scoped>\n",
       "  .ansiout {\n",
       "    display: block;\n",
       "    unicode-bidi: embed;\n",
       "    white-space: pre-wrap;\n",
       "    word-wrap: break-word;\n",
       "    word-break: break-all;\n",
       "    font-family: \"Source Code Pro\", \"Menlo\", monospace;;\n",
       "    font-size: 13px;\n",
       "    color: #555;\n",
       "    margin-left: 4px;\n",
       "    line-height: 19px;\n",
       "  }\n",
       "</style>"
      ]
     },
     "metadata": {
      "application/vnd.databricks.v1+output": {
       "arguments": {},
       "data": "",
       "errorSummary": "Command skipped",
       "errorTraceType": "html",
       "metadata": {},
       "type": "ipynbError"
      }
     },
     "output_type": "display_data"
    }
   ],
   "source": [
    "Bedding_top[Bedding_top['ItemID'] == 'M69621'][['ItemID','FiscalWeek','AFHSPGZ1', 'AFHSPGZ2', 'AFHSPGZ3', 'AFHSPGZ5', 'AFHSPGZ6',\n",
    "       'AFHSPGZ7', 'AFHSPGZ8','Sales','Pred_Sales','Quantity','Predicted_Quantity','Error_Qty']]"
   ]
  },
  {
   "cell_type": "code",
   "execution_count": 0,
   "metadata": {
    "application/vnd.databricks.v1+cell": {
     "inputWidgets": {},
     "nuid": "05c326cd-99ba-4100-9db0-885767803686",
     "showTitle": false,
     "title": ""
    }
   },
   "outputs": [
    {
     "data": {
      "text/html": [
       "<style scoped>\n",
       "  .ansiout {\n",
       "    display: block;\n",
       "    unicode-bidi: embed;\n",
       "    white-space: pre-wrap;\n",
       "    word-wrap: break-word;\n",
       "    word-break: break-all;\n",
       "    font-family: \"Source Code Pro\", \"Menlo\", monospace;;\n",
       "    font-size: 13px;\n",
       "    color: #555;\n",
       "    margin-left: 4px;\n",
       "    line-height: 19px;\n",
       "  }\n",
       "</style>"
      ]
     },
     "metadata": {
      "application/vnd.databricks.v1+output": {
       "arguments": {},
       "data": "",
       "errorSummary": "Command skipped",
       "errorTraceType": "html",
       "metadata": {},
       "type": "ipynbError"
      }
     },
     "output_type": "display_data"
    }
   ],
   "source": [
    "Bedding_top[Bedding_top['ItemID'] == 'M69631'][['ItemID','FiscalWeek','AFHSPGZ1', 'AFHSPGZ2', 'AFHSPGZ3', 'AFHSPGZ5', 'AFHSPGZ6',\n",
    "       'AFHSPGZ7', 'AFHSPGZ8','Sales','Pred_Sales','Quantity','Predicted_Quantity','Error_Qty']]"
   ]
  },
  {
   "cell_type": "code",
   "execution_count": 0,
   "metadata": {
    "application/vnd.databricks.v1+cell": {
     "inputWidgets": {},
     "nuid": "2cd1e10d-3fdd-47ed-8ed1-1e41374ae843",
     "showTitle": false,
     "title": ""
    }
   },
   "outputs": [
    {
     "data": {
      "text/html": [
       "<style scoped>\n",
       "  .ansiout {\n",
       "    display: block;\n",
       "    unicode-bidi: embed;\n",
       "    white-space: pre-wrap;\n",
       "    word-wrap: break-word;\n",
       "    word-break: break-all;\n",
       "    font-family: \"Source Code Pro\", \"Menlo\", monospace;;\n",
       "    font-size: 13px;\n",
       "    color: #555;\n",
       "    margin-left: 4px;\n",
       "    line-height: 19px;\n",
       "  }\n",
       "</style>"
      ]
     },
     "metadata": {
      "application/vnd.databricks.v1+output": {
       "arguments": {},
       "data": "",
       "errorSummary": "Command skipped",
       "errorTraceType": "html",
       "metadata": {},
       "type": "ipynbError"
      }
     },
     "output_type": "display_data"
    }
   ],
   "source": [
    "final_df.groupby(['ItemID','Productline'])['Sales'].mean().sort_values(ascending=False).head(20).plot(kind=\"bar\")"
   ]
  },
  {
   "cell_type": "code",
   "execution_count": 0,
   "metadata": {
    "application/vnd.databricks.v1+cell": {
     "inputWidgets": {},
     "nuid": "d5f87160-08d1-4b8b-9337-d601c194d65e",
     "showTitle": false,
     "title": ""
    }
   },
   "outputs": [
    {
     "data": {
      "text/html": [
       "<style scoped>\n",
       "  .ansiout {\n",
       "    display: block;\n",
       "    unicode-bidi: embed;\n",
       "    white-space: pre-wrap;\n",
       "    word-wrap: break-word;\n",
       "    word-break: break-all;\n",
       "    font-family: \"Source Code Pro\", \"Menlo\", monospace;;\n",
       "    font-size: 13px;\n",
       "    color: #555;\n",
       "    margin-left: 4px;\n",
       "    line-height: 19px;\n",
       "  }\n",
       "</style>"
      ]
     },
     "metadata": {
      "application/vnd.databricks.v1+output": {
       "arguments": {},
       "data": "",
       "errorSummary": "Command skipped",
       "errorTraceType": "html",
       "metadata": {},
       "type": "ipynbError"
      }
     },
     "output_type": "display_data"
    }
   ],
   "source": [
    "final_df['price_categories'] = final_df['AverageWeeklyPrice'].map (lambda price: 'low' if price < 200 else 'medium' if price < 400 else 'high')\n",
    "final_df['Error_Qty'] = final_df['Predicted_Quantity'] - final_df['Quantity'] "
   ]
  },
  {
   "cell_type": "code",
   "execution_count": 0,
   "metadata": {
    "application/vnd.databricks.v1+cell": {
     "inputWidgets": {},
     "nuid": "47c8c118-f9f2-425c-a8a6-658b19755e8b",
     "showTitle": false,
     "title": ""
    }
   },
   "outputs": [
    {
     "data": {
      "text/html": [
       "<style scoped>\n",
       "  .ansiout {\n",
       "    display: block;\n",
       "    unicode-bidi: embed;\n",
       "    white-space: pre-wrap;\n",
       "    word-wrap: break-word;\n",
       "    word-break: break-all;\n",
       "    font-family: \"Source Code Pro\", \"Menlo\", monospace;;\n",
       "    font-size: 13px;\n",
       "    color: #555;\n",
       "    margin-left: 4px;\n",
       "    line-height: 19px;\n",
       "  }\n",
       "</style>"
      ]
     },
     "metadata": {
      "application/vnd.databricks.v1+output": {
       "arguments": {},
       "data": "",
       "errorSummary": "Command skipped",
       "errorTraceType": "html",
       "metadata": {},
       "type": "ipynbError"
      }
     },
     "output_type": "display_data"
    }
   ],
   "source": [
    "import seaborn as sns\n",
    "sns.barplot(x='price_categories',y='Error_Qty',data=final_df)\n",
    "plt.show()"
   ]
  },
  {
   "cell_type": "code",
   "execution_count": 0,
   "metadata": {
    "application/vnd.databricks.v1+cell": {
     "inputWidgets": {},
     "nuid": "4dc732a6-bfa7-49a9-99cc-685f04406232",
     "showTitle": false,
     "title": ""
    }
   },
   "outputs": [
    {
     "data": {
      "text/html": [
       "<style scoped>\n",
       "  .ansiout {\n",
       "    display: block;\n",
       "    unicode-bidi: embed;\n",
       "    white-space: pre-wrap;\n",
       "    word-wrap: break-word;\n",
       "    word-break: break-all;\n",
       "    font-family: \"Source Code Pro\", \"Menlo\", monospace;;\n",
       "    font-size: 13px;\n",
       "    color: #555;\n",
       "    margin-left: 4px;\n",
       "    line-height: 19px;\n",
       "  }\n",
       "</style>"
      ]
     },
     "metadata": {
      "application/vnd.databricks.v1+output": {
       "arguments": {},
       "data": "",
       "errorSummary": "Command skipped",
       "errorTraceType": "html",
       "metadata": {},
       "type": "ipynbError"
      }
     },
     "output_type": "display_data"
    }
   ],
   "source": [
    "final_df['Sales_deciles']=pd.qcut(final_df['Sales'],q=10,labels=False,duplicates='drop')\n"
   ]
  },
  {
   "cell_type": "code",
   "execution_count": 0,
   "metadata": {
    "application/vnd.databricks.v1+cell": {
     "inputWidgets": {},
     "nuid": "ab149424-ed45-4c95-a09a-2674aca79412",
     "showTitle": false,
     "title": ""
    }
   },
   "outputs": [
    {
     "data": {
      "text/html": [
       "<style scoped>\n",
       "  .ansiout {\n",
       "    display: block;\n",
       "    unicode-bidi: embed;\n",
       "    white-space: pre-wrap;\n",
       "    word-wrap: break-word;\n",
       "    word-break: break-all;\n",
       "    font-family: \"Source Code Pro\", \"Menlo\", monospace;;\n",
       "    font-size: 13px;\n",
       "    color: #555;\n",
       "    margin-left: 4px;\n",
       "    line-height: 19px;\n",
       "  }\n",
       "</style>"
      ]
     },
     "metadata": {
      "application/vnd.databricks.v1+output": {
       "arguments": {},
       "data": "",
       "errorSummary": "Command skipped",
       "errorTraceType": "html",
       "metadata": {},
       "type": "ipynbError"
      }
     },
     "output_type": "display_data"
    }
   ],
   "source": [
    "groups = final_df.groupby(['Sales_deciles'])['Error_Qty'].mean()\n",
    "(groups.sum())\n",
    "sns.barplot(x='Sales_deciles',y='Error_Qty',data=final_df)\n",
    "plt.show()\n",
    "#display(pd.qcut(new_df['Total_Qty'],q=3,duplicates='drop').unique())"
   ]
  }
 ],
 "metadata": {
  "application/vnd.databricks.v1+notebook": {
   "dashboards": [],
   "language": "python",
   "notebookMetadata": {
    "pythonIndentUnit": 2
   },
   "notebookName": "XGBoost_july01_dbscan",
   "notebookOrigID": 1392965719675018,
   "widgets": {}
  },
  "kernelspec": {
   "display_name": "Python 3 (ipykernel)",
   "language": "python",
   "name": "python3"
  },
  "language_info": {
   "codemirror_mode": {
    "name": "ipython",
    "version": 3
   },
   "file_extension": ".py",
   "mimetype": "text/x-python",
   "name": "python",
   "nbconvert_exporter": "python",
   "pygments_lexer": "ipython3",
   "version": "3.7.13"
  }
 },
 "nbformat": 4,
 "nbformat_minor": 1
}
