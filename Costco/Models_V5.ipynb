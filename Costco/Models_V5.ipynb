{
 "cells": [
  {
   "cell_type": "code",
   "execution_count": 1,
   "id": "24b0162a",
   "metadata": {},
   "outputs": [],
   "source": [
    "# import libraries\n",
    "import os\n",
    "import re\n",
    "import warnings \n",
    "import numpy as np\n",
    "import pandas as pd\n",
    "import seaborn as sns\n",
    "import statsmodels.api as sm\n",
    "from datetime import datetime\n",
    "import matplotlib.pyplot as plt\n",
    "from sklearn import preprocessing\n",
    "from dateutil import relativedelta\n",
    "from sklearn.metrics import mean_squared_error\n",
    "from sklearn.linear_model import LinearRegression\n",
    "\n",
    "# Ignore all warnings\n",
    "warnings.filterwarnings('ignore')\n",
    "\n",
    "# Fetch weekly data \n",
    "wk_data_ecom = pd.DataFrame()\n",
    "wk_data_instore = pd.DataFrame()\n",
    "\n",
    "path1 = \"T:\\eMerging Channels\\Power BI\\eMerging Aggregate Dashboard\\Data\\Costco\\Weekly Data Instore and EComm\"\n",
    "entries = os.listdir(path1)\n",
    "\n",
    "# Loop to load data\n",
    "for file in entries:\n",
    "    ext = file[-3:]\n",
    "    if \"IN-STORE\" in file.upper():\n",
    "        df1 = pd.read_csv(path1+\"\\\\\"+file, skiprows=2)\n",
    "        wk_data_instore = pd.concat([wk_data_instore, df1], ignore_index=True)\n",
    "    elif \"ECOM\" in file.upper():\n",
    "        df2 = pd.read_csv(path1+\"\\\\\"+file, skiprows=2)\n",
    "        wk_data_ecom = pd.concat([wk_data_ecom, df2], ignore_index=True)\n",
    "\n",
    "path2 = r\"C:\\Users\\Kumaresan.C\\Desktop\\Data\"\n",
    "df1 = pd.read_csv(path2 + \"\\\\\" + \"Costco ECOM Sales.csv\")\n",
    "df2 = pd.read_csv(path2 + \"\\\\\" + \"Costco IN-STORE Sales.csv\")        \n",
    "\n",
    "ecom_df = pd.concat([df1, wk_data_ecom], ignore_index=True)\n",
    "instore_df = pd.concat([df2, wk_data_instore], ignore_index=True)"
   ]
  },
  {
   "cell_type": "code",
   "execution_count": 2,
   "id": "502b8b8d",
   "metadata": {},
   "outputs": [],
   "source": [
    "# functiion to get number from the text        \n",
    "def get_num(x):\n",
    "    num = re.findall(r'\\d+', x)         \n",
    "    num = [int(i) for i in num if len(i) == 9]\n",
    "    if len(num) > 0:\n",
    "        return num[0]\n",
    "    else:\n",
    "        return 1\n",
    "\n",
    "# Get the itemnumber from the item name    \n",
    "ecom_df['Item_Number'] = ecom_df['Item'].apply(lambda x: get_num(x))   \n",
    "instore_df['Item_Number'] = instore_df['Item'].apply(lambda x: get_num(x))\n",
    "\n",
    "# Add Sales type to the df\n",
    "ecom_df['Sale_Type'] = 'Ecom'\n",
    "instore_df['Sale_Type'] = 'InStore'\n",
    "\n",
    "# Concatinate\n",
    "cols = ['Item', 'Time', 'Gross Units', 'Gross Dollars', 'Item_Number', 'Sale_Type']\n",
    "items_df = pd.concat([ecom_df[cols], instore_df[cols]], ignore_index=True)\n",
    "\n",
    "# load product master data\n",
    "path2 = r\"C:\\Users\\Kumaresan.C\\Desktop\\Data\"\n",
    "\n",
    "costcosku = pd.read_excel(path2 + \"\\\\\" + \"CostcoSKUtoItemNumber.xlsx\")\n",
    "prod_master = pd.read_excel(path2 + \"\\\\\" + \"ProductMaster20220930.xlsx\")\n",
    "\n",
    "# load holiday calender\n",
    "hday_df = pd.read_excel(r\"C:\\Users\\Kumaresan.C\\Downloads\\HolidayCalendar.xlsx\")\n",
    "\n",
    "# Drop null values \n",
    "costcosku.dropna(inplace=True)"
   ]
  },
  {
   "cell_type": "code",
   "execution_count": 3,
   "id": "b9a0730a",
   "metadata": {},
   "outputs": [],
   "source": [
    "# convert join key into string to map more records\n",
    "items_df['Item_Number'] = items_df['Item_Number'].apply(lambda x: str(x).strip())\n",
    "costcosku['SKU'] = costcosku['SKU'].apply(lambda x: str(int(x)).strip())\n",
    "prod_master['Item Number'] = prod_master['Item Number'].apply(lambda x: str(x).strip())\n",
    "\n",
    "# Merge sales data with master data\n",
    "item_merge = pd.merge(items_df, costcosku, how='inner', left_on='Item_Number', right_on='SKU')\n",
    "item_merge['ItemNumber'] = item_merge['ItemNumber'].apply(lambda x: str(x).strip())\n",
    "\n",
    "merge_prod_master_item = pd.merge(item_merge, prod_master, how='inner', left_on='ItemNumber', right_on='Item Number')"
   ]
  },
  {
   "cell_type": "code",
   "execution_count": 4,
   "id": "c3264b81",
   "metadata": {},
   "outputs": [],
   "source": [
    "# Get the date from the text\n",
    "def d_find(x):\n",
    "    match = re.search(r'\\d{2}-\\d{2}-\\d{4}', x)\n",
    "    dt = datetime.strptime(match.group(), '%m-%d-%Y').date()\n",
    "    return dt\n",
    "    \n",
    "merge_prod_master_item['Date'] = merge_prod_master_item.Time.apply(lambda x: d_find(x))\n",
    "merge_prod_master_item['Date'] = pd.to_datetime(merge_prod_master_item['Date'])\n",
    "\n",
    "# Correct the data type\n",
    "merge_prod_master_item['Gross Units'] = merge_prod_master_item['Gross Units'].apply(lambda x: int(x.replace(',',\"\") if type(x) not in (int, float) else x))\n",
    "merge_prod_master_item.index = range(len(merge_prod_master_item))"
   ]
  },
  {
   "cell_type": "code",
   "execution_count": 5,
   "id": "8b66d007",
   "metadata": {},
   "outputs": [],
   "source": [
    "# Add year, month to the df\n",
    "merge_prod_master_item['Year'] = merge_prod_master_item['Date'].dt.year\n",
    "merge_prod_master_item['Month'] = merge_prod_master_item['Date'].dt.month\n",
    "\n",
    "hday_df['Year'] = hday_df['Holiday Date'].dt.year\n",
    "hday_df['Month'] = hday_df['Holiday Date'].dt.month"
   ]
  },
  {
   "cell_type": "code",
   "execution_count": 38,
   "id": "91e5ece5",
   "metadata": {},
   "outputs": [],
   "source": [
    "# Merge with Holidays\n",
    "merge_fin = pd.merge(merge_prod_master_item, hday_df, left_on=['Year', 'Month'], right_on=['Year', 'Month'], how='left')\n",
    "dummy = pd.get_dummies(merge_fin['Holiday Name'])\n",
    "merge_fin = pd.concat([merge_fin, dummy], axis=1)\n",
    "\n",
    "# Select required columns\n",
    "columns = ['Date', 'Year', 'Month', 'Gross Units', 'Gross Dollars', 'SKU', 'Manufacturer', 'Item Name', 'Retail Brand', 'Item Number', \n",
    "           'Product Category', 'Collection', 'Size', 'Level', 'Sale_Type', 'in lieu of Juneteenth',\n",
    "           'Black Friday', 'Christmas Day', 'Columbus Day', 'Independence Day', 'Juneteenth', 'Labor Day', 'Martin Luther King, Jr.', \n",
    "           'Memorial Day', \"New Year's Day\", \"Presidents' Day\", \"Thanksgiving Day\", 'Veterans Day']\n",
    "merge_fin = merge_fin[columns]"
   ]
  },
  {
   "cell_type": "code",
   "execution_count": 40,
   "id": "0327fdf0",
   "metadata": {
    "scrolled": true
   },
   "outputs": [],
   "source": [
    "# Selecting items which has sales in last 5 months\n",
    "items = merge_fin['Item Number'].unique()\n",
    "\n",
    "final_df = pd.DataFrame()\n",
    "for item in items:\n",
    "#     Select a perticular item\n",
    "    temp_df = merge_fin[merge_fin['Item Number'] == item]\n",
    "    w = temp_df['Date'].max()\n",
    "    tp_df = temp_df[temp_df['Gross Units'] > 0]\n",
    "    if len(tp_df) > 0:\n",
    "        tp_df = tp_df.sort_values(by='Date', ascending=False)\n",
    "        x = tp_df['Date'].head().tolist()[0]\n",
    "        y = w-x\n",
    "        z = y.days/30\n",
    "        if z <= 5:\n",
    "#           Adding age of SKU\n",
    "            mini = temp_df['Date'].min()\n",
    "            now = datetime.today()\n",
    "            delta = relativedelta.relativedelta(now, mini)\n",
    "            temp_df['Age'] = delta.years          \n",
    "            final_df = pd.concat([final_df,temp_df], ignore_index=True)"
   ]
  },
  {
   "cell_type": "code",
   "execution_count": 42,
   "id": "f80ab3ab",
   "metadata": {},
   "outputs": [],
   "source": [
    "# capping outliers\n",
    "def cap(x, l, h):\n",
    "    if x > h:\n",
    "        y = h\n",
    "    elif x < l:\n",
    "        y = l\n",
    "    else:\n",
    "        y = x\n",
    "    return y\n",
    "\n",
    "# Removing outliers using IQR\n",
    "fin_df = pd.DataFrame()\n",
    "data_chk = pd.DataFrame(columns=['Item', 'Before_min', 'Before_max', 'After_min', 'After_max', 'lo_lmt', 'up_lmt'])\n",
    "for sku in final_df['Item Number'].unique():\n",
    "    temp_df = final_df[final_df['Item Number'] == sku]\n",
    "#     Get the lower and upper limit\n",
    "    Q1 = temp_df['Gross Units'].quantile(0.25)\n",
    "    Q3 = temp_df['Gross Units'].quantile(0.75)\n",
    "    IQR = (Q3 - Q1)\n",
    "    low_lmt = Q1 - (IQR * 1.5)\n",
    "    up_lmt = Q3 + (IQR * 1.5)\n",
    "#     Removing outliers\n",
    "    bmi, bmx = temp_df['Gross Units'].min(), temp_df['Gross Units'].max() \n",
    "    \n",
    "    temp_df['Gross Units'] = temp_df['Gross Units'].apply(lambda x: cap(x, low_lmt, up_lmt))\n",
    "    ami, amx = temp_df['Gross Units'].min(), temp_df['Gross Units'].max() \n",
    "    data_chk.loc[len(data_chk)] = [sku, bmi, bmx, ami, amx, low_lmt, up_lmt]   \n",
    "    fin_df = pd.concat([fin_df, temp_df], ignore_index=True)"
   ]
  },
  {
   "cell_type": "code",
   "execution_count": 43,
   "id": "fe83ed7a",
   "metadata": {},
   "outputs": [
    {
     "name": "stdout",
     "output_type": "stream",
     "text": [
      "(331650, 29)\n"
     ]
    }
   ],
   "source": [
    "print(fin_df.shape)\n",
    "final_df = fin_df.copy()"
   ]
  },
  {
   "cell_type": "code",
   "execution_count": 44,
   "id": "d7d7750c",
   "metadata": {},
   "outputs": [
    {
     "data": {
      "text/plain": [
       "Index(['Date', 'Year', 'Month', 'Gross Units', 'Gross Dollars', 'SKU',\n",
       "       'Manufacturer', 'Item Name', 'Retail Brand', 'Item Number',\n",
       "       'Product Category', 'Collection', 'Size', 'Level', 'Sale_Type',\n",
       "       'in lieu of Juneteenth', 'Black Friday', 'Christmas Day',\n",
       "       'Columbus Day', 'Independence Day', 'Juneteenth', 'Labor Day',\n",
       "       'Martin Luther King, Jr.', 'Memorial Day', 'New Year's Day',\n",
       "       'Presidents' Day', 'Thanksgiving Day', 'Veterans Day', 'Age'],\n",
       "      dtype='object')"
      ]
     },
     "execution_count": 44,
     "metadata": {},
     "output_type": "execute_result"
    }
   ],
   "source": [
    "final_df.columns"
   ]
  },
  {
   "cell_type": "code",
   "execution_count": 60,
   "id": "3698c5f9",
   "metadata": {},
   "outputs": [],
   "source": [
    "# 'Product Category',\n",
    "# Group the data with following level\n",
    "grup_cols = ['Year', 'Age', 'Month', 'Size', 'Sale_Type', 'Retail Brand', 'Collection', \n",
    "             'in lieu of Juneteenth', 'Black Friday', 'Christmas Day', 'Columbus Day', 'Independence Day', 'Juneteenth', 'Labor Day', \n",
    "             'Martin Luther King, Jr.', 'Memorial Day', \"New Year's Day\", \"Presidents' Day\", \"Thanksgiving Day\", 'Veterans Day']\n",
    "grp_df = final_df.groupby(grup_cols)['Gross Units'].sum().reset_index()\n",
    "\n",
    "# Adding previows month sales to the data\n",
    "items = grp_df['Collection'].unique()\n",
    "model_df = pd.DataFrame()\n",
    "for item in items:\n",
    "    temp_df = grp_df[grp_df['Collection'] == item]\n",
    "#     Sort them in ascending order\n",
    "    temp_df = temp_df.sort_values(by=['Year','Month'])\n",
    "    temp_df['pre_month_sales1'] = temp_df['Gross Units'].shift(1)\n",
    "    temp_df['pre_month_sales2'] = temp_df['pre_month_sales1'].shift(1)\n",
    "    temp_df['pre_month_sales3'] = temp_df['pre_month_sales2'].shift(1\n",
    "    model_df = pd.concat([model_df, temp_df], ignore_index=True)    "
   ]
  },
  {
   "cell_type": "code",
   "execution_count": 122,
   "id": "c66a55cf",
   "metadata": {},
   "outputs": [
    {
     "data": {
      "text/html": [
       "<div>\n",
       "<style scoped>\n",
       "    .dataframe tbody tr th:only-of-type {\n",
       "        vertical-align: middle;\n",
       "    }\n",
       "\n",
       "    .dataframe tbody tr th {\n",
       "        vertical-align: top;\n",
       "    }\n",
       "\n",
       "    .dataframe thead th {\n",
       "        text-align: right;\n",
       "    }\n",
       "</style>\n",
       "<table border=\"1\" class=\"dataframe\">\n",
       "  <thead>\n",
       "    <tr style=\"text-align: right;\">\n",
       "      <th></th>\n",
       "      <th>Year</th>\n",
       "      <th>Age</th>\n",
       "      <th>Month</th>\n",
       "      <th>Size</th>\n",
       "      <th>Sale_Type</th>\n",
       "      <th>Retail Brand</th>\n",
       "      <th>Collection</th>\n",
       "      <th>in lieu of Juneteenth</th>\n",
       "      <th>Black Friday</th>\n",
       "      <th>Christmas Day</th>\n",
       "      <th>...</th>\n",
       "      <th>Memorial Day</th>\n",
       "      <th>New Year's Day</th>\n",
       "      <th>Presidents' Day</th>\n",
       "      <th>Thanksgiving Day</th>\n",
       "      <th>Veterans Day</th>\n",
       "      <th>Gross Units</th>\n",
       "      <th>pre_month_sales1</th>\n",
       "      <th>pre_month_sales2</th>\n",
       "      <th>pre_month_sales3</th>\n",
       "      <th>DV</th>\n",
       "    </tr>\n",
       "  </thead>\n",
       "  <tbody>\n",
       "    <tr>\n",
       "      <th>0</th>\n",
       "      <td>2018</td>\n",
       "      <td>4</td>\n",
       "      <td>1</td>\n",
       "      <td>CA King</td>\n",
       "      <td>Ecom</td>\n",
       "      <td>Sealy</td>\n",
       "      <td>Sealy PosturePedic Plus Spring</td>\n",
       "      <td>0</td>\n",
       "      <td>0</td>\n",
       "      <td>0</td>\n",
       "      <td>...</td>\n",
       "      <td>0</td>\n",
       "      <td>1</td>\n",
       "      <td>0</td>\n",
       "      <td>0</td>\n",
       "      <td>0</td>\n",
       "      <td>-0.269854</td>\n",
       "      <td>NaN</td>\n",
       "      <td>NaN</td>\n",
       "      <td>NaN</td>\n",
       "      <td>0</td>\n",
       "    </tr>\n",
       "    <tr>\n",
       "      <th>1</th>\n",
       "      <td>2018</td>\n",
       "      <td>4</td>\n",
       "      <td>1</td>\n",
       "      <td>CA King</td>\n",
       "      <td>Ecom</td>\n",
       "      <td>Sealy</td>\n",
       "      <td>Sealy PosturePedic Plus Spring</td>\n",
       "      <td>0</td>\n",
       "      <td>0</td>\n",
       "      <td>0</td>\n",
       "      <td>...</td>\n",
       "      <td>0</td>\n",
       "      <td>0</td>\n",
       "      <td>0</td>\n",
       "      <td>0</td>\n",
       "      <td>0</td>\n",
       "      <td>-0.269854</td>\n",
       "      <td>0.0</td>\n",
       "      <td>NaN</td>\n",
       "      <td>NaN</td>\n",
       "      <td>0</td>\n",
       "    </tr>\n",
       "    <tr>\n",
       "      <th>2</th>\n",
       "      <td>2018</td>\n",
       "      <td>4</td>\n",
       "      <td>1</td>\n",
       "      <td>CA King</td>\n",
       "      <td>InStore</td>\n",
       "      <td>Sealy</td>\n",
       "      <td>Sealy PosturePedic Plus Spring</td>\n",
       "      <td>0</td>\n",
       "      <td>0</td>\n",
       "      <td>0</td>\n",
       "      <td>...</td>\n",
       "      <td>0</td>\n",
       "      <td>1</td>\n",
       "      <td>0</td>\n",
       "      <td>0</td>\n",
       "      <td>0</td>\n",
       "      <td>-0.269854</td>\n",
       "      <td>0.0</td>\n",
       "      <td>0.0</td>\n",
       "      <td>NaN</td>\n",
       "      <td>0</td>\n",
       "    </tr>\n",
       "    <tr>\n",
       "      <th>3</th>\n",
       "      <td>2018</td>\n",
       "      <td>4</td>\n",
       "      <td>1</td>\n",
       "      <td>CA King</td>\n",
       "      <td>InStore</td>\n",
       "      <td>Sealy</td>\n",
       "      <td>Sealy PosturePedic Plus Spring</td>\n",
       "      <td>0</td>\n",
       "      <td>0</td>\n",
       "      <td>0</td>\n",
       "      <td>...</td>\n",
       "      <td>0</td>\n",
       "      <td>0</td>\n",
       "      <td>0</td>\n",
       "      <td>0</td>\n",
       "      <td>0</td>\n",
       "      <td>-0.269854</td>\n",
       "      <td>0.0</td>\n",
       "      <td>0.0</td>\n",
       "      <td>0.0</td>\n",
       "      <td>0</td>\n",
       "    </tr>\n",
       "    <tr>\n",
       "      <th>4</th>\n",
       "      <td>2018</td>\n",
       "      <td>4</td>\n",
       "      <td>1</td>\n",
       "      <td>King</td>\n",
       "      <td>Ecom</td>\n",
       "      <td>Sealy</td>\n",
       "      <td>Sealy PosturePedic Plus Spring</td>\n",
       "      <td>0</td>\n",
       "      <td>0</td>\n",
       "      <td>0</td>\n",
       "      <td>...</td>\n",
       "      <td>0</td>\n",
       "      <td>1</td>\n",
       "      <td>0</td>\n",
       "      <td>0</td>\n",
       "      <td>0</td>\n",
       "      <td>-0.269854</td>\n",
       "      <td>0.0</td>\n",
       "      <td>0.0</td>\n",
       "      <td>0.0</td>\n",
       "      <td>0</td>\n",
       "    </tr>\n",
       "    <tr>\n",
       "      <th>...</th>\n",
       "      <td>...</td>\n",
       "      <td>...</td>\n",
       "      <td>...</td>\n",
       "      <td>...</td>\n",
       "      <td>...</td>\n",
       "      <td>...</td>\n",
       "      <td>...</td>\n",
       "      <td>...</td>\n",
       "      <td>...</td>\n",
       "      <td>...</td>\n",
       "      <td>...</td>\n",
       "      <td>...</td>\n",
       "      <td>...</td>\n",
       "      <td>...</td>\n",
       "      <td>...</td>\n",
       "      <td>...</td>\n",
       "      <td>...</td>\n",
       "      <td>...</td>\n",
       "      <td>...</td>\n",
       "      <td>...</td>\n",
       "      <td>...</td>\n",
       "    </tr>\n",
       "    <tr>\n",
       "      <th>6359</th>\n",
       "      <td>2022</td>\n",
       "      <td>3</td>\n",
       "      <td>7</td>\n",
       "      <td>Standard</td>\n",
       "      <td>InStore</td>\n",
       "      <td>Stearns &amp; Foster</td>\n",
       "      <td>STEARNS AND FOSTER CLUB</td>\n",
       "      <td>0</td>\n",
       "      <td>0</td>\n",
       "      <td>0</td>\n",
       "      <td>...</td>\n",
       "      <td>0</td>\n",
       "      <td>0</td>\n",
       "      <td>0</td>\n",
       "      <td>0</td>\n",
       "      <td>0</td>\n",
       "      <td>-0.269275</td>\n",
       "      <td>2.0</td>\n",
       "      <td>5.0</td>\n",
       "      <td>1.0</td>\n",
       "      <td>1</td>\n",
       "    </tr>\n",
       "    <tr>\n",
       "      <th>6360</th>\n",
       "      <td>2022</td>\n",
       "      <td>3</td>\n",
       "      <td>8</td>\n",
       "      <td>Standard</td>\n",
       "      <td>Ecom</td>\n",
       "      <td>Stearns &amp; Foster</td>\n",
       "      <td>STEARNS AND FOSTER CLUB</td>\n",
       "      <td>0</td>\n",
       "      <td>0</td>\n",
       "      <td>0</td>\n",
       "      <td>...</td>\n",
       "      <td>0</td>\n",
       "      <td>0</td>\n",
       "      <td>0</td>\n",
       "      <td>0</td>\n",
       "      <td>0</td>\n",
       "      <td>-0.269854</td>\n",
       "      <td>1.0</td>\n",
       "      <td>2.0</td>\n",
       "      <td>5.0</td>\n",
       "      <td>0</td>\n",
       "    </tr>\n",
       "    <tr>\n",
       "      <th>6361</th>\n",
       "      <td>2022</td>\n",
       "      <td>3</td>\n",
       "      <td>8</td>\n",
       "      <td>Standard</td>\n",
       "      <td>InStore</td>\n",
       "      <td>Stearns &amp; Foster</td>\n",
       "      <td>STEARNS AND FOSTER CLUB</td>\n",
       "      <td>0</td>\n",
       "      <td>0</td>\n",
       "      <td>0</td>\n",
       "      <td>...</td>\n",
       "      <td>0</td>\n",
       "      <td>0</td>\n",
       "      <td>0</td>\n",
       "      <td>0</td>\n",
       "      <td>0</td>\n",
       "      <td>-0.269275</td>\n",
       "      <td>0.0</td>\n",
       "      <td>1.0</td>\n",
       "      <td>2.0</td>\n",
       "      <td>1</td>\n",
       "    </tr>\n",
       "    <tr>\n",
       "      <th>6362</th>\n",
       "      <td>2022</td>\n",
       "      <td>3</td>\n",
       "      <td>9</td>\n",
       "      <td>Standard</td>\n",
       "      <td>InStore</td>\n",
       "      <td>Stearns &amp; Foster</td>\n",
       "      <td>STEARNS AND FOSTER CLUB</td>\n",
       "      <td>0</td>\n",
       "      <td>0</td>\n",
       "      <td>0</td>\n",
       "      <td>...</td>\n",
       "      <td>0</td>\n",
       "      <td>0</td>\n",
       "      <td>0</td>\n",
       "      <td>0</td>\n",
       "      <td>0</td>\n",
       "      <td>-0.269275</td>\n",
       "      <td>1.0</td>\n",
       "      <td>0.0</td>\n",
       "      <td>1.0</td>\n",
       "      <td>1</td>\n",
       "    </tr>\n",
       "    <tr>\n",
       "      <th>6363</th>\n",
       "      <td>2022</td>\n",
       "      <td>3</td>\n",
       "      <td>10</td>\n",
       "      <td>Standard</td>\n",
       "      <td>InStore</td>\n",
       "      <td>Stearns &amp; Foster</td>\n",
       "      <td>STEARNS AND FOSTER CLUB</td>\n",
       "      <td>0</td>\n",
       "      <td>0</td>\n",
       "      <td>0</td>\n",
       "      <td>...</td>\n",
       "      <td>0</td>\n",
       "      <td>0</td>\n",
       "      <td>0</td>\n",
       "      <td>0</td>\n",
       "      <td>0</td>\n",
       "      <td>-0.269854</td>\n",
       "      <td>1.0</td>\n",
       "      <td>1.0</td>\n",
       "      <td>0.0</td>\n",
       "      <td>0</td>\n",
       "    </tr>\n",
       "  </tbody>\n",
       "</table>\n",
       "<p>5554 rows × 25 columns</p>\n",
       "</div>"
      ],
      "text/plain": [
       "      Year  Age  Month      Size Sale_Type      Retail Brand  \\\n",
       "0     2018    4      1   CA King      Ecom             Sealy   \n",
       "1     2018    4      1   CA King      Ecom             Sealy   \n",
       "2     2018    4      1   CA King   InStore             Sealy   \n",
       "3     2018    4      1   CA King   InStore             Sealy   \n",
       "4     2018    4      1      King      Ecom             Sealy   \n",
       "...    ...  ...    ...       ...       ...               ...   \n",
       "6359  2022    3      7  Standard   InStore  Stearns & Foster   \n",
       "6360  2022    3      8  Standard      Ecom  Stearns & Foster   \n",
       "6361  2022    3      8  Standard   InStore  Stearns & Foster   \n",
       "6362  2022    3      9  Standard   InStore  Stearns & Foster   \n",
       "6363  2022    3     10  Standard   InStore  Stearns & Foster   \n",
       "\n",
       "                          Collection  in lieu of Juneteenth  Black Friday  \\\n",
       "0     Sealy PosturePedic Plus Spring                      0             0   \n",
       "1     Sealy PosturePedic Plus Spring                      0             0   \n",
       "2     Sealy PosturePedic Plus Spring                      0             0   \n",
       "3     Sealy PosturePedic Plus Spring                      0             0   \n",
       "4     Sealy PosturePedic Plus Spring                      0             0   \n",
       "...                              ...                    ...           ...   \n",
       "6359         STEARNS AND FOSTER CLUB                      0             0   \n",
       "6360         STEARNS AND FOSTER CLUB                      0             0   \n",
       "6361         STEARNS AND FOSTER CLUB                      0             0   \n",
       "6362         STEARNS AND FOSTER CLUB                      0             0   \n",
       "6363         STEARNS AND FOSTER CLUB                      0             0   \n",
       "\n",
       "      Christmas Day  ...  Memorial Day  New Year's Day  Presidents' Day  \\\n",
       "0                 0  ...             0               1                0   \n",
       "1                 0  ...             0               0                0   \n",
       "2                 0  ...             0               1                0   \n",
       "3                 0  ...             0               0                0   \n",
       "4                 0  ...             0               1                0   \n",
       "...             ...  ...           ...             ...              ...   \n",
       "6359              0  ...             0               0                0   \n",
       "6360              0  ...             0               0                0   \n",
       "6361              0  ...             0               0                0   \n",
       "6362              0  ...             0               0                0   \n",
       "6363              0  ...             0               0                0   \n",
       "\n",
       "      Thanksgiving Day  Veterans Day  Gross Units  pre_month_sales1  \\\n",
       "0                    0             0    -0.269854               NaN   \n",
       "1                    0             0    -0.269854               0.0   \n",
       "2                    0             0    -0.269854               0.0   \n",
       "3                    0             0    -0.269854               0.0   \n",
       "4                    0             0    -0.269854               0.0   \n",
       "...                ...           ...          ...               ...   \n",
       "6359                 0             0    -0.269275               2.0   \n",
       "6360                 0             0    -0.269854               1.0   \n",
       "6361                 0             0    -0.269275               0.0   \n",
       "6362                 0             0    -0.269275               1.0   \n",
       "6363                 0             0    -0.269854               1.0   \n",
       "\n",
       "      pre_month_sales2  pre_month_sales3  DV  \n",
       "0                  NaN               NaN   0  \n",
       "1                  NaN               NaN   0  \n",
       "2                  0.0               NaN   0  \n",
       "3                  0.0               0.0   0  \n",
       "4                  0.0               0.0   0  \n",
       "...                ...               ...  ..  \n",
       "6359               5.0               1.0   1  \n",
       "6360               2.0               5.0   0  \n",
       "6361               1.0               2.0   1  \n",
       "6362               0.0               1.0   1  \n",
       "6363               1.0               0.0   0  \n",
       "\n",
       "[5554 rows x 25 columns]"
      ]
     },
     "execution_count": 122,
     "metadata": {},
     "output_type": "execute_result"
    }
   ],
   "source": [
    "model_df[model_df['Gross Units']<0]"
   ]
  },
  {
   "cell_type": "code",
   "execution_count": 65,
   "id": "78450414",
   "metadata": {},
   "outputs": [],
   "source": [
    "# model_df[model_df['Gross Units']<0]\n",
    "# DV for Logistic Regression\n",
    "model_df['DV'] = model_df['Gross Units'].apply(lambda x: 0 if x < 1 else 1)"
   ]
  },
  {
   "cell_type": "code",
   "execution_count": 66,
   "id": "c1818c73",
   "metadata": {},
   "outputs": [
    {
     "data": {
      "text/plain": [
       "1    3706\n",
       "0    2658\n",
       "Name: DV, dtype: int64"
      ]
     },
     "execution_count": 66,
     "metadata": {},
     "output_type": "execute_result"
    }
   ],
   "source": [
    "model_df['DV'].value_counts()"
   ]
  },
  {
   "cell_type": "code",
   "execution_count": 67,
   "id": "bec6fb2c",
   "metadata": {
    "scrolled": false
   },
   "outputs": [
    {
     "data": {
      "text/plain": [
       "<AxesSubplot:xlabel='Gross Units', ylabel='Collection'>"
      ]
     },
     "execution_count": 67,
     "metadata": {},
     "output_type": "execute_result"
    },
    {
     "data": {
      "image/png": "[encoded data removed]",
      "text/plain": [
       "<Figure size 1296x720 with 1 Axes>"
      ]
     },
     "metadata": {
      "needs_background": "light"
     },
     "output_type": "display_data"
    }
   ],
   "source": [
    "plt.figure(figsize=(18,10))\n",
    "sns.boxplot(data=model_df, x=\"Gross Units\", y=\"Collection\")"
   ]
  },
  {
   "cell_type": "code",
   "execution_count": 52,
   "id": "4c22e285",
   "metadata": {},
   "outputs": [
    {
     "data": {
      "text/plain": [
       "Index(['Year', 'Age', 'Month', 'Size', 'Sale_Type', 'Retail Brand',\n",
       "       'Collection', 'in lieu of Juneteenth', 'Black Friday', 'Christmas Day',\n",
       "       'Columbus Day', 'Independence Day', 'Juneteenth', 'Labor Day',\n",
       "       'Martin Luther King, Jr.', 'Memorial Day', 'New Year's Day',\n",
       "       'Presidents' Day', 'Thanksgiving Day', 'Veterans Day', 'Gross Units',\n",
       "       'pre_month_sales1', 'pre_month_sales2', 'pre_month_sales3'],\n",
       "      dtype='object')"
      ]
     },
     "execution_count": 52,
     "metadata": {},
     "output_type": "execute_result"
    }
   ],
   "source": [
    "model_df.columns"
   ]
  },
  {
   "cell_type": "markdown",
   "id": "1c805d6a",
   "metadata": {},
   "source": [
    "## Logistic Model"
   ]
  },
  {
   "cell_type": "code",
   "execution_count": 73,
   "id": "56d24d66",
   "metadata": {},
   "outputs": [],
   "source": [
    "# making dummies and adding to the dataframe\n",
    "dummy1 = pd.get_dummies(merge_fin['Size'])\n",
    "dummy3 = pd.get_dummies(merge_fin['Retail Brand'])\n",
    "\n",
    "mod_df = pd.concat([model_df, dummy1, dummy3], axis=1)"
   ]
  },
  {
   "cell_type": "code",
   "execution_count": 74,
   "id": "76bc80a8",
   "metadata": {},
   "outputs": [],
   "source": [
    "# Encoding categorical labels\n",
    "cols = ['Month', 'Size', 'Sale_Type', 'Collection', 'Retail Brand']\n",
    "for col in cols:\n",
    "    if mod_df[col].dtype in ['object', 'str']:\n",
    "        le = preprocessing.LabelEncoder()\n",
    "        mod_df[col] = le.fit_transform(mod_df[col]) \n",
    "        \n",
    "# Sort values to split train and test\n",
    "mod_df.sort_values(by=['Year', 'Month'], inplace=True, ignore_index=True)\n",
    "mod_df.dropna(inplace=True)"
   ]
  },
  {
   "cell_type": "code",
   "execution_count": 75,
   "id": "289a51bd",
   "metadata": {},
   "outputs": [
    {
     "data": {
      "text/plain": [
       "(6325, 41)"
      ]
     },
     "execution_count": 75,
     "metadata": {},
     "output_type": "execute_result"
    }
   ],
   "source": [
    "mod_df.shape"
   ]
  },
  {
   "cell_type": "code",
   "execution_count": 78,
   "id": "d1940bc3",
   "metadata": {},
   "outputs": [],
   "source": [
    "# Train test split\n",
    "train_df = mod_df.head(5000)\n",
    "test_df = mod_df.tail(1325)"
   ]
  },
  {
   "cell_type": "code",
   "execution_count": 79,
   "id": "43efab04",
   "metadata": {},
   "outputs": [
    {
     "data": {
      "text/plain": [
       "Index(['Year', 'Age', 'Month', 'Size', 'Sale_Type', 'Retail Brand',\n",
       "       'Collection', 'in lieu of Juneteenth', 'Black Friday', 'Christmas Day',\n",
       "       'Columbus Day', 'Independence Day', 'Juneteenth', 'Labor Day',\n",
       "       'Martin Luther King, Jr.', 'Memorial Day', 'New Year's Day',\n",
       "       'Presidents' Day', 'Thanksgiving Day', 'Veterans Day', 'Gross Units',\n",
       "       'pre_month_sales1', 'pre_month_sales2', 'pre_month_sales3', 'DV',\n",
       "       'CA King', 'CAL KING', 'Countour', 'Full', 'King', 'Queen',\n",
       "       'SPLIT CAL KING', 'SPLIT KING', 'Standard',\n",
       "       'Standard / Contour / Jumbo', 'Twin', 'Twin XL', 'Comfort Revolution',\n",
       "       'Sealy', 'Stearns & Foster', 'Tempur-Pedic'],\n",
       "      dtype='object')"
      ]
     },
     "execution_count": 79,
     "metadata": {},
     "output_type": "execute_result"
    }
   ],
   "source": [
    "mod_df.columns"
   ]
  },
  {
   "cell_type": "code",
   "execution_count": 81,
   "id": "18f5519d",
   "metadata": {},
   "outputs": [],
   "source": [
    "# predictor variables\n",
    "predictors = ['Age', 'Month', 'Sale_Type', 'Collection', 'in lieu of Juneteenth', 'Black Friday', 'Christmas Day',\n",
    "       'Columbus Day', 'Independence Day', 'Juneteenth', 'Labor Day', 'Martin Luther King, Jr.', 'Memorial Day', \"New Year's Day\",\n",
    "       \"Presidents' Day\", 'Thanksgiving Day', 'Veterans Day', 'pre_month_sales1', 'pre_month_sales2', 'pre_month_sales3',\n",
    "       'CA King', 'CAL KING', 'Countour', 'Full', 'King', 'Queen', 'SPLIT CAL KING', 'SPLIT KING', 'Standard',\n",
    "        'Standard / Contour / Jumbo', 'Twin', 'Twin XL', 'Comfort Revolution', 'Sealy', 'Stearns & Foster', 'Tempur-Pedic']"
   ]
  },
  {
   "cell_type": "code",
   "execution_count": 82,
   "id": "7de6087c",
   "metadata": {},
   "outputs": [],
   "source": [
    "from sklearn.linear_model import LogisticRegression\n",
    "train_x, train_y = train_df[predictors], train_df['DV']\n",
    "test_x, test_y = test_df[predictors], test_df['DV']"
   ]
  },
  {
   "cell_type": "code",
   "execution_count": 83,
   "id": "2ec4ffe9",
   "metadata": {},
   "outputs": [],
   "source": [
    "clf = LogisticRegression(random_state=0).fit(train_x, train_y)"
   ]
  },
  {
   "cell_type": "code",
   "execution_count": 90,
   "id": "8b9309e6",
   "metadata": {},
   "outputs": [],
   "source": [
    "pred1 = clf.predict(train_x)\n",
    "pred2 = clf.predict(test_x)"
   ]
  },
  {
   "cell_type": "code",
   "execution_count": 91,
   "id": "65b27134",
   "metadata": {
    "scrolled": true
   },
   "outputs": [
    {
     "name": "stdout",
     "output_type": "stream",
     "text": [
      "Train Accuracy:  0.766\n",
      "Train Accuracy:  0.7879245283018868\n"
     ]
    }
   ],
   "source": [
    "from sklearn.metrics import accuracy_score\n",
    "acc1 = accuracy_score(train_y, pred1)\n",
    "acc2 = accuracy_score(test_y, pred2)\n",
    "print(\"Train Accuracy: \", acc1)\n",
    "print(\"Test Accuracy: \", acc2)"
   ]
  },
  {
   "cell_type": "code",
   "execution_count": 124,
   "id": "4f760a3a",
   "metadata": {},
   "outputs": [
    {
     "data": {
      "text/plain": [
       "(6364,)"
      ]
     },
     "execution_count": 124,
     "metadata": {},
     "output_type": "execute_result"
    }
   ],
   "source": [
    "grp_df['Gross Units'].shape"
   ]
  },
  {
   "cell_type": "markdown",
   "id": "8e983a37",
   "metadata": {},
   "source": [
    "## Regression Model"
   ]
  },
  {
   "cell_type": "code",
   "execution_count": 92,
   "id": "30fb3e7f",
   "metadata": {},
   "outputs": [],
   "source": [
    "# Select Non Zero Sales Only\n",
    "grp_df2 = grp_df[grp_df['Gross Units']>0]\n",
    "\n",
    "# Adding previows month sales to the data\n",
    "items = grp_df2['Collection'].unique()\n",
    "model_df2 = pd.DataFrame()\n",
    "for item in items:\n",
    "    temp_df = grp_df2[grp_df2['Collection'] == item]\n",
    "#     Sort them in ascending order\n",
    "    temp_df = temp_df.sort_values(by=['Year','Month'])\n",
    "    temp_df['pre_month_sales1'] = temp_df['Gross Units'].shift(1)\n",
    "    temp_df['pre_month_sales2'] = temp_df['pre_month_sales1'].shift(1)\n",
    "    temp_df['pre_month_sales3'] = temp_df['pre_month_sales2'].shift(1)\n",
    "    model_df2 = pd.concat([model_df2, temp_df], ignore_index=True)    "
   ]
  },
  {
   "cell_type": "markdown",
   "id": "b26fdca7",
   "metadata": {},
   "source": [
    "## Normalizing Data"
   ]
  },
  {
   "cell_type": "code",
   "execution_count": 93,
   "id": "2f1d8383",
   "metadata": {},
   "outputs": [],
   "source": [
    "mu = model_df2['Gross Units'].mean()\n",
    "std = model_df2['Gross Units'].std()\n",
    "\n",
    "model_df2['Gross Units'] = model_df2['Gross Units'].apply(lambda x: (x-mu)/std)\n",
    "\n",
    "# model_df['Gross Units'] = model_df['Gross Units'].apply(lambda x: np.sqrt(abs(x))*(x/abs(x)))"
   ]
  },
  {
   "cell_type": "code",
   "execution_count": 94,
   "id": "b34a5bc3",
   "metadata": {},
   "outputs": [
    {
     "data": {
      "text/plain": [
       "<AxesSubplot:>"
      ]
     },
     "execution_count": 94,
     "metadata": {},
     "output_type": "execute_result"
    },
    {
     "data": {
      "image/png": "[encoded data removed]",
      "text/plain": [
       "<Figure size 432x288 with 1 Axes>"
      ]
     },
     "metadata": {
      "needs_background": "light"
     },
     "output_type": "display_data"
    }
   ],
   "source": [
    "model_df2['Gross Units'].hist()"
   ]
  },
  {
   "cell_type": "code",
   "execution_count": 97,
   "id": "45718972",
   "metadata": {
    "scrolled": true
   },
   "outputs": [
    {
     "data": {
      "text/plain": [
       "<AxesSubplot:xlabel='Gross Units'>"
      ]
     },
     "execution_count": 97,
     "metadata": {},
     "output_type": "execute_result"
    },
    {
     "data": {
      "image/png": "[encoded data removed]",
      "text/plain": [
       "<Figure size 1080x360 with 1 Axes>"
      ]
     },
     "metadata": {
      "needs_background": "light"
     },
     "output_type": "display_data"
    }
   ],
   "source": [
    "plt.figure(figsize=(15,5))\n",
    "sns.boxplot(data=model_df2, x=\"Gross Units\")"
   ]
  },
  {
   "cell_type": "code",
   "execution_count": 101,
   "id": "f73e6d6b",
   "metadata": {},
   "outputs": [],
   "source": [
    "# making dummies and adding to the dataframe\n",
    "dummy1 = pd.get_dummies(model_df2['Size'])\n",
    "dummy3 = pd.get_dummies(model_df2['Retail Brand'])\n",
    "\n",
    "mod_df = pd.concat([model_df2, dummy1, dummy3], axis=1)\n",
    "\n",
    "# Encoding categorical labels\n",
    "cols = ['Month', 'Size', 'Sale_Type', 'Collection', 'Retail Brand']\n",
    "for col in cols:\n",
    "    if mod_df[col].dtype in ['object', 'str']:\n",
    "        le = preprocessing.LabelEncoder()\n",
    "        mod_df[col] = le.fit_transform(mod_df[col]) \n",
    "        \n",
    "# Sort values to split train and test\n",
    "mod_df.sort_values(by=['Year', 'Month'], inplace=True, ignore_index=True)\n",
    "mod_df.dropna(inplace=True)"
   ]
  },
  {
   "cell_type": "code",
   "execution_count": 106,
   "id": "bc704540",
   "metadata": {},
   "outputs": [
    {
     "data": {
      "text/plain": [
       "(3677, 39)"
      ]
     },
     "execution_count": 106,
     "metadata": {},
     "output_type": "execute_result"
    }
   ],
   "source": [
    "mod_df.shape"
   ]
  },
  {
   "cell_type": "code",
   "execution_count": 107,
   "id": "c2479444",
   "metadata": {},
   "outputs": [
    {
     "data": {
      "text/plain": [
       "Index(['Year', 'Age', 'Month', 'Size', 'Sale_Type', 'Retail Brand',\n",
       "       'Collection', 'in lieu of Juneteenth', 'Black Friday', 'Christmas Day',\n",
       "       'Columbus Day', 'Independence Day', 'Juneteenth', 'Labor Day',\n",
       "       'Martin Luther King, Jr.', 'Memorial Day', 'New Year's Day',\n",
       "       'Presidents' Day', 'Thanksgiving Day', 'Veterans Day', 'Gross Units',\n",
       "       'pre_month_sales1', 'pre_month_sales2', 'pre_month_sales3', 'CA King',\n",
       "       'CAL KING', 'Countour', 'Full', 'King', 'Queen', 'SPLIT CAL KING',\n",
       "       'SPLIT KING', 'Standard', 'Twin', 'Twin XL', 'Comfort Revolution',\n",
       "       'Sealy', 'Stearns & Foster', 'Tempur-Pedic'],\n",
       "      dtype='object')"
      ]
     },
     "execution_count": 107,
     "metadata": {},
     "output_type": "execute_result"
    }
   ],
   "source": [
    "train_df2.columns"
   ]
  },
  {
   "cell_type": "code",
   "execution_count": 110,
   "id": "05bca0b4",
   "metadata": {},
   "outputs": [],
   "source": [
    "# Train test split\n",
    "train_df2 = mod_df.head(3000)\n",
    "test_df2 = mod_df.tail(677)"
   ]
  },
  {
   "cell_type": "code",
   "execution_count": 111,
   "id": "a7011eb8",
   "metadata": {},
   "outputs": [],
   "source": [
    "# predictor variables\n",
    "predictors = ['Age', 'Month', 'Sale_Type', 'Collection', 'in lieu of Juneteenth', 'Black Friday', 'Christmas Day',\n",
    "       'Columbus Day', 'Independence Day', 'Juneteenth', 'Labor Day',\n",
    "       'Martin Luther King, Jr.', 'Memorial Day', \"New Year's Day\",\n",
    "       \"Presidents' Day\", 'Thanksgiving Day', 'Veterans Day', 'pre_month_sales1', 'pre_month_sales2', 'pre_month_sales3', 'CA King',\n",
    "       'CAL KING', 'Countour', 'Full', 'King', 'Queen', 'SPLIT CAL KING',\n",
    "       'SPLIT KING', 'Standard', 'Twin', 'Twin XL', 'Comfort Revolution', 'Sealy', 'Stearns & Foster', 'Tempur-Pedic']"
   ]
  },
  {
   "cell_type": "code",
   "execution_count": 112,
   "id": "145da909",
   "metadata": {},
   "outputs": [],
   "source": [
    "train_x, train_y = train_df2[predictors], train_df2['Gross Units']\n",
    "test_x, test_y = train_df2[predictors], train_df2['Gross Units']"
   ]
  },
  {
   "cell_type": "code",
   "execution_count": 116,
   "id": "50f50040",
   "metadata": {},
   "outputs": [],
   "source": [
    "# Sk-learn Model\n",
    "reg = LinearRegression().fit(train_x, train_y)\n",
    "\n",
    "r2 = reg.score(train_x, train_y)\n",
    "pred = reg.predict(test_x)\n",
    "    \n",
    "#     Metrics\n",
    "rmse = np.sqrt(mean_squared_error(test_y, pred))\n",
    "\n",
    "test_x['Actual'] = test_y\n",
    "test_x['Predicted'] = np.round(pred, 2)"
   ]
  },
  {
   "cell_type": "code",
   "execution_count": 120,
   "id": "bdb6bdcf",
   "metadata": {},
   "outputs": [
    {
     "name": "stdout",
     "output_type": "stream",
     "text": [
      "R-Square:  0.3020792934375537\n",
      "RMSE:  0.8655972366303168\n"
     ]
    }
   ],
   "source": [
    "print(\"R-Square: \", r2)\n",
    "print(\"RMSE: \", rmse)"
   ]
  },
  {
   "cell_type": "code",
   "execution_count": 121,
   "id": "97ad93b9",
   "metadata": {},
   "outputs": [
    {
     "data": {
      "image/png": "[encoded data removed]",
      "text/plain": [
       "<Figure size 576x504 with 1 Axes>"
      ]
     },
     "metadata": {
      "needs_background": "light"
     },
     "output_type": "display_data"
    }
   ],
   "source": [
    "plt.figure(figsize=(8,7))\n",
    "plt.scatter(test_x['Actual'], test_x['Predicted'])\n",
    "plt.xlabel(\"Actual\")\n",
    "plt.ylabel('Predicted')\n",
    "plt.show()"
   ]
  },
  {
   "cell_type": "code",
   "execution_count": 126,
   "id": "2b361fb2",
   "metadata": {},
   "outputs": [
    {
     "data": {
      "text/plain": [
       "<AxesSubplot:xlabel='Gross Units', ylabel='Collection'>"
      ]
     },
     "execution_count": 126,
     "metadata": {},
     "output_type": "execute_result"
    },
    {
     "data": {
      "image/png": "[encoded data removed]",
      "text/plain": [
       "<Figure size 1080x360 with 1 Axes>"
      ]
     },
     "metadata": {
      "needs_background": "light"
     },
     "output_type": "display_data"
    }
   ],
   "source": [
    "\n",
    "plt.figure(figsize=(15,5))\n",
    "sns.boxplot(data=grp_df2, x=\"Gross Units\", y=\"Collection\")"
   ]
  },
  {
   "cell_type": "code",
   "execution_count": null,
   "id": "ed98e2d7",
   "metadata": {},
   "outputs": [],
   "source": []
  }
 ],
 "metadata": {
  "kernelspec": {
   "display_name": "Python 3 (ipykernel)",
   "language": "python",
   "name": "python3"
  },
  "language_info": {
   "codemirror_mode": {
    "name": "ipython",
    "version": 3
   },
   "file_extension": ".py",
   "mimetype": "text/x-python",
   "name": "python",
   "nbconvert_exporter": "python",
   "pygments_lexer": "ipython3",
   "version": "3.9.12"
  }
 },
 "nbformat": 4,
 "nbformat_minor": 5
}
